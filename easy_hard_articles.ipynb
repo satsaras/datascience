{
  "nbformat": 4,
  "nbformat_minor": 0,
  "metadata": {
    "colab": {
      "name": "Untitled1.ipynb",
      "version": "0.3.2",
      "provenance": [],
      "include_colab_link": true
    },
    "kernelspec": {
      "name": "python3",
      "display_name": "Python 3"
    }
  },
  "cells": [
    {
      "cell_type": "markdown",
      "metadata": {
        "id": "view-in-github",
        "colab_type": "text"
      },
      "source": [
        "<a href=\"https://colab.research.google.com/github/satsaras/datascience/blob/master/easy_hard_articles.ipynb\" target=\"_parent\"><img src=\"https://colab.research.google.com/assets/colab-badge.svg\" alt=\"Open In Colab\"/></a>"
      ]
    },
    {
      "cell_type": "code",
      "metadata": {
        "id": "r9t4rcsbIzTl",
        "colab_type": "code",
        "colab": {}
      },
      "source": [
        "import pickle\n",
        "import re\n",
        "from sklearn.feature_extraction.text import CountVectorizer\n",
        "import pandas as pd\n",
        "import matplotlib.pyplot as plt\n",
        "from sklearn.model_selection import train_test_split\n",
        "from sklearn.linear_model import LogisticRegression\n",
        "from sklearn.naive_bayes import MultinomialNB\n",
        "from sklearn.metrics import roc_curve, auc\n",
        "%matplotlib inline\n",
        "from sklearn import model_selection, preprocessing, linear_model, naive_bayes, metrics, svm\n",
        "from sklearn.feature_extraction.text import TfidfVectorizer, CountVectorizer\n",
        "from sklearn import decomposition, ensemble\n",
        "import numpy as np\n",
        "import en_core_web_md\n",
        "nlp = en_core_web_md.load()\n",
        "from yellowbrick.text import FreqDistVisualizer\n",
        "import json\n",
        "from sklearn.svm import OneClassSVM\n",
        "import pandas as pd"
      ],
      "execution_count": 0,
      "outputs": []
    },
    {
      "cell_type": "code",
      "metadata": {
        "id": "ufLWdG5LuA1t",
        "colab_type": "code",
        "colab": {
          "base_uri": "https://localhost:8080/",
          "height": 51
        },
        "outputId": "5dd671e2-eacc-4ef8-e248-e47226d79ddf"
      },
      "source": [
        "import spacy.cli\n",
        "spacy.cli.download(\"en_core_web_md\")"
      ],
      "execution_count": 2,
      "outputs": [
        {
          "output_type": "stream",
          "text": [
            "\u001b[38;5;2m✔ Download and installation successful\u001b[0m\n",
            "You can now load the model via spacy.load('en_core_web_md')\n"
          ],
          "name": "stdout"
        }
      ]
    },
    {
      "cell_type": "code",
      "metadata": {
        "id": "XO1YTj1HJIbx",
        "colab_type": "code",
        "outputId": "df217956-4034-48c7-af14-a931d3cadd4c",
        "colab": {
          "base_uri": "https://localhost:8080/",
          "height": 346
        }
      },
      "source": [
        "from google.colab import files\n",
        "uploaded = files.upload()"
      ],
      "execution_count": 9,
      "outputs": [
        {
          "output_type": "display_data",
          "data": {
            "text/html": [
              "\n",
              "     <input type=\"file\" id=\"files-fb3cc5aa-7943-45ac-a2c0-9a24d737dc24\" name=\"files[]\" multiple disabled />\n",
              "     <output id=\"result-fb3cc5aa-7943-45ac-a2c0-9a24d737dc24\">\n",
              "      Upload widget is only available when the cell has been executed in the\n",
              "      current browser session. Please rerun this cell to enable.\n",
              "      </output>\n",
              "      <script src=\"/nbextensions/google.colab/files.js\"></script> "
            ],
            "text/plain": [
              "<IPython.core.display.HTML object>"
            ]
          },
          "metadata": {
            "tags": []
          }
        },
        {
          "output_type": "error",
          "ename": "MessageError",
          "evalue": "ignored",
          "traceback": [
            "\u001b[0;31m---------------------------------------------------------------------------\u001b[0m",
            "\u001b[0;31mMessageError\u001b[0m                              Traceback (most recent call last)",
            "\u001b[0;32m<ipython-input-9-21dc3c638f66>\u001b[0m in \u001b[0;36m<module>\u001b[0;34m()\u001b[0m\n\u001b[1;32m      1\u001b[0m \u001b[0;32mfrom\u001b[0m \u001b[0mgoogle\u001b[0m\u001b[0;34m.\u001b[0m\u001b[0mcolab\u001b[0m \u001b[0;32mimport\u001b[0m \u001b[0mfiles\u001b[0m\u001b[0;34m\u001b[0m\u001b[0;34m\u001b[0m\u001b[0m\n\u001b[0;32m----> 2\u001b[0;31m \u001b[0muploaded\u001b[0m \u001b[0;34m=\u001b[0m \u001b[0mfiles\u001b[0m\u001b[0;34m.\u001b[0m\u001b[0mupload\u001b[0m\u001b[0;34m(\u001b[0m\u001b[0;34m)\u001b[0m\u001b[0;34m\u001b[0m\u001b[0;34m\u001b[0m\u001b[0m\n\u001b[0m",
            "\u001b[0;32m/usr/local/lib/python3.6/dist-packages/google/colab/files.py\u001b[0m in \u001b[0;36mupload\u001b[0;34m()\u001b[0m\n\u001b[1;32m     62\u001b[0m   result = _output.eval_js(\n\u001b[1;32m     63\u001b[0m       'google.colab._files._uploadFiles(\"{input_id}\", \"{output_id}\")'.format(\n\u001b[0;32m---> 64\u001b[0;31m           input_id=input_id, output_id=output_id))\n\u001b[0m\u001b[1;32m     65\u001b[0m   \u001b[0mfiles\u001b[0m \u001b[0;34m=\u001b[0m \u001b[0m_collections\u001b[0m\u001b[0;34m.\u001b[0m\u001b[0mdefaultdict\u001b[0m\u001b[0;34m(\u001b[0m\u001b[0m_six\u001b[0m\u001b[0;34m.\u001b[0m\u001b[0mbinary_type\u001b[0m\u001b[0;34m)\u001b[0m\u001b[0;34m\u001b[0m\u001b[0;34m\u001b[0m\u001b[0m\n\u001b[1;32m     66\u001b[0m   \u001b[0;31m# Mapping from original filename to filename as saved locally.\u001b[0m\u001b[0;34m\u001b[0m\u001b[0;34m\u001b[0m\u001b[0;34m\u001b[0m\u001b[0m\n",
            "\u001b[0;32m/usr/local/lib/python3.6/dist-packages/google/colab/output/_js.py\u001b[0m in \u001b[0;36meval_js\u001b[0;34m(script, ignore_result)\u001b[0m\n\u001b[1;32m     37\u001b[0m   \u001b[0;32mif\u001b[0m \u001b[0mignore_result\u001b[0m\u001b[0;34m:\u001b[0m\u001b[0;34m\u001b[0m\u001b[0;34m\u001b[0m\u001b[0m\n\u001b[1;32m     38\u001b[0m     \u001b[0;32mreturn\u001b[0m\u001b[0;34m\u001b[0m\u001b[0;34m\u001b[0m\u001b[0m\n\u001b[0;32m---> 39\u001b[0;31m   \u001b[0;32mreturn\u001b[0m \u001b[0m_message\u001b[0m\u001b[0;34m.\u001b[0m\u001b[0mread_reply_from_input\u001b[0m\u001b[0;34m(\u001b[0m\u001b[0mrequest_id\u001b[0m\u001b[0;34m)\u001b[0m\u001b[0;34m\u001b[0m\u001b[0;34m\u001b[0m\u001b[0m\n\u001b[0m\u001b[1;32m     40\u001b[0m \u001b[0;34m\u001b[0m\u001b[0m\n\u001b[1;32m     41\u001b[0m \u001b[0;34m\u001b[0m\u001b[0m\n",
            "\u001b[0;32m/usr/local/lib/python3.6/dist-packages/google/colab/_message.py\u001b[0m in \u001b[0;36mread_reply_from_input\u001b[0;34m(message_id, timeout_sec)\u001b[0m\n\u001b[1;32m    104\u001b[0m         reply.get('colab_msg_id') == message_id):\n\u001b[1;32m    105\u001b[0m       \u001b[0;32mif\u001b[0m \u001b[0;34m'error'\u001b[0m \u001b[0;32min\u001b[0m \u001b[0mreply\u001b[0m\u001b[0;34m:\u001b[0m\u001b[0;34m\u001b[0m\u001b[0;34m\u001b[0m\u001b[0m\n\u001b[0;32m--> 106\u001b[0;31m         \u001b[0;32mraise\u001b[0m \u001b[0mMessageError\u001b[0m\u001b[0;34m(\u001b[0m\u001b[0mreply\u001b[0m\u001b[0;34m[\u001b[0m\u001b[0;34m'error'\u001b[0m\u001b[0;34m]\u001b[0m\u001b[0;34m)\u001b[0m\u001b[0;34m\u001b[0m\u001b[0;34m\u001b[0m\u001b[0m\n\u001b[0m\u001b[1;32m    107\u001b[0m       \u001b[0;32mreturn\u001b[0m \u001b[0mreply\u001b[0m\u001b[0;34m.\u001b[0m\u001b[0mget\u001b[0m\u001b[0;34m(\u001b[0m\u001b[0;34m'data'\u001b[0m\u001b[0;34m,\u001b[0m \u001b[0;32mNone\u001b[0m\u001b[0;34m)\u001b[0m\u001b[0;34m\u001b[0m\u001b[0;34m\u001b[0m\u001b[0m\n\u001b[1;32m    108\u001b[0m \u001b[0;34m\u001b[0m\u001b[0m\n",
            "\u001b[0;31mMessageError\u001b[0m: TypeError: Cannot read property '_uploadFiles' of undefined"
          ]
        }
      ]
    },
    {
      "cell_type": "code",
      "metadata": {
        "id": "-0TXJ3-ZM5Yk",
        "colab_type": "code",
        "colab": {}
      },
      "source": [
        "from nltk.corpus import stopwords\n",
        "stop = stopwords.words('english')"
      ],
      "execution_count": 0,
      "outputs": []
    },
    {
      "cell_type": "code",
      "metadata": {
        "id": "WPP-V5ciVfyz",
        "colab_type": "code",
        "colab": {
          "base_uri": "https://localhost:8080/",
          "height": 68
        },
        "outputId": "e31a892f-1329-4ce3-8b15-0db42f466645"
      },
      "source": [
        "import nltk\n",
        "nltk.download('stopwords')"
      ],
      "execution_count": 3,
      "outputs": [
        {
          "output_type": "stream",
          "text": [
            "[nltk_data] Downloading package stopwords to /root/nltk_data...\n",
            "[nltk_data]   Unzipping corpora/stopwords.zip.\n"
          ],
          "name": "stdout"
        },
        {
          "output_type": "execute_result",
          "data": {
            "text/plain": [
              "True"
            ]
          },
          "metadata": {
            "tags": []
          },
          "execution_count": 3
        }
      ]
    },
    {
      "cell_type": "code",
      "metadata": {
        "id": "nHMpaQ0P78Au",
        "colab_type": "code",
        "colab": {}
      },
      "source": [
        "with open('drive/My Drive/Data/Cochrane 5029 articles.pkl','rb') as f:\n",
        "    data=pickle.load(f)"
      ],
      "execution_count": 0,
      "outputs": []
    },
    {
      "cell_type": "code",
      "metadata": {
        "id": "ZuKuoAoG8Mb0",
        "colab_type": "code",
        "colab": {}
      },
      "source": [
        "from google.colab import drive"
      ],
      "execution_count": 0,
      "outputs": []
    },
    {
      "cell_type": "code",
      "metadata": {
        "id": "c5C7L8Ur-e36",
        "colab_type": "code",
        "colab": {
          "base_uri": "https://localhost:8080/",
          "height": 122
        },
        "outputId": "9412a2b7-2a79-48d6-fd0c-8a355c7057f0"
      },
      "source": [
        "drive.mount('/content/drive')"
      ],
      "execution_count": 7,
      "outputs": [
        {
          "output_type": "stream",
          "text": [
            "Go to this URL in a browser: https://accounts.google.com/o/oauth2/auth?client_id=947318989803-6bn6qk8qdgf4n4g3pfee6491hc0brc4i.apps.googleusercontent.com&redirect_uri=urn%3Aietf%3Awg%3Aoauth%3A2.0%3Aoob&scope=email%20https%3A%2F%2Fwww.googleapis.com%2Fauth%2Fdocs.test%20https%3A%2F%2Fwww.googleapis.com%2Fauth%2Fdrive%20https%3A%2F%2Fwww.googleapis.com%2Fauth%2Fdrive.photos.readonly%20https%3A%2F%2Fwww.googleapis.com%2Fauth%2Fpeopleapi.readonly&response_type=code\n",
            "\n",
            "Enter your authorization code:\n",
            "··········\n",
            "Mounted at /content/drive\n"
          ],
          "name": "stdout"
        }
      ]
    },
    {
      "cell_type": "code",
      "metadata": {
        "id": "P_SI4SXI-ocg",
        "colab_type": "code",
        "colab": {
          "base_uri": "https://localhost:8080/",
          "height": 34
        },
        "outputId": "661465f9-3c58-4ecc-ca68-15535b02545e"
      },
      "source": [
        "!ls \"drive/My Drive/Data\""
      ],
      "execution_count": 29,
      "outputs": [
        {
          "output_type": "stream",
          "text": [
            "'Cochrane 5029 articles.pkl'  'Cochrane 557 articles.pkl'\n"
          ],
          "name": "stdout"
        }
      ]
    },
    {
      "cell_type": "code",
      "metadata": {
        "id": "lwF_rdSx_K_L",
        "colab_type": "code",
        "colab": {
          "base_uri": "https://localhost:8080/",
          "height": 51
        },
        "outputId": "36394282-6d5f-43e1-aabb-1a8af9d50675"
      },
      "source": [
        "import spacy.cli\n",
        "spacy.cli.download(\"en_core_web_md\")"
      ],
      "execution_count": 1,
      "outputs": [
        {
          "output_type": "stream",
          "text": [
            "\u001b[38;5;2m✔ Download and installation successful\u001b[0m\n",
            "You can now load the model via spacy.load('en_core_web_md')\n"
          ],
          "name": "stdout"
        }
      ]
    },
    {
      "cell_type": "code",
      "metadata": {
        "id": "YN7o4rQ5xxpF",
        "colab_type": "code",
        "colab": {}
      },
      "source": [
        "medical_stopwords=['participant',\n",
        "'treatment',\n",
        " 'compare',\n",
        " 'effect',\n",
        " 'quality',\n",
        " 'risk', \n",
        " 'low', \n",
        " 'outcome', \n",
        " 'people', \n",
        " 'intervention', \n",
        " 'report', \n",
        " 'search', \n",
        " 'difference', \n",
        " 'group', \n",
        " 'datum', \n",
        " 'control', \n",
        " 'assess', \n",
        " 'patient', \n",
        " 'woman', \n",
        " 'adverse', \n",
        " 'analysis', \n",
        " 'reduce', \n",
        " 'placebo', \n",
        " 'high', \n",
        " 'bias', \n",
        " 'pain', \n",
        " 'child', \n",
        " 'therapy', \n",
        " 'method', \n",
        " 'event', \n",
        " 'conclusion', \n",
        " 'clinical',\n",
        " 'disease', \n",
        " 'increase', \n",
        " 'author', \n",
        " 'drug', \n",
        " 'rate', \n",
        " 'criterion', \n",
        " 'number', \n",
        " 'follow', \n",
        " 'need', \n",
        " 'care', \n",
        " 'improve', \n",
        " 'different', \n",
        " 'background', \n",
        " 'identify', \n",
        " 'blood', \n",
        " 'rct', \n",
        " 'surgery', \n",
        " 'treat', \n",
        " 'year', \n",
        " 'benefit', \n",
        " 'selection', \n",
        " 'small', \n",
        " 'month', \n",
        " 'mean', \n",
        " 'significant', \n",
        " 'life', \n",
        " 'adult', \n",
        " 'collection', \n",
        " 'moderate', \n",
        " 'type', \n",
        " 'effective', \n",
        " 'receive', \n",
        " 'cause', \n",
        " 'infant', \n",
        " 'provide', \n",
        " 'evaluate',\n",
        " 'measure',\n",
        " 'symptom',\n",
        " 'day',\n",
        " 'time',\n",
        " 'confidence',\n",
        " 'week',\n",
        " 'overall',\n",
        " 'prevent',\n",
        " 'primary',\n",
        " 'antibiotic',\n",
        " 'health',\n",
        " 'age',\n",
        " 'interval',\n",
        " 'comparison',\n",
        " 'independently',\n",
        " 'death',\n",
        " 'standard',\n",
        " 'term',\n",
        " 'involve',\n",
        " 'associate',\n",
        " 'update',\n",
        " 'randomised',\n",
        " 'available',\n",
        " 'non',\n",
        " 'effectiveness',\n",
        " 'birth',\n",
        " 'total',\n",
        " 'inclusion',\n",
        " 'certainty',\n",
        " 'suggest',\n",
        " 'randomise',\n",
        " 'extract',\n",
        " 'support',\n",
        " 'test',\n",
        " 'complication',\n",
        " 'ratio',\n",
        " 'relevant',\n",
        " 'exercise',\n",
        " 'base',\n",
        " 'information',\n",
        " 'oral',\n",
        " 'reduction',\n",
        " 'change',\n",
        " 'hospital',\n",
        " 'important',\n",
        " 'common',\n",
        " 'reference',\n",
        " 'level',\n",
        " 'publish',\n",
        " 'research',\n",
        " 'conduct',\n",
        " 'function',\n",
        " 'additional',\n",
        " 'make',\n",
        " 'acute',\n",
        " 'efficacy',\n",
        " 'determine',\n",
        " 'pressure',\n",
        " 'safety',\n",
        " 'improvement',\n",
        " 'combination',\n",
        " 'perform',\n",
        " 'surgical',\n",
        " 'medication',\n",
        " 'require',\n",
        " 'lead',\n",
        " 'early',\n",
        " 'consider',\n",
        " 'question',\n",
        " 'finding',\n",
        " 'key',\n",
        " 'range',\n",
        " 'duration',\n",
        " 'database',\n",
        " 'unclear',\n",
        " 'clear',\n",
        " 'characteristic',\n",
        " 'condition',\n",
        " 'cell',\n",
        " 'dose',\n",
        " 'issue',\n",
        " 'uncertain',\n",
        " 'severe',\n",
        " 'problem',\n",
        " 'large',\n",
        " 'list',\n",
        " 'aim',\n",
        " 'individual',\n",
        " 'design',\n",
        " 'current',\n",
        " 'procedure',\n",
        " 'long',\n",
        " 'score',\n",
        " 'affect',\n",
        " 'help',\n",
        " 'possible',\n",
        " 'contact',\n",
        " 'secondary',\n",
        " 'date',\n",
        " 'harm',\n",
        " 'likely',\n",
        " 'develop',\n",
        " 'preterm',\n",
        " 'assessment',\n",
        " 'stroke',\n",
        " 'agent',\n",
        " 'know',\n",
        " 'new',\n",
        " 'good',\n",
        " 'disorder',\n",
        " 'management',\n",
        " 'combine',\n",
        " 'methodological',\n",
        " 'strategy',\n",
        " 'survival',\n",
        " 'experience',\n",
        " 'insufficient',\n",
        " 'heart',\n",
        " 'similar',\n",
        " 'significantly',\n",
        " 'little',\n",
        " 'technique',\n",
        " 'approach',\n",
        " 'incidence',\n",
        " 'regard',\n",
        " 'estimate',\n",
        " 'examine',\n",
        " 'remain',\n",
        " 'activity',\n",
        " 'training',\n",
        " 'occur',\n",
        " 'failure',\n",
        " 'investigate',\n",
        " 'single',\n",
        " 'medical',\n",
        " 'undergo',\n",
        " 'work',\n",
        " 'mg',\n",
        " 'lack',\n",
        " 'physical',\n",
        " 'loss',\n",
        " 'major',\n",
        " 'seizure',\n",
        " 'population',\n",
        " 'form',\n",
        " 'heterogeneity',\n",
        " 'weight',\n",
        " 'vitamin',\n",
        " 'decrease',\n",
        " 'setting',\n",
        " 'body',\n",
        " 'short',\n",
        " 'present',\n",
        " 'size',\n",
        " 'main',\n",
        " 'limited',\n",
        " 'period',\n",
        " 'impact',\n",
        " 'active',\n",
        " 'eligible',\n",
        " 'ongoing',\n",
        " 'look',\n",
        " 'cost',\n",
        " 'usual',\n",
        " 'injury',\n",
        " 'case',\n",
        " 'practice',\n",
        " 'medicine',\n",
        " 'potential',\n",
        " 'beneficial',\n",
        " 'hour',\n",
        " 'meet',\n",
        " 'prevention',\n",
        " 'factor',\n",
        " 'country',\n",
        " 'systematic',\n",
        " 'probably',\n",
        " 'acid',\n",
        " 'model',\n",
        " 'statistically',\n",
        " 'programme',\n",
        " 'great',\n",
        " 'language',\n",
        " 'appear',\n",
        " 'pool',\n",
        " 'addition',\n",
        " 'stay',\n",
        " 'future',\n",
        " 'labour',\n",
        " 'point',\n",
        " 'morbidity',\n",
        " 'wound',\n",
        " 'limit',\n",
        " 'exclude',\n",
        " 'healthcare',\n",
        " 'daily',\n",
        " 'clinically',\n",
        " 'add',\n",
        " 'diagnosis',\n",
        " 'poor',\n",
        " 'average',\n",
        " 'way',\n",
        " 'old',\n",
        " 'recommend',\n",
        " 'article',\n",
        " 'scale',\n",
        " 'general',\n",
        "  'study','include','trial','result','evidence','use','review','abstract','objective','conclusion']"
      ],
      "execution_count": 0,
      "outputs": []
    },
    {
      "cell_type": "code",
      "metadata": {
        "id": "KuqrCD8d0dJz",
        "colab_type": "code",
        "colab": {}
      },
      "source": [
        "difficult_Articles=pd.DataFrame(data.iloc[:,1])\n",
        "easy_Articles=pd.DataFrame(data.iloc[:,2])"
      ],
      "execution_count": 0,
      "outputs": []
    },
    {
      "cell_type": "code",
      "metadata": {
        "id": "SV5HKasC0jA2",
        "colab_type": "code",
        "colab": {}
      },
      "source": [
        "easy_Articles=easy_Articles.rename(columns={'Plain Language Summary':'Abstract'})"
      ],
      "execution_count": 0,
      "outputs": []
    },
    {
      "cell_type": "code",
      "metadata": {
        "id": "lH3wX7Iy0lbc",
        "colab_type": "code",
        "colab": {}
      },
      "source": [
        "easy_Articles['Is_Difficult']=0\n",
        "difficult_Articles['Is_Difficult']=1"
      ],
      "execution_count": 0,
      "outputs": []
    },
    {
      "cell_type": "code",
      "metadata": {
        "id": "1eivJ_mP0nDO",
        "colab_type": "code",
        "colab": {}
      },
      "source": [
        "full_Articles=difficult_Articles.append(easy_Articles)"
      ],
      "execution_count": 0,
      "outputs": []
    },
    {
      "cell_type": "code",
      "metadata": {
        "id": "qP2BKxKsJXc-",
        "colab_type": "code",
        "colab": {
          "base_uri": "https://localhost:8080/",
          "height": 34
        },
        "outputId": "93d30a06-c421-40c7-9001-5c5f636fe670"
      },
      "source": [
        "full_Articles.shape"
      ],
      "execution_count": 14,
      "outputs": [
        {
          "output_type": "execute_result",
          "data": {
            "text/plain": [
              "(10058, 2)"
            ]
          },
          "metadata": {
            "tags": []
          },
          "execution_count": 14
        }
      ]
    },
    {
      "cell_type": "code",
      "metadata": {
        "id": "BpBKiPZ60pmS",
        "colab_type": "code",
        "colab": {}
      },
      "source": [
        "def PreProcess_Article(df):\n",
        "    #Remove words bery specific to Difficult articles to reduce bias\n",
        "    df.iloc[:,0]=df.iloc[:,0].str.lower()\n",
        "    df.iloc[:,0] = [re.sub('background\\n',' ', i) for i in df.iloc[:,0]]\n",
        "    df.iloc[:,0] = [re.sub('main results\\n' ,' ', i) for i in df.iloc[:,0]]\n",
        "    df.iloc[:,0] = [re.sub('objectives\\n' ,' ', i) for i in df.iloc[:,0]]\n",
        "    df.iloc[:,0] = [re.sub('data collection and analysis\\n' ,' ', i) for i in df.iloc[:,0]]\n",
        "    df.iloc[:,0] = [re.sub(\"authors' conclusions\\n\" ,' ', i) for i in df.iloc[:,0]]\n",
        "    df.iloc[:,0] = [re.sub(\"selection criteria\\n\" ,' ', i) for i in df.iloc[:,0]]\n",
        "    df.iloc[:,0] = [re.sub(\"search methods\\n\" ,' ', i) for i in df.iloc[:,0]]\n",
        "    df.iloc[:,0] = [re.sub(\"key results\\n\" ,' ', i) for i in df.iloc[:,0]]\n",
        "    df.iloc[:,0] = [re.sub(\"certainty of evidence\\n\" ,' ', i) for i in df.iloc[:,0]]\n",
        "    df.iloc[:,0] = [re.sub(\"study characteristics\\n\" ,' ', i) for i in df.iloc[:,0]]\n",
        "    df.iloc[:,0] = [re.sub(\"review question\\n\" ,' ', i) for i in df.iloc[:,0]]\n",
        "    df.iloc[:,0] = [re.sub(\"conclusions\\n\" ,' ', i) for i in df.iloc[:,0]]\n",
        "    df.iloc[:,0] = [re.sub('\\n',' ', i) for i in df.iloc[:,0]]\n",
        "    #Remove digits and %\n",
        "    df.iloc[:,0] = [re.sub(r'\\d+',' ', i) for i in df.iloc[:,0]]\n",
        "    df.iloc[:,0] = [re.sub(r'%',' ', i) for i in df.iloc[:,0]]\n",
        "    df.iloc[:,0] = [re.sub(r'CI',' ', i) for i in df.iloc[:,0]]\n",
        "    df.iloc[:,0] = [re.sub(r'\\([^)]*\\)',' ', i) for i in df.iloc[:,0]]\n",
        "    df.iloc[:,0] = [re.sub(r'mg/dL',' ', i) for i in df.iloc[:,0]]\n",
        "    df.iloc[:,0] = [re.sub(r'I²',' ', i) for i in df.iloc[:,0]]\n",
        "    df.iloc[:,0] = [re.sub(r'P',' ', i) for i in df.iloc[:,0]]\n",
        "    # REmove special symbols\n",
        "    df.iloc[:,0] = [re.sub(r\"[#|\\.|_|\\^|\\$|\\&|=|;|,|‐|(|)|//]\",' ', i) for i in df.iloc[:,0]]\n",
        "    #Remove multiple spaces\n",
        "    df.iloc[:,0] = [re.sub(' +',' ', i) for i in df.iloc[:,0]]\n",
        "    df.iloc[:,0] = df.iloc[:,0].apply(lambda x: ' '.join([word for word in x.split() if word not in (stop)]))\n",
        "    df.iloc[:,0] = df.iloc[:,0].apply(lambda x: ' '.join([word for word in x.split() if word not in (medical_stopwords)]))\n",
        "    df.iloc[:,0]=lemmatization(df)\n",
        "    return(df)"
      ],
      "execution_count": 0,
      "outputs": []
    },
    {
      "cell_type": "code",
      "metadata": {
        "id": "r-HChDjM0sm8",
        "colab_type": "code",
        "colab": {}
      },
      "source": [
        "def Train_model(X,y):\n",
        "    lr = LogisticRegression()\n",
        "    lr.fit(X,y)\n",
        "\n",
        "    nb = MultinomialNB()\n",
        "    nb.fit(X,y)\n",
        "    return(lr,nb)"
      ],
      "execution_count": 0,
      "outputs": []
    },
    {
      "cell_type": "code",
      "metadata": {
        "id": "Y-iULUhV0us4",
        "colab_type": "code",
        "colab": {}
      },
      "source": [
        "def lemmatization(df, allowed_postags=['NOUN', 'ADJ', 'VERB', 'ADV']):\n",
        "    texts_out = []\n",
        "    for sent in df.iloc[:,0]:\n",
        "        doc = nlp(sent)\n",
        "        texts_out.append([token.lemma_ for token in doc if token.pos_ in allowed_postags])\n",
        "    for i in range(len(df)):\n",
        "        df.iloc[i,0]=\" \".join([word for word in texts_out[i]])\n",
        "    return(df.iloc[:,0])"
      ],
      "execution_count": 0,
      "outputs": []
    },
    {
      "cell_type": "code",
      "metadata": {
        "id": "4WAUmAKQ0xCy",
        "colab_type": "code",
        "colab": {}
      },
      "source": [
        "full_Articles=PreProcess_Article(pd.DataFrame(full_Articles))\n"
      ],
      "execution_count": 0,
      "outputs": []
    },
    {
      "cell_type": "code",
      "metadata": {
        "id": "B7bonRx_0zWi",
        "colab_type": "code",
        "colab": {
          "base_uri": "https://localhost:8080/",
          "height": 34
        },
        "outputId": "a1da463d-f80a-4cee-9b5d-e767aa512a5c"
      },
      "source": [
        "from keras.preprocessing.text import Tokenizer\n",
        "from keras.preprocessing.sequence import pad_sequences\n",
        "from keras.utils import to_categorical\n",
        "from keras.layers import Dense, Embedding, LSTM, SpatialDropout1D, GRU\n",
        "from keras.models import Sequential"
      ],
      "execution_count": 19,
      "outputs": [
        {
          "output_type": "stream",
          "text": [
            "Using TensorFlow backend.\n"
          ],
          "name": "stderr"
        }
      ]
    },
    {
      "cell_type": "code",
      "metadata": {
        "id": "fGTVdomi1gIa",
        "colab_type": "code",
        "colab": {}
      },
      "source": [
        "tokenizer=Tokenizer(num_words=5000)"
      ],
      "execution_count": 0,
      "outputs": []
    },
    {
      "cell_type": "code",
      "metadata": {
        "id": "QAnWpnXK3FkZ",
        "colab_type": "code",
        "colab": {}
      },
      "source": [
        "train_data,test_data = train_test_split(full_Articles,train_size=0.7,random_state=0)\n"
      ],
      "execution_count": 0,
      "outputs": []
    },
    {
      "cell_type": "code",
      "metadata": {
        "id": "woFU0MWl272M",
        "colab_type": "code",
        "colab": {}
      },
      "source": [
        "X_LSTM=train_data['Abstract']\n",
        "tokenizer.fit_on_texts(list(train_data['Abstract']))"
      ],
      "execution_count": 0,
      "outputs": []
    },
    {
      "cell_type": "code",
      "metadata": {
        "id": "GXRWiZl_2-9y",
        "colab_type": "code",
        "colab": {}
      },
      "source": [
        "X_LSTM = tokenizer.texts_to_sequences(X_LSTM)\n",
        "X_LSTM = pad_sequences(X_LSTM, maxlen=5000)\n",
        "Y=to_categorical(y)\n",
        "test_X = tokenizer.texts_to_sequences(test_data['Abstract'])\n",
        "test_X = pad_sequences(test_X, maxlen=5000)"
      ],
      "execution_count": 0,
      "outputs": []
    },
    {
      "cell_type": "code",
      "metadata": {
        "id": "BmBu5Qj93XBJ",
        "colab_type": "code",
        "colab": {}
      },
      "source": [
        "y = train_data['Is_Difficult']"
      ],
      "execution_count": 0,
      "outputs": []
    },
    {
      "cell_type": "code",
      "metadata": {
        "id": "JMX_dimn49EE",
        "colab_type": "code",
        "colab": {}
      },
      "source": [
        "X_train, X_val, Y_train, Y_val = train_test_split(X_LSTM, Y, test_size=0.25, random_state=0)"
      ],
      "execution_count": 0,
      "outputs": []
    },
    {
      "cell_type": "code",
      "metadata": {
        "id": "kqPkw5vr9Amc",
        "colab_type": "code",
        "colab": {}
      },
      "source": [
        "\n",
        "embeddings_idx={}\n",
        "f=open(\"drive/My Drive/Data/glove.6B.50d.txt\", \"r\")\n",
        "for line in f:\n",
        "    values=line.split()\n",
        "    word=values[0]\n",
        "    coefs=np.asarray(values[1:],dtype='float32')\n",
        "    embeddings_idx[word]=coefs\n",
        "f.close()"
      ],
      "execution_count": 0,
      "outputs": []
    },
    {
      "cell_type": "code",
      "metadata": {
        "id": "9Ow6Ednj9iAj",
        "colab_type": "code",
        "colab": {}
      },
      "source": [
        "embedding_dim=50\n",
        "total_words=5000\n",
        "i=0\n",
        "embedding_matrix=np.zeros((total_words,embedding_dim))\n",
        "for word in tokenizer.word_index.keys():\n",
        "    if i<total_words:\n",
        "        embedding_vec=embeddings_idx.get(word)\n",
        "        if embedding_vec is not None:\n",
        "            embedding_matrix[i]=embedding_vec\n",
        "    i+=1\n"
      ],
      "execution_count": 0,
      "outputs": []
    },
    {
      "cell_type": "code",
      "metadata": {
        "id": "OFmOmJO59wbv",
        "colab_type": "code",
        "colab": {
          "base_uri": "https://localhost:8080/",
          "height": 581
        },
        "outputId": "46a699ee-e7d9-40ea-915b-2489e6f942ae"
      },
      "source": [
        "model=Sequential()\n",
        "model.add(Embedding(total_words, embedding_dim, input_length=5000))\n",
        "model.add(SpatialDropout1D(0.4))\n",
        "model.add(GRU(196))\n",
        "model.add(Dense(2, activation='softmax'))\n",
        "print(model.summary())\n",
        "model.compile(loss='categorical_crossentropy', \n",
        "             optimizer='adam', \n",
        "             metrics=['accuracy'])"
      ],
      "execution_count": 28,
      "outputs": [
        {
          "output_type": "stream",
          "text": [
            "WARNING:tensorflow:From /usr/local/lib/python3.6/dist-packages/keras/backend/tensorflow_backend.py:66: The name tf.get_default_graph is deprecated. Please use tf.compat.v1.get_default_graph instead.\n",
            "\n",
            "WARNING:tensorflow:From /usr/local/lib/python3.6/dist-packages/keras/backend/tensorflow_backend.py:541: The name tf.placeholder is deprecated. Please use tf.compat.v1.placeholder instead.\n",
            "\n",
            "WARNING:tensorflow:From /usr/local/lib/python3.6/dist-packages/keras/backend/tensorflow_backend.py:4432: The name tf.random_uniform is deprecated. Please use tf.random.uniform instead.\n",
            "\n",
            "WARNING:tensorflow:From /usr/local/lib/python3.6/dist-packages/keras/backend/tensorflow_backend.py:148: The name tf.placeholder_with_default is deprecated. Please use tf.compat.v1.placeholder_with_default instead.\n",
            "\n",
            "WARNING:tensorflow:From /usr/local/lib/python3.6/dist-packages/keras/backend/tensorflow_backend.py:3733: calling dropout (from tensorflow.python.ops.nn_ops) with keep_prob is deprecated and will be removed in a future version.\n",
            "Instructions for updating:\n",
            "Please use `rate` instead of `keep_prob`. Rate should be set to `rate = 1 - keep_prob`.\n",
            "Model: \"sequential_1\"\n",
            "_________________________________________________________________\n",
            "Layer (type)                 Output Shape              Param #   \n",
            "=================================================================\n",
            "embedding_1 (Embedding)      (None, 5000, 50)          250000    \n",
            "_________________________________________________________________\n",
            "spatial_dropout1d_1 (Spatial (None, 5000, 50)          0         \n",
            "_________________________________________________________________\n",
            "gru_1 (GRU)                  (None, 196)               145236    \n",
            "_________________________________________________________________\n",
            "dense_1 (Dense)              (None, 2)                 394       \n",
            "=================================================================\n",
            "Total params: 395,630\n",
            "Trainable params: 395,630\n",
            "Non-trainable params: 0\n",
            "_________________________________________________________________\n",
            "None\n",
            "WARNING:tensorflow:From /usr/local/lib/python3.6/dist-packages/keras/optimizers.py:793: The name tf.train.Optimizer is deprecated. Please use tf.compat.v1.train.Optimizer instead.\n",
            "\n",
            "WARNING:tensorflow:From /usr/local/lib/python3.6/dist-packages/keras/backend/tensorflow_backend.py:3576: The name tf.log is deprecated. Please use tf.math.log instead.\n",
            "\n"
          ],
          "name": "stdout"
        }
      ]
    },
    {
      "cell_type": "code",
      "metadata": {
        "id": "JZ5_bC0mCZvn",
        "colab_type": "code",
        "colab": {
          "base_uri": "https://localhost:8080/",
          "height": 139
        },
        "outputId": "601287ea-8baf-4a6a-8413-81da4b04cf3e"
      },
      "source": [
        "batch_size = 100\n",
        "model.fit(X_train, Y_train, epochs = 5, batch_size=batch_size,validation_data=(X_val,Y_val))"
      ],
      "execution_count": 0,
      "outputs": [
        {
          "output_type": "stream",
          "text": [
            "WARNING:tensorflow:From /usr/local/lib/python3.6/dist-packages/tensorflow/python/ops/math_grad.py:1250: add_dispatch_support.<locals>.wrapper (from tensorflow.python.ops.array_ops) is deprecated and will be removed in a future version.\n",
            "Instructions for updating:\n",
            "Use tf.where in 2.0, which has the same broadcast rule as np.where\n",
            "Train on 5280 samples, validate on 1760 samples\n",
            "Epoch 1/5\n",
            "1300/5280 [======>.......................] - ETA: 14:39 - loss: 0.6918 - acc: 0.5177"
          ],
          "name": "stdout"
        }
      ]
    },
    {
      "cell_type": "code",
      "metadata": {
        "id": "qZAsWyjaCdQS",
        "colab_type": "code",
        "colab": {}
      },
      "source": [
        ""
      ],
      "execution_count": 0,
      "outputs": []
    }
  ]
}