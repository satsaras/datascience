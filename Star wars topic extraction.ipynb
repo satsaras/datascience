{
 "cells": [
  {
   "cell_type": "code",
   "execution_count": 1,
   "metadata": {},
   "outputs": [],
   "source": [
    "# Set no. of topics for LSA/LSI\n",
    "nTopics=8\n",
    "# No of maximal points to plot\n",
    "points=1000\n",
    "#set subject of analysis\n",
    "subject='Star Wards Ep IV'"
   ]
  },
  {
   "cell_type": "code",
   "execution_count": 46,
   "metadata": {},
   "outputs": [
    {
     "name": "stdout",
     "output_type": "stream",
     "text": [
      "['i', 'me', 'my', 'myself', 'we', 'our', 'ours', 'ourselves', 'you', \"you're\", \"you've\", \"you'll\", \"you'd\", 'your', 'yours', 'yourself', 'yourselves', 'he', 'him', 'his', 'himself', 'she', \"she's\", 'her', 'hers', 'herself', 'it', \"it's\", 'its', 'itself', 'they', 'them', 'their', 'theirs', 'themselves', 'what', 'which', 'who', 'whom', 'this', 'that', \"that'll\", 'these', 'those', 'am', 'is', 'are', 'was', 'were', 'be', 'been', 'being', 'have', 'has', 'had', 'having', 'do', 'does', 'did', 'doing', 'a', 'an', 'the', 'and', 'but', 'if', 'or', 'because', 'as', 'until', 'while', 'of', 'at', 'by', 'for', 'with', 'about', 'against', 'between', 'into', 'through', 'during', 'before', 'after', 'above', 'below', 'to', 'from', 'up', 'down', 'in', 'out', 'on', 'off', 'over', 'under', 'again', 'further', 'then', 'once', 'here', 'there', 'when', 'where', 'why', 'how', 'all', 'any', 'both', 'each', 'few', 'more', 'most', 'other', 'some', 'such', 'no', 'nor', 'not', 'only', 'own', 'same', 'so', 'than', 'too', 'very', 's', 't', 'can', 'will', 'just', 'don', \"don't\", 'should', \"should've\", 'now', 'd', 'll', 'm', 'o', 're', 've', 'y', 'ain', 'aren', \"aren't\", 'couldn', \"couldn't\", 'didn', \"didn't\", 'doesn', \"doesn't\", 'hadn', \"hadn't\", 'hasn', \"hasn't\", 'haven', \"haven't\", 'isn', \"isn't\", 'ma', 'mightn', \"mightn't\", 'mustn', \"mustn't\", 'needn', \"needn't\", 'shan', \"shan't\", 'shouldn', \"shouldn't\", 'wasn', \"wasn't\", 'weren', \"weren't\", 'won', \"won't\", 'wouldn', \"wouldn't\"]\n"
     ]
    }
   ],
   "source": [
    "#import libraries\n",
    "import pandas as pd\n",
    "import numpy as np\n",
    "import matplotlib.pyplot as plt\n",
    "from matplotlib.cm import get_cmap\n",
    "from matplotlib.colors import rgb2hex\n",
    "import seaborn as sns\n",
    "from sklearn.feature_extraction.text import CountVectorizer\n",
    "from sklearn.decomposition import TruncatedSVD\n",
    "from sklearn.decomposition import PCA\n",
    "from sklearn.decomposition import SparsePCA\n",
    "from sklearn.manifold import  TSNE\n",
    "from textblob import TextBlob\n",
    "from collections import Counter\n",
    "from nltk.corpus import stopwords\n",
    "stop = stopwords.words('english')\n",
    "print(stop)"
   ]
  },
  {
   "cell_type": "code",
   "execution_count": 48,
   "metadata": {},
   "outputs": [
    {
     "name": "stdout",
     "output_type": "stream",
     "text": [
      "DataFrame Shape: (1010, 2)\n"
     ]
    },
    {
     "data": {
      "text/html": [
       "<div>\n",
       "<style scoped>\n",
       "    .dataframe tbody tr th:only-of-type {\n",
       "        vertical-align: middle;\n",
       "    }\n",
       "\n",
       "    .dataframe tbody tr th {\n",
       "        vertical-align: top;\n",
       "    }\n",
       "\n",
       "    .dataframe thead th {\n",
       "        text-align: right;\n",
       "    }\n",
       "</style>\n",
       "<table border=\"1\" class=\"dataframe\">\n",
       "  <thead>\n",
       "    <tr style=\"text-align: right;\">\n",
       "      <th></th>\n",
       "      <th>character</th>\n",
       "      <th>text</th>\n",
       "    </tr>\n",
       "  </thead>\n",
       "  <tbody>\n",
       "    <tr>\n",
       "      <th>1</th>\n",
       "      <td>THREEPIO</td>\n",
       "      <td>Did you hear that?  They've shut down the main...</td>\n",
       "    </tr>\n",
       "    <tr>\n",
       "      <th>2</th>\n",
       "      <td>THREEPIO</td>\n",
       "      <td>We're doomed!</td>\n",
       "    </tr>\n",
       "    <tr>\n",
       "      <th>3</th>\n",
       "      <td>THREEPIO</td>\n",
       "      <td>There'll be no escape for the Princess this time.</td>\n",
       "    </tr>\n",
       "    <tr>\n",
       "      <th>4</th>\n",
       "      <td>THREEPIO</td>\n",
       "      <td>What's that?</td>\n",
       "    </tr>\n",
       "    <tr>\n",
       "      <th>5</th>\n",
       "      <td>THREEPIO</td>\n",
       "      <td>I should have known better than to trust the l...</td>\n",
       "    </tr>\n",
       "  </tbody>\n",
       "</table>\n",
       "</div>"
      ],
      "text/plain": [
       "  character                                               text\n",
       "1  THREEPIO  Did you hear that?  They've shut down the main...\n",
       "2  THREEPIO                                      We're doomed!\n",
       "3  THREEPIO  There'll be no escape for the Princess this time.\n",
       "4  THREEPIO                                       What's that?\n",
       "5  THREEPIO  I should have known better than to trust the l..."
      ]
     },
     "execution_count": 48,
     "metadata": {},
     "output_type": "execute_result"
    }
   ],
   "source": [
    "df=pd.read_table('kaggle/SW_EpisodeIV.txt',delim_whitespace=True,header=0,escapechar='\\\\').rename(columns={'dialogue':'text'}).dropna(subset=['text'], axis=0)\n",
    "print('DataFrame Shape: {}'.format(df.shape))\n",
    "df.head()"
   ]
  },
  {
   "cell_type": "code",
   "execution_count": 70,
   "metadata": {},
   "outputs": [],
   "source": [
    "countVectorizer=CountVectorizer(stop_words=stop)\n",
    "vectorizedText = countVectorizer.fit_transform(df['text'].str.replace(\"'\", '').values)"
   ]
  },
  {
   "cell_type": "code",
   "execution_count": 58,
   "metadata": {},
   "outputs": [],
   "source": [
    "n=20\n",
    "def nMostFrequentWords(n, countVectorizer, vectorizedText):\n",
    "    vectorizedCount = np.sum(vectorizedText, axis=0)\n",
    "    wordIndices = np.flip(np.argsort(vectorizedCount), 1)\n",
    "    wordCounts = np.flip(np.sort(vectorizedCount),1)\n",
    "\n",
    "# Create wordvectors to inverse-transform them\n",
    "    wordVectors = np.zeros((n, vectorizedText.shape[1]))\n",
    "    for i in range(n):\n",
    "        wordVectors[i, wordIndices[0,i]] = 1\n",
    "\n",
    "    # Inverse-transfrom the wordvectors\n",
    "    words = [word[0].encode('ascii').decode('utf-8') for word in countVectorizer.inverse_transform(wordVectors)]\n",
    "\n",
    "    # Return word and word-counts\n",
    "    return (words, wordCounts[0, :n].tolist()[0])\n",
    "\n",
    "words, wordCounts = nMostFrequentWords(n=n, countVectorizer=countVectorizer, vectorizedText=vectorizedText)"
   ]
  },
  {
   "cell_type": "code",
   "execution_count": 75,
   "metadata": {},
   "outputs": [
    {
     "name": "stdout",
     "output_type": "stream",
     "text": [
      "{'hear': 655, 'theyve': 1488, 'shut': 1290, 'main': 863, 'reactor': 1127, 'well': 1625, 'destroyed': 365, 'sure': 1428, 'madness': 860, 'doomed': 397, 'therell': 1480, 'escape': 449, 'princess': 1085, 'time': 1505, 'whats': 1631, 'known': 779, 'better': 136, 'trust': 1550, 'logic': 836, 'half': 638, 'sized': 1314, 'thermocapsulary': 1484, 'dehousing': 353, 'assister': 80, 'hurry': 700, 'come': 257, 'waiting': 1600, 'get': 592, 'gear': 586, 'artoo': 76, 'detoo': 370, 'last': 788, 'theyre': 1487, 'heading': 654, 'direction': 381, 'going': 607, 'sent': 1258, 'spice': 1364, 'mines': 919, 'kessel': 766, 'smashed': 1328, 'knows': 780, 'wait': 1599, 'minute': 920, 'death': 343, 'star': 1374, 'plans': 1052, 'computer': 269, 'transmissions': 1531, 'intercepted': 735, 'aaah': 2, 'consular': 281, 'ship': 1279, 'diplomatic': 379, 'mission': 923, 'ambassador': 52, 'commander': 261, 'tear': 1458, 'apart': 66, 'youve': 1684, 'found': 561, 'bring': 177, 'want': 1606, 'alive': 36, 'set': 1264, 'stun': 1416, 'shell': 1274, 'right': 1195, 'inform': 726, 'lord': 846, 'vader': 1588, 'prisoner': 1087, 'hey': 669, 'youre': 1682, 'permitted': 1036, 'restricted': 1185, 'youll': 1680, 'deactivated': 339, 'dont': 396, 'call': 191, 'mindless': 917, 'philosopher': 1040, 'overweight': 1006, 'glob': 602, 'grease': 622, 'somebody': 1340, 'sees': 1250, 'secret': 1242, 'talking': 1450, 'im': 711, 'getting': 594, 'regret': 1149, 'goes': 606, 'another': 59, 'one': 985, 'hold': 680, 'fire': 522, 'life': 814, 'forms': 553, 'must': 941, 'short': 1285, 'circuited': 239, 'thats': 1479, 'funny': 577, 'damage': 326, 'doesnt': 393, 'look': 839, 'bad': 98, 'things': 1490, 'safe': 1209, 'ive': 745, 'told': 1512, 'kids': 769, 'slow': 1325, 'young': 1681, 'noise': 966, 'blast': 146, 'wormie': 1658, 'rampage': 1115, 'shape': 1272, 'guys': 636, 'biggs': 141, 'didnt': 373, 'know': 777, 'back': 97, 'wanted': 1607, 'surprise': 1431, 'hot': 685, 'shot': 1286, 'thought': 1495, 'youd': 1679, 'certainly': 218, 'expect': 471, 'working': 1655, 'academy': 9, 'change': 222, 'much': 939, 'soon': 1348, 'happened': 647, 'commission': 265, 'course': 306, 'got': 615, 'signed': 1297, 'aboard': 7, 'rand': 1117, 'ecliptic': 423, 'week': 1624, 'first': 525, 'mate': 886, 'darklighter': 334, 'service': 1263, 'came': 193, 'say': 1217, 'goodbye': 612, 'unfortunate': 1573, 'landlocked': 782, 'simpletons': 1302, 'almost': 41, 'forgot': 548, 'theres': 1482, 'battle': 107, 'system': 1441, 'forget': 547, 'sitting': 1308, 'probably': 1089, 'freighter': 564, 'tanker': 1452, 'refueling': 1147, 'lot': 851, 'firing': 524, 'earlier': 416, 'easy': 421, 'worry': 1660, 'keep': 762, 'telling': 1463, 'rebellion': 1138, 'long': 837, 'way': 1615, 'doubt': 401, 'empire': 435, 'would': 1666, 'even': 454, 'fight': 511, 'believe': 124, 'luke': 856, 'planet': 1051, 'big': 139, 'hunk': 697, 'nothing': 971, 'could': 297, 'bold': 161, 'imperial': 716, 'senate': 1254, 'sit': 1307, 'stillfor': 1395, 'attacked': 85, 'play': 1053, 'games': 583, 'highness': 673, 'werent': 1626, 'mercy': 902, 'passed': 1018, 'directly': 382, 'several': 1268, 'beamed': 112, 'rebel': 1137, 'spies': 1365, 'member': 898, 'alderaan': 33, 'part': 1013, 'alliance': 37, 'traitor': 1528, 'take': 1443, 'away': 91, 'holding': 681, 'dangerous': 330, 'word': 1652, 'gets': 593, 'generate': 589, 'sympathy': 1440, 'traced': 1522, 'link': 823, 'find': 518, 'base': 104, 'anything': 62, 'leave': 801, 'send': 1255, 'distress': 389, 'signal': 1295, 'killed': 771, 'station': 1385, 'made': 858, 'pod': 1060, 'jettisoned': 753, 'fighting': 514, 'hidden': 670, 'detachment': 367, 'retrieve': 1186, 'see': 1246, 'personally': 1038, 'stop': 1397, 'us': 1584, 'yes': 1677, 'sir': 1305, 'mess': 904, 'really': 1133, 'seem': 1247, 'suffer': 1420, 'rest': 1183, 'fall': 489, 'joints': 757, 'frozen': 570, 'desolate': 361, 'place': 1048, 'rocky': 1202, 'easier': 419, 'makes': 868, 'think': 1491, 'settlements': 1265, 'technical': 1459, 'enough': 441, 'go': 604, 'malfunctioning': 871, 'within': 1642, 'day': 337, 'nearsighted': 949, 'scrap': 1229, 'pile': 1045, 'let': 809, 'catch': 210, 'following': 541, 'begging': 118, 'help': 664, 'wont': 1648, 'adventures': 22, 'little': 825, 'twerp': 1560, 'fault': 500, 'tricked': 1541, 'hell': 661, 'transport': 1534, 'saved': 1215, 'please': 1055, 'cut': 324, 'power': 1071, 'afterburners': 25, 'low': 853, 'deaks': 341, 'trail': 1527, 'close': 251, 'fry': 571, 'instruments': 732, 'busted': 187, 'skyhopper': 1318, 'pretty': 1081, 'uncle': 1568, 'owen': 1007, 'upset': 1582, 'grounded': 627, 'season': 1237, 'fantastic': 491, 'ought': 996, 'may': 889, 'hottest': 687, 'bushpilot': 185, 'side': 1292, 'mos': 933, 'eisley': 427, 'skyhoppers': 1319, 'whammo': 1628, 'dark': 333, 'spot': 1367, 'canyon': 197, 'wall': 1603, 'whos': 1636, 'around': 75, 'giant': 595, 'starships': 1380, 'beginning': 119, 'sound': 1353, 'like': 819, 'gotten': 618, 'soft': 1337, 'city': 241, 'missed': 922, 'kid': 767, 'havent': 652, 'since': 1303, 'left': 804, 'quiet': 1111, 'shouldnt': 1287, 'tell': 1462, 'friends': 566, 'frigate': 567, 'central': 216, 'systems': 1442, 'jump': 758, 'join': 756, 'kidding': 768, 'ya': 1671, 'mouth': 935, 'bigger': 140, 'meteor': 908, 'crater': 309, 'sorry': 1351, 'listen': 824, 'barely': 101, 'friend': 565, 'bestine': 132, 'might': 910, 'make': 866, 'contact': 282, 'forever': 546, 'trying': 1553, 'ill': 710, 'always': 49, 'talked': 1449, 'draft': 402, 'spreading': 1368, 'stuck': 1413, 'next': 960, 'term': 1467, 'chance': 220, 'rock': 1201, 'likely': 820, 'cancel': 194, 'application': 69, 'unrest': 1581, 'among': 53, 'sand': 1213, 'people': 1030, 'raided': 1114, 'outskirts': 1003, 'anchorhead': 56, 'whole': 1635, 'colony': 256, 'blaster': 148, 'hes': 668, 'vaporators': 1591, 'pay': 1025, 'needs': 954, 'cant': 196, 'feel': 504, 'learn': 796, 'seems': 1248, 'important': 718, 'good': 611, 'uncles': 1569, 'work': 1653, 'taken': 1444, 'starting': 1383, 'nationalize': 945, 'commerce': 264, 'merely': 903, 'tenant': 1466, 'slaving': 1322, 'greater': 624, 'glory': 603, 'couldnt': 298, 'happen': 646, 'said': 1211, 'bother': 166, 'wish': 1641, 'leaving': 802, 'morning': 932, 'guess': 632, 'maybe': 890, 'someday': 1342, 'lookout': 842, 'drafted': 403, 'starfleet': 1377, 'care': 202, 'best': 131, 'someone': 1343, 'tracks': 1525, 'droids': 407, 'wake': 1601, 'theyll': 1486, 'melt': 896, 'shoot': 1283, 'never': 958, 'end': 436, 'translator': 1530, 'speaks': 1360, 'bocce': 159, 'looks': 843, 'choice': 233, 'remind': 1162, 'need': 951, 'protocol': 1097, 'droid': 406, 'environment': 447, 'also': 45, 'programmed': 1093, 'thirty': 1494, 'secondary': 1240, 'functions': 576, 'understands': 1572, 'binary': 142, 'languages': 784, 'moisture': 925, 'job': 755, 'programming': 1094, 'load': 828, 'lifters': 815, 'similar': 1300, 'speak': 1359, 'second': 1239, 'language': 783, 'fluent': 533, 'shutting': 1291, 'two': 1562, 'garage': 584, 'cleaned': 246, 'dinner': 378, 'toshi': 1517, 'pick': 1041, 'converters': 289, 'waste': 1612, 'chores': 235, 'done': 395, 'red': 1145, 'lets': 810, 'yeah': 1674, 'r2': 1113, 'unit': 1575, 'motivator': 934, 'whatre': 1630, 'push': 1105, 'excuse': 465, 'prime': 1084, 'condition': 273, 'real': 1131, 'bargain': 102, 'blue': 155, 'uh': 1565, 'quite': 1112, 'pleased': 1056, 'class': 245, 'worked': 1654, 'comes': 258, 'okay': 983, 'stick': 1392, 'neck': 950, 'beyond': 137, 'capacity': 198, 'thank': 1475, 'maker': 867, 'oil': 982, 'bath': 106, 'case': 209, 'dust': 412, 'contamination': 283, 'move': 936, 'isnt': 742, 'fair': 486, 'oh': 981, 'gonna': 610, 'unless': 1578, 'alter': 46, 'speed': 1362, 'harvest': 649, 'teleport': 1461, 'knowledgeable': 778, 'anyways': 64, 'matter': 887, 'fact': 484, 'bright': 176, 'center': 215, 'universe': 1577, 'farthest': 494, 'threepio': 1500, 'human': 695, 'cyborg': 325, 'relations': 1152, 'counterpart': 301, 'hello': 662, 'carbon': 201, 'scoring': 1227, 'boys': 171, 'seen': 1249, 'action': 17, 'weve': 1627, 'sometimes': 1345, 'amazed': 51, 'meaning': 892, 'many': 877, 'battles': 108, 'actually': 19, 'interpreter': 740, 'stories': 1400, 'making': 869, 'interesting': 737, 'something': 1344, 'jammed': 749, 'starcruiser': 1376, 'obi': 979, 'wan': 1605, 'kenobi': 764, 'youremy': 1683, 'hope': 684, 'asked': 77, 'question': 1107, 'says': 1219, 'malfunction': 870, 'old': 984, 'data': 336, 'mind': 915, 'shes': 1275, 'beautiful': 114, 'afraid': 24, 'passenger': 1019, 'voyage': 1597, 'person': 1037, 'importance': 717, 'captain': 199, 'attached': 83, 'recording': 1144, 'behave': 122, 'trouble': 1548, 'new': 959, 'master': 884, 'property': 1096, 'resident': 1179, 'parts': 1015, 'private': 1088, 'message': 905, 'frankly': 563, 'antilles': 60, 'become': 115, 'bit': 145, 'eccentric': 422, 'wonder': 1646, 'means': 893, 'ben': 128, 'beg': 116, 'pardon': 1011, 'anyone': 61, 'named': 944, 'lives': 826, 'dune': 411, 'sea': 1233, 'kind': 773, 'strange': 1404, 'hermit': 667, 'sounds': 1354, 'id': 702, 'thing': 1489, 'restraining': 1184, 'bolt': 162, 'suggests': 1422, 'remove': 1167, 'able': 6, 'entire': 445, 'hm': 678, 'small': 1327, 'run': 1205, 'whered': 1632, 'playing': 1054, 'carrying': 208, 'inside': 729, 'rusty': 1207, 'innards': 728, 'aunt': 87, 'beru': 129, 'appears': 68, 'picked': 1042, 'slight': 1323, 'flutter': 535, 'reconsider': 1143, 'likes': 821, 'either': 428, 'bought': 167, 'stolen': 1396, 'stumbled': 1415, 'across': 15, 'cleaning': 247, 'belongs': 126, 'called': 192, 'meant': 894, 'related': 1151, 'mans': 876, 'crazy': 310, 'wizard': 1644, 'tomorrow': 1513, 'memory': 899, 'flushed': 534, 'thatll': 1478, 'looking': 841, 'exists': 470, 'died': 375, 'father': 498, 'knew': 774, 'concern': 271, 'prepare': 1076, 'south': 1355, 'ridge': 1193, 'condensers': 272, 'fine': 519, 'thinking': 1492, 'agreement': 28, 'staying': 1389, 'transmit': 1532, 'year': 1675, 'mean': 891, 'semester': 1253, 'therere': 1481, 'hire': 674, 'hands': 642, 'understand': 1571, 'nother': 969, 'tank': 1451, 'nowhere': 973, 'finish': 521, 'stay': 1387, 'gone': 609, 'promise': 1095, 'lukes': 857, 'farmer': 493, 'hiding': 672, 'wasnt': 1611, 'deactivate': 338, 'faulty': 501, 'kept': 765, 'babbling': 95, 'problem': 1091, 'astro': 82, 'hand': 640, 'times': 1506, 'stupid': 1417, 'sight': 1293, 'night': 962, 'minutes': 921, 'boy': 170, 'cause': 212, 'excels': 461, 'loafing': 829, 'started': 1382, 'today': 1510, 'early': 417, 'hed': 660, 'units': 1576, 'range': 1119, 'repaired': 1171, 'bemidday': 127, 'hows': 693, 'somewhere': 1346, 'far': 492, 'hadnt': 637, 'removed': 1168, 'dead': 340, 'ahead': 30, 'scanner': 1221, 'hit': 675, 'accelerator': 11, 'whoa': 1634, 'rightful': 1196, 'owner': 1008, 'jibberish': 754, 'talk': 1448, 'fortunate': 556, 'million': 913, 'pieces': 1044, 'late': 789, 'blows': 154, 'saying': 1218, 'fugitive': 572, 'workshop': 1656, 'try': 1552, 'wrong': 1669, 'creatures': 312, 'approaching': 71, 'southeast': 1356, 'worse': 1661, 'banthas': 100, 'son': 1347, 'busy': 188, 'still': 1394, 'piece': 1043, 'glad': 600, 'jundland': 759, 'wastes': 1613, 'traveled': 1536, 'lightly': 817, 'brings': 178, 'searching': 1236, 'former': 552, 'devotion': 371, 'tobe': 1509, 'stopping': 1399, 'claims': 243, 'relative': 1153, 'name': 943, 'heard': 656, 'yet': 1678, 'born': 164, 'belong': 125, 'remember': 1160, 'ever': 455, 'owning': 1009, 'indoors': 724, 'easily': 420, 'startled': 1384, 'numbers': 976, 'step': 1391, 'stand': 1372, 'return': 1187, 'sense': 1257, 'risking': 1199, 'account': 13, 'quickly': 1110, 'wars': 1610, 'navigator': 947, 'fathers': 499, 'ideals': 705, 'stayed': 1388, 'involved': 741, 'fought': 559, 'clone': 250, 'jedi': 752, 'knight': 775, 'pilot': 1046, 'galaxy': 582, 'cunning': 322, 'warrior': 1609, 'reminds': 1163, 'wouldnt': 1667, 'allow': 38, 'feared': 503, 'follow': 539, 'damned': 328, 'fool': 543, 'idealistic': 704, 'crusade': 320, 'needing': 952, 'awhile': 93, 'lightsaber': 818, 'weapon': 1620, 'clumsy': 253, 'random': 1118, 'elegant': 429, 'morecivilized': 931, 'thousand': 1496, 'generations': 590, 'knights': 776, 'guardians': 631, 'peace': 1026, 'justice': 761, 'republic': 1174, 'die': 374, 'darth': 335, 'pupil': 1104, 'mine': 918, 'turned': 1556, 'evil': 460, 'helped': 665, 'hunt': 698, 'destroy': 364, 'betrayed': 135, 'murdered': 940, 'extinct': 479, 'seduced': 1245, 'force': 545, 'gives': 599, 'energy': 438, 'field': 509, 'created': 311, 'living': 827, 'surrounds': 1433, 'penetrates': 1029, 'binds': 144, 'together': 1511, 'figure': 515, 'saw': 1216, 'general': 588, 'years': 1676, 'ago': 26, 'served': 1262, 'begs': 121, 'struggle': 1412, 'unable': 1567, 'present': 1079, 'request': 1175, 'fallen': 490, 'attack': 84, 'failed': 485, 'placed': 1049, 'information': 727, 'vital': 1595, 'survival': 1434, 'safely': 1210, 'delivered': 355, 'desperate': 362, 'hour': 688, 'ways': 1616, 'home': 682, 'sort': 1352, 'hate': 651, 'god': 605, 'explain': 474, 'wherever': 1633, 'fully': 574, 'operational': 991, 'vulnerable': 1598, 'equipped': 448, 'realize': 1132, 'continue': 284, 'gain': 580, 'support': 1426, 'longer': 838, 'received': 1141, 'emperor': 434, 'dissolved': 388, 'council': 299, 'permanently': 1035, 'remnants': 1164, 'swept': 1436, 'impossible': 719, 'maintain': 864, 'control': 285, 'without': 1643, 'bureaucracy': 184, 'regional': 1148, 'governors': 620, 'direct': 380, 'territories': 1472, 'fear': 502, 'local': 830, 'line': 822, 'rebels': 1139, 'obtained': 980, 'complete': 268, 'readout': 1128, 'possible': 1068, 'however': 691, 'unlikely': 1579, 'weakness': 1618, 'exploit': 476, 'refer': 1146, 'useless': 1587, 'gesture': 591, 'ultimate': 1566, 'suggest': 1421, 'use': 1585, 'proud': 1099, 'technological': 1460, 'terror': 1473, 'constructed': 280, 'ability': 5, 'insignificant': 730, 'frighten': 568, 'sorcerers': 1349, 'sad': 1208, 'ancient': 57, 'religion': 1156, 'conjure': 275, 'tapes': 1453, 'given': 598, 'clairvoyance': 244, 'fort': 554, 'lack': 781, 'faith': 487, 'disturbing': 391, 'release': 1155, 'bickering': 138, 'pointless': 1063, 'provide': 1100, 'location': 831, 'fortress': 555, 'crush': 321, 'swift': 1437, 'stroke': 1410, 'gaffi': 579, 'sticks': 1393, 'bantha': 99, 'hitting': 676, 'ride': 1192, 'single': 1304, 'file': 516, 'hide': 671, 'jawas': 751, 'sold': 1338, 'points': 1064, 'accurate': 14, 'stormtroopers': 1402, 'precise': 1074, 'troops': 1547, 'slaughter': 1321, 'robots': 1200, 'learned': 797, 'lead': 791, 'discuss': 386, 'spaceport': 1358, 'wretched': 1668, 'hive': 677, 'scum': 1232, 'villainy': 1593, 'cautious': 213, 'three': 1498, 'four': 562, 'seasons': 1238, 'sale': 1212, 'identification': 707, 'business': 186, 'along': 43, 'abide': 4, 'disgusting': 387, 'troopers': 1546, 'strong': 1411, 'influence': 725, 'weak': 1617, 'minded': 916, 'powerful': 1072, 'ally': 40, 'pilots': 1047, 'watch': 1614, 'rough': 1203, 'ready': 1130, 'serve': 1261, 'outside': 1002, 'speeder': 1363, 'heartily': 657, 'agree': 27, 'negola': 956, 'dewaghi': 372, 'wooldugger': 1651, 'insult': 733, 'men': 900, 'sentence': 1259, 'twelve': 1558, 'careful': 203, 'worth': 1665, 'effort': 425, 'buy': 189, 'blasters': 149, 'chewbacca': 231, 'suit': 1424, 'han': 639, 'solo': 1339, 'millennium': 912, 'falcon': 488, 'chewie': 232, 'tells': 1464, 'passage': 1017, 'indeed': 723, 'fast': 495, 'less': 808, 'parsecs': 1012, 'outrun': 1001, 'bulk': 182, 'cruisers': 319, 'corellian': 294, 'ships': 1282, 'man': 872, 'cargo': 205, 'passengers': 1020, 'questions': 1108, 'wed': 1622, 'avoid': 89, 'entanglements': 442, 'trick': 1540, 'cost': 296, 'extra': 480, 'ten': 1465, 'advance': 21, 'fly': 536, 'bet': 133, 'plus': 1059, 'fifteen': 510, 'reach': 1124, 'seventeen': 1267, 'huh': 694, 'docking': 392, 'bay': 109, 'ninety': 964, 'somebodys': 1341, 'interest': 736, 'handiwork': 641, 'check': 229, 'save': 1214, 'sell': 1252, 'coming': 259, 'greedo': 625, 'boss': 165, 'jabba': 746, 'money': 928, 'paid': 1010, 'jabbas': 747, 'put': 1106, 'price': 1082, 'head': 653, 'large': 785, 'every': 456, 'bounty': 169, 'hunter': 699, 'lucky': 855, 'give': 597, 'smugglers': 1332, 'drop': 408, 'shipments': 1281, 'sign': 1294, 'cruiser': 318, 'boarded': 157, 'body': 160, 'idea': 703, 'forward': 557, 'killing': 772, 'resistance': 1180, 'probe': 1090, 'considerable': 279, 'extract': 481, 'final': 517, 'shall': 1271, 'perhaps': 1034, 'respond': 1181, 'alternative': 47, 'form': 550, 'persuasion': 1039, 'demonstrate': 356, 'full': 573, 'leias': 807, 'pleasure': 1057, 'lock': 833, 'door': 398, 'street': 1407, 'secure': 1244, 'rather': 1121, 'xp': 1670, '38': 0, 'boasting': 158, 'expected': 472, 'type': 1564, 'disappoint': 384, 'poor': 1065, 'smuggler': 1331, 'valuable': 1590, 'relaying': 1154, 'delays': 354, 'twerps': 1561, 'dump': 409, 'shipment': 1280, 'exception': 463, 'smuggled': 1330, 'dumped': 410, 'starship': 1379, 'gota': 616, 'charter': 226, 'twenty': 1559, 'percent': 1032, 'near': 948, 'civilized': 242, 'junk': 760, 'point': 1062, 'five': 526, 'light': 816, 'counts': 302, 'added': 20, 'special': 1361, 'modifications': 924, 'rushed': 1206, 'weapons': 1621, 'em': 432, 'forgotten': 549, 'space': 1357, 'travel': 1535, 'hotter': 686, 'angle': 58, 'deflector': 351, 'shield': 1276, 'calculations': 190, 'sharp': 1273, 'floating': 530, 'hyperspace': 701, 'besides': 130, 'maneuvers': 875, 'lose': 847, 'heres': 666, 'fun': 575, 'begins': 120, 'itll': 744, 'moments': 927, 'coordinates': 292, 'navi': 946, 'rate': 1120, 'gaining': 581, 'traveling': 1537, 'dusting': 413, 'crops': 317, 'bounce': 168, 'supernova': 1425, 'thatd': 1477, 'trip': 1544, 'quick': 1109, 'flashing': 527, 'losing': 848, 'strap': 1405, 'entered': 443, 'governor': 619, 'tarkin': 1457, 'vaders': 1589, 'leash': 799, 'recognized': 1142, 'foul': 560, 'stench': 1390, 'brought': 180, 'board': 156, 'charming': 225, 'hard': 648, 'signing': 1298, 'order': 995, 'terminate': 1469, 'responsibility': 1182, 'leia': 806, 'execution': 467, 'guest': 633, 'ceremony': 217, 'dare': 332, 'oppose': 992, 'tighten': 1503, 'grip': 626, 'slip': 1324, 'fingers': 520, 'determined': 369, 'reluctant': 1158, 'chosen': 236, 'test': 1474, 'stations': 1386, 'destructive': 366, 'peaceful': 1027, 'possibly': 1069, 'prefer': 1075, 'target': 1454, 'military': 911, 'grow': 629, 'tired': 1507, 'asking': 78, 'dantooine': 331, 'reasonable': 1135, 'operation': 990, 'trusting': 1551, 'remote': 1165, 'effective': 424, 'demonstration': 358, 'deal': 342, 'commence': 263, 'primary': 1083, 'ignition': 709, 'felt': 507, 'great': 623, 'disturbance': 390, 'millions': 914, 'voices': 1596, 'suddenly': 1419, 'cried': 316, 'silenced': 1299, 'terrible': 1471, 'exercises': 468, 'troubles': 1549, 'slugs': 1326, 'everyone': 457, 'anyway': 63, 'hundred': 696, 'hours': 689, 'screaming': 1230, 'wise': 1640, 'wookiee': 1649, 'nobody': 965, 'worries': 1659, 'upsetting': 1583, 'pull': 1102, 'peoples': 1031, 'arms': 74, 'socket': 1336, 'wookiees': 1650, 'strategy': 1406, 'win': 1638, 'flowing': 531, 'controls': 287, 'actions': 18, 'partially': 1014, 'obeys': 978, 'commands': 262, 'hokey': 679, 'religions': 1157, 'match': 885, 'flown': 532, 'stuff': 1414, 'controlling': 286, 'everything': 458, 'mystical': 942, 'destiny': 363, 'simple': 1301, 'tricks': 1542, 'nonsense': 967, 'conscious': 276, 'self': 1251, 'act': 16, 'instinct': 731, 'supposed': 1427, 'eyes': 482, 'deceive': 345, 'stretch': 1408, 'feelings': 506, 'luck': 854, 'experience': 473, 'remotes': 1166, 'else': 431, 'larger': 786, 'world': 1657, 'scout': 1228, 'reached': 1125, 'remains': 1159, 'estimate': 450, 'deserted': 359, 'conducting': 274, 'extensive': 478, 'search': 1235, 'surrounding': 1432, 'lied': 812, 'consciously': 277, 'betray': 134, 'immediately': 714, 'sublight': 1418, 'engines': 440, 'aw': 90, 'shower': 1288, 'asteroid': 81, 'collision': 255, 'charts': 227, 'position': 1067, 'correct': 295, 'except': 462, 'aint': 31, 'totally': 1518, 'blown': 153, 'itd': 743, 'fighter': 512, 'followed': 540, 'arent': 73, 'bases': 105, 'identify': 708, 'jam': 748, 'size': 1313, 'deep': 347, 'lost': 850, 'convoy': 290, 'moon': 930, 'feeling': 505, 'turn': 1555, 'reverse': 1188, 'auxiliary': 88, 'moving': 938, 'towards': 1519, 'caught': 211, 'tractor': 1526, 'beam': 111, 'pulling': 1103, 'gotta': 617, 'nothin': 970, 'alternatives': 48, 'clear': 248, 'seven': 1266, 'opening': 988, 'magnetic': 861, 'outboard': 998, 'shields': 1278, 'captured': 200, 'entering': 444, 'markings': 881, 'blasted': 147, 'unlock': 1580, 'nine': 963, 'charges': 224, 'according': 12, 'log': 835, 'crew': 314, 'abandoned': 3, 'takeoff': 1445, 'decoy': 346, 'pods': 1061, 'scanning': 1223, 'checked': 230, 'presence': 1078, 'double': 400, 'compartments': 267, 'smuggling': 1333, 'ridiculous': 1194, 'past': 1022, 'damn': 327, 'foolish': 544, 'follows': 542, 'scanners': 1222, 'report': 1172, 'tx': 1563, 'post': 1070, 'copy': 293, 'transmitter': 1533, 'howling': 692, 'blasting': 150, 'straight': 1403, 'sneaking': 1334, 'outlet': 1000, 'plug': 1058, 'interpret': 739, 'network': 957, 'appear': 67, 'monitor': 929, 'coupled': 304, 'locations': 832, 'loss': 849, 'terminals': 1468, 'alone': 42, 'whatever': 1629, 'bargained': 103, 'already': 44, 'patient': 1024, 'fate': 497, 'lies': 813, 'different': 376, 'path': 1023, 'dig': 377, 'fossil': 558, 'ideas': 706, 'hanging': 645, 'keepsrepeating': 763, 'level': 811, 'detention': 368, 'block': 151, 'aa': 1, 'scheduled': 1224, 'terminated': 1470, 'wants': 1608, 'anywhere': 65, 'execute': 466, 'marching': 878, 'area': 72, 'kill': 770, 'rich': 1191, 'rescue': 1177, 'reward': 1190, 'wealth': 1619, 'imagine': 713, 'plan': 1050, 'binders': 143, 'ah': 29, 'discovered': 385, 'reassuring': 1136, 'helmet': 663, 'taking': 1447, 'transfer': 1529, 'eight': 426, 'notified': 972, 'loose': 844, 'cell': 214, 'situation': 1309, 'normal': 968, 'everythings': 459, 'perfectly': 1033, 'sending': 1256, 'squad': 1369, 'negative': 955, 'leak': 795, 'operating': 989, 'number': 975, 'boring': 163, 'conversation': 288, 'company': 266, 'stormtrooper': 1401, 'uniform': 1574, 'skywalker': 1320, 'tremor': 1538, 'surely': 1429, 'underestimate': 1570, 'emergency': 433, 'alert': 34, 'sections': 1243, 'allowed': 39, 'face': 483, 'behind': 123, 'managed': 873, 'route': 1204, 'alerted': 35, 'entrance': 446, 'open': 987, 'brains': 173, 'sweetheart': 1435, 'skins': 1317, 'garbage': 585, 'chute': 237, 'guy': 635, 'furry': 578, 'oaf': 977, 'smell': 1329, 'wonderful': 1647, 'girl': 596, 'incredible': 722, 'tried': 1543, 'magnetically': 862, 'sealed': 1234, 'absolutely': 8, 'worship': 1662, 'led': 803, 'imagination': 712, 'moves': 937, 'leg': 805, 'grab': 621, 'guns': 634, 'disappeared': 383, 'walls': 1604, 'brace': 172, 'madmen': 859, 'prison': 1086, 'guard': 630, 'excitement': 464, 'overrun': 1005, 'circuits': 240, 'maintenance': 865, 'top': 1515, 'thinner': 1493, 'goodness': 613, 'comlink': 260, 'problems': 1092, 'mashers': 883, 'dying': 415, 'curse': 323, 'metal': 907, 'pressure': 1080, 'hatch': 650, 'six': 1310, 'female': 508, 'advice': 23, 'coward': 308, 'worshipfulness': 1663, 'takeorders': 1446, 'walking': 1602, 'carpet': 206, 'canceled': 195, 'regular': 1150, 'reports': 1173, 'drill': 405, 'moment': 926, 'hangar': 644, 'braver': 174, 'nice': 961, 'courage': 305, 'took': 1514, 'oughta': 997, 'extends': 477, 'bridge': 175, 'doors': 399, 'meet': 895, 'circle': 238, 'learner': 798, 'powers': 1073, 'strike': 1409, 'party': 1016, 'ran': 1116, 'nows': 974, 'sentry': 1260, 'charge': 223, 'buddy': 181, 'oooh': 986, 'lateral': 790, 'baby': 96, 'cocky': 254, 'melting': 897, 'homing': 683, 'beacon': 110, 'awful': 92, 'risk': 1198, 'rescuing': 1178, 'amaze': 50, 'explanation': 475, 'ease': 418, 'tracking': 1524, 'sister': 1306, 'least': 800, 'intact': 734, 'readouts': 1129, 'analyzed': 55, 'revolution': 1189, 'neednt': 953, 'love': 852, 'receive': 1140, 'mercenary': 901, 'cares': 204, 'spirit': 1366, 'worst': 1664, 'sorrows': 1350, 'tracked': 1523, 'yavin': 1673, 'preparing': 1077, 'orbit': 993, 'heavily': 658, 'shielded': 1277, 'carries': 207, 'firepower': 523, 'fleet': 528, 'defenses': 349, 'designed': 360, 'scale': 1220, 'assault': 79, 'penetrate': 1028, 'outer': 999, 'defense': 348, 'snub': 1335, 'fighters': 513, 'consider': 278, 'threat': 1497, 'theyd': 1485, 'tighter': 1504, 'analysis': 54, 'provided': 1101, 'demonstrated': 357, 'approach': 70, 'required': 1176, 'maneuver': 874, 'trench': 1539, 'skim': 1316, 'surface': 1430, 'meters': 909, 'wide': 1637, 'thermal': 1483, 'exhaust': 469, 'port': 1066, 'shaft': 1269, 'leads': 794, 'start': 1381, 'chain': 219, 'reaction': 1126, 'ray': 1123, 'proton': 1098, 'torpedoes': 1516, 'used': 1586, 'bullseye': 183, 'womp': 1645, 'rats': 1122, 'sixteen': 1311, 'orbiting': 994, 'maximum': 888, 'velocity': 1592, 'remembered': 1161, 'flight': 529, 'debts': 344, 'turning': 1557, 'goods': 614, 'attacking': 86, 'aintmy': 32, 'suicide': 1423, 'lookin': 840, 'choose': 234, 'howd': 690, 'incom': 720, 'sixty': 1312, 'rim': 1197, 'met': 906, 'skill': 1315, 'couple': 303, 'shooting': 1284, 'stars': 1378, 'stopped': 1398, 'beat': 113, 'hang': 643, 'tight': 1502, 'estimated': 451, 'wings': 1639, 'standing': 1373, 'eleven': 430, 'foils': 538, 'passing': 1021, 'switch': 1438, 'deflectors': 352, 'front': 569, 'chatter': 228, 'accelerate': 10, 'leader': 792, 'gold': 608, 'axis': 94, 'draw': 404, 'heavy': 659, 'threedegrees': 1499, 'cooked': 291, 'count': 300, 'evading': 453, 'turbo': 1554, 'lasers': 787, 'crews': 315, 'deflection': 350, 'tower': 1520, 'leaders': 793, 'group': 628, 'signals': 1296, 'enemy': 437, 'scopes': 1226, 'visual': 1594, 'jamming': 750, 'scope': 1225, 'shake': 1270, 'broken': 179, 'zone': 1685, 'wedge': 1623, 'thanks': 1476, 'formation': 551, 'marked': 880, 'locked': 834, 'screens': 1231, 'towers': 1521, 'targeting': 1455, 'computers': 270, 'stabilize': 1370, 'rear': 1134, 'marks': 882, 'cover': 307, 'loosen': 845, 'tiree': 1508, 'dutch': 414, 'danger': 329, 'evacuate': 452, 'triumph': 1545, 'overestimate': 1004, 'chances': 221, 'closing': 252, 'rendezvous': 1169, 'mark': 879, 'flying': 537, 'interference': 738, 'targets': 1456, 'seconds': 1241, 'impacted': 715, 'starboard': 1375, 'engine': 439, 'throttle': 1501, 'beggars': 117, 'shows': 1289, 'increase': 721, 'stabilizers': 1371, 'faster': 496, 'switched': 1439, 'cleared': 249, 'yahoo': 1672, 'blow': 152, 'credit': 313, 'repair': 1170, 'gears': 587, 'gladly': 601, 'donate': 394}\n"
     ]
    }
   ],
   "source": [
    "print(countVectorizer.vocabulary_)"
   ]
  },
  {
   "cell_type": "code",
   "execution_count": null,
   "metadata": {},
   "outputs": [],
   "source": []
  }
 ],
 "metadata": {
  "kernelspec": {
   "display_name": "Python 3",
   "language": "python",
   "name": "python3"
  },
  "language_info": {
   "codemirror_mode": {
    "name": "ipython",
    "version": 3
   },
   "file_extension": ".py",
   "mimetype": "text/x-python",
   "name": "python",
   "nbconvert_exporter": "python",
   "pygments_lexer": "ipython3",
   "version": "3.6.2"
  }
 },
 "nbformat": 4,
 "nbformat_minor": 2
}
