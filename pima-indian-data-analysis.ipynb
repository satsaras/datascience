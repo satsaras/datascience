{
 "cells": [
  {
   "cell_type": "code",
   "execution_count": 1,
   "metadata": {},
   "outputs": [],
   "source": [
    "import numpy as np\n",
    "import matplotlib.pyplot as plt\n",
    "import pandas as pd"
   ]
  },
  {
   "cell_type": "code",
   "execution_count": 2,
   "metadata": {},
   "outputs": [],
   "source": [
    "df=pd.read_csv(\"E:\\kaggle_1\\pima-indians\\PimaIndians.csv\")"
   ]
  },
  {
   "cell_type": "code",
   "execution_count": 3,
   "metadata": {},
   "outputs": [
    {
     "data": {
      "text/html": [
       "<div>\n",
       "<style scoped>\n",
       "    .dataframe tbody tr th:only-of-type {\n",
       "        vertical-align: middle;\n",
       "    }\n",
       "\n",
       "    .dataframe tbody tr th {\n",
       "        vertical-align: top;\n",
       "    }\n",
       "\n",
       "    .dataframe thead th {\n",
       "        text-align: right;\n",
       "    }\n",
       "</style>\n",
       "<table border=\"1\" class=\"dataframe\">\n",
       "  <thead>\n",
       "    <tr style=\"text-align: right;\">\n",
       "      <th></th>\n",
       "      <th>pregnant</th>\n",
       "      <th>glucose</th>\n",
       "      <th>diastolic</th>\n",
       "      <th>triceps</th>\n",
       "      <th>insulin</th>\n",
       "      <th>bmi</th>\n",
       "      <th>diabetes</th>\n",
       "      <th>age</th>\n",
       "      <th>test</th>\n",
       "    </tr>\n",
       "  </thead>\n",
       "  <tbody>\n",
       "    <tr>\n",
       "      <th>0</th>\n",
       "      <td>1</td>\n",
       "      <td>89</td>\n",
       "      <td>66</td>\n",
       "      <td>23</td>\n",
       "      <td>94</td>\n",
       "      <td>28.1</td>\n",
       "      <td>0.167</td>\n",
       "      <td>21</td>\n",
       "      <td>negatif</td>\n",
       "    </tr>\n",
       "    <tr>\n",
       "      <th>1</th>\n",
       "      <td>0</td>\n",
       "      <td>137</td>\n",
       "      <td>40</td>\n",
       "      <td>35</td>\n",
       "      <td>168</td>\n",
       "      <td>43.1</td>\n",
       "      <td>2.288</td>\n",
       "      <td>33</td>\n",
       "      <td>positif</td>\n",
       "    </tr>\n",
       "    <tr>\n",
       "      <th>2</th>\n",
       "      <td>3</td>\n",
       "      <td>78</td>\n",
       "      <td>50</td>\n",
       "      <td>32</td>\n",
       "      <td>88</td>\n",
       "      <td>31.0</td>\n",
       "      <td>0.248</td>\n",
       "      <td>26</td>\n",
       "      <td>positif</td>\n",
       "    </tr>\n",
       "    <tr>\n",
       "      <th>3</th>\n",
       "      <td>2</td>\n",
       "      <td>197</td>\n",
       "      <td>70</td>\n",
       "      <td>45</td>\n",
       "      <td>543</td>\n",
       "      <td>30.5</td>\n",
       "      <td>0.158</td>\n",
       "      <td>53</td>\n",
       "      <td>positif</td>\n",
       "    </tr>\n",
       "    <tr>\n",
       "      <th>4</th>\n",
       "      <td>1</td>\n",
       "      <td>189</td>\n",
       "      <td>60</td>\n",
       "      <td>23</td>\n",
       "      <td>846</td>\n",
       "      <td>30.1</td>\n",
       "      <td>0.398</td>\n",
       "      <td>59</td>\n",
       "      <td>positif</td>\n",
       "    </tr>\n",
       "  </tbody>\n",
       "</table>\n",
       "</div>"
      ],
      "text/plain": [
       "   pregnant  glucose  diastolic  triceps  insulin   bmi  diabetes  age  \\\n",
       "0         1       89         66       23       94  28.1     0.167   21   \n",
       "1         0      137         40       35      168  43.1     2.288   33   \n",
       "2         3       78         50       32       88  31.0     0.248   26   \n",
       "3         2      197         70       45      543  30.5     0.158   53   \n",
       "4         1      189         60       23      846  30.1     0.398   59   \n",
       "\n",
       "      test  \n",
       "0  negatif  \n",
       "1  positif  \n",
       "2  positif  \n",
       "3  positif  \n",
       "4  positif  "
      ]
     },
     "execution_count": 3,
     "metadata": {},
     "output_type": "execute_result"
    }
   ],
   "source": [
    "df.head()"
   ]
  },
  {
   "cell_type": "code",
   "execution_count": 4,
   "metadata": {},
   "outputs": [],
   "source": [
    "df['Result']=np.where(df['test']=='negatif',0,1)"
   ]
  },
  {
   "cell_type": "code",
   "execution_count": 5,
   "metadata": {},
   "outputs": [],
   "source": [
    "df=df.drop(['test'],axis=1)"
   ]
  },
  {
   "cell_type": "code",
   "execution_count": 6,
   "metadata": {},
   "outputs": [
    {
     "data": {
      "text/plain": [
       "Result    392\n",
       "dtype: int64"
      ]
     },
     "execution_count": 6,
     "metadata": {},
     "output_type": "execute_result"
    }
   ],
   "source": [
    "df[['Result']].count()"
   ]
  },
  {
   "cell_type": "code",
   "execution_count": 7,
   "metadata": {},
   "outputs": [
    {
     "data": {
      "text/html": [
       "<div>\n",
       "<style scoped>\n",
       "    .dataframe tbody tr th:only-of-type {\n",
       "        vertical-align: middle;\n",
       "    }\n",
       "\n",
       "    .dataframe tbody tr th {\n",
       "        vertical-align: top;\n",
       "    }\n",
       "\n",
       "    .dataframe thead th {\n",
       "        text-align: right;\n",
       "    }\n",
       "</style>\n",
       "<table border=\"1\" class=\"dataframe\">\n",
       "  <thead>\n",
       "    <tr style=\"text-align: right;\">\n",
       "      <th></th>\n",
       "      <th>pregnant</th>\n",
       "      <th>glucose</th>\n",
       "      <th>diastolic</th>\n",
       "      <th>triceps</th>\n",
       "      <th>insulin</th>\n",
       "      <th>bmi</th>\n",
       "      <th>diabetes</th>\n",
       "      <th>age</th>\n",
       "    </tr>\n",
       "    <tr>\n",
       "      <th>Result</th>\n",
       "      <th></th>\n",
       "      <th></th>\n",
       "      <th></th>\n",
       "      <th></th>\n",
       "      <th></th>\n",
       "      <th></th>\n",
       "      <th></th>\n",
       "      <th></th>\n",
       "    </tr>\n",
       "  </thead>\n",
       "  <tbody>\n",
       "    <tr>\n",
       "      <th>0</th>\n",
       "      <td>262</td>\n",
       "      <td>262</td>\n",
       "      <td>262</td>\n",
       "      <td>262</td>\n",
       "      <td>262</td>\n",
       "      <td>262</td>\n",
       "      <td>262</td>\n",
       "      <td>262</td>\n",
       "    </tr>\n",
       "    <tr>\n",
       "      <th>1</th>\n",
       "      <td>130</td>\n",
       "      <td>130</td>\n",
       "      <td>130</td>\n",
       "      <td>130</td>\n",
       "      <td>130</td>\n",
       "      <td>130</td>\n",
       "      <td>130</td>\n",
       "      <td>130</td>\n",
       "    </tr>\n",
       "  </tbody>\n",
       "</table>\n",
       "</div>"
      ],
      "text/plain": [
       "        pregnant  glucose  diastolic  triceps  insulin  bmi  diabetes  age\n",
       "Result                                                                    \n",
       "0            262      262        262      262      262  262       262  262\n",
       "1            130      130        130      130      130  130       130  130"
      ]
     },
     "execution_count": 7,
     "metadata": {},
     "output_type": "execute_result"
    }
   ],
   "source": [
    "df.groupby('Result').count()"
   ]
  },
  {
   "cell_type": "code",
   "execution_count": 8,
   "metadata": {},
   "outputs": [],
   "source": [
    "from sklearn.model_selection import train_test_split"
   ]
  },
  {
   "cell_type": "code",
   "execution_count": 9,
   "metadata": {},
   "outputs": [],
   "source": [
    "df_x=df.iloc[:,0:7]\n",
    "df_y=df.iloc[:,8]"
   ]
  },
  {
   "cell_type": "code",
   "execution_count": 10,
   "metadata": {},
   "outputs": [],
   "source": [
    "X_train, X_test, y_train, y_test = train_test_split(df_x, df_y, test_size=0.33, random_state=42)"
   ]
  },
  {
   "cell_type": "code",
   "execution_count": 11,
   "metadata": {},
   "outputs": [],
   "source": [
    "from sklearn import svm"
   ]
  },
  {
   "cell_type": "code",
   "execution_count": 12,
   "metadata": {},
   "outputs": [
    {
     "name": "stdout",
     "output_type": "stream",
     "text": [
      "1  ->  89\n",
      "0  ->  173\n"
     ]
    }
   ],
   "source": [
    "import collections\n",
    "def CountFrequency(arr):\n",
    "    return collections.Counter(arr) \n",
    "freq = CountFrequency(y_train)\n",
    "for key, value in freq.items(): \n",
    "    print (key, \" -> \", value)"
   ]
  },
  {
   "cell_type": "code",
   "execution_count": 13,
   "metadata": {},
   "outputs": [
    {
     "name": "stdout",
     "output_type": "stream",
     "text": [
      "0  ->  89\n",
      "1  ->  41\n"
     ]
    }
   ],
   "source": [
    "import collections\n",
    "def CountFrequency(arr):\n",
    "    return collections.Counter(arr) \n",
    "freq = CountFrequency(y_test)\n",
    "for key, value in freq.items(): \n",
    "    print (key, \" -> \", value)"
   ]
  },
  {
   "cell_type": "code",
   "execution_count": 14,
   "metadata": {},
   "outputs": [],
   "source": [
    "model_svm=svm.SVC(kernel='linear',C=1,gamma=1)"
   ]
  },
  {
   "cell_type": "code",
   "execution_count": 15,
   "metadata": {},
   "outputs": [
    {
     "data": {
      "text/plain": [
       "SVC(C=1, cache_size=200, class_weight=None, coef0=0.0,\n",
       "  decision_function_shape='ovr', degree=3, gamma=1, kernel='linear',\n",
       "  max_iter=-1, probability=False, random_state=None, shrinking=True,\n",
       "  tol=0.001, verbose=False)"
      ]
     },
     "execution_count": 15,
     "metadata": {},
     "output_type": "execute_result"
    }
   ],
   "source": [
    "model_svm.fit(X_train,y_train)"
   ]
  },
  {
   "cell_type": "code",
   "execution_count": 16,
   "metadata": {},
   "outputs": [
    {
     "data": {
      "text/plain": [
       "0.8091603053435115"
      ]
     },
     "execution_count": 16,
     "metadata": {},
     "output_type": "execute_result"
    }
   ],
   "source": [
    "model_svm.score(X_train,y_train)"
   ]
  },
  {
   "cell_type": "code",
   "execution_count": 17,
   "metadata": {},
   "outputs": [],
   "source": [
    "from sklearn import metrics"
   ]
  },
  {
   "cell_type": "code",
   "execution_count": 18,
   "metadata": {},
   "outputs": [],
   "source": [
    "y_pred=model_svm.predict(X_test)"
   ]
  },
  {
   "cell_type": "code",
   "execution_count": 19,
   "metadata": {},
   "outputs": [
    {
     "data": {
      "text/plain": [
       "array([[75, 14],\n",
       "       [21, 20]], dtype=int64)"
      ]
     },
     "execution_count": 19,
     "metadata": {},
     "output_type": "execute_result"
    }
   ],
   "source": [
    "metrics.confusion_matrix(y_test,y_pred)"
   ]
  },
  {
   "cell_type": "code",
   "execution_count": 20,
   "metadata": {},
   "outputs": [],
   "source": [
    "from sklearn.decomposition import PCA\n",
    "from sklearn.preprocessing import StandardScaler"
   ]
  },
  {
   "cell_type": "code",
   "execution_count": 21,
   "metadata": {},
   "outputs": [],
   "source": [
    "pca=PCA(n_components=2)"
   ]
  },
  {
   "cell_type": "code",
   "execution_count": 22,
   "metadata": {},
   "outputs": [
    {
     "name": "stderr",
     "output_type": "stream",
     "text": [
      "C:\\Users\\SPundir\\AppData\\Local\\Continuum\\anaconda3\\lib\\site-packages\\sklearn\\preprocessing\\data.py:645: DataConversionWarning: Data with input dtype int64, float64 were all converted to float64 by StandardScaler.\n",
      "  return self.partial_fit(X, y)\n",
      "C:\\Users\\SPundir\\AppData\\Local\\Continuum\\anaconda3\\lib\\site-packages\\sklearn\\base.py:464: DataConversionWarning: Data with input dtype int64, float64 were all converted to float64 by StandardScaler.\n",
      "  return self.fit(X, **fit_params).transform(X)\n"
     ]
    }
   ],
   "source": [
    "X_train=StandardScaler().fit_transform(X_train)\n"
   ]
  },
  {
   "cell_type": "code",
   "execution_count": 23,
   "metadata": {},
   "outputs": [],
   "source": [
    "pc_train=pca.fit_transform(X_train)"
   ]
  },
  {
   "cell_type": "code",
   "execution_count": 24,
   "metadata": {},
   "outputs": [
    {
     "name": "stderr",
     "output_type": "stream",
     "text": [
      "C:\\Users\\SPundir\\AppData\\Local\\Continuum\\anaconda3\\lib\\site-packages\\sklearn\\preprocessing\\data.py:645: DataConversionWarning: Data with input dtype int64, float64 were all converted to float64 by StandardScaler.\n",
      "  return self.partial_fit(X, y)\n",
      "C:\\Users\\SPundir\\AppData\\Local\\Continuum\\anaconda3\\lib\\site-packages\\sklearn\\base.py:464: DataConversionWarning: Data with input dtype int64, float64 were all converted to float64 by StandardScaler.\n",
      "  return self.fit(X, **fit_params).transform(X)\n"
     ]
    }
   ],
   "source": [
    "X_test=StandardScaler().fit_transform(X_test)"
   ]
  },
  {
   "cell_type": "code",
   "execution_count": 25,
   "metadata": {},
   "outputs": [
    {
     "data": {
      "text/plain": [
       "array([0.30997816, 0.20425749])"
      ]
     },
     "execution_count": 25,
     "metadata": {},
     "output_type": "execute_result"
    }
   ],
   "source": [
    "pca.explained_variance_ratio_"
   ]
  },
  {
   "cell_type": "code",
   "execution_count": 26,
   "metadata": {},
   "outputs": [],
   "source": [
    "pc=pd.DataFrame(pc_train)"
   ]
  },
  {
   "cell_type": "code",
   "execution_count": 27,
   "metadata": {},
   "outputs": [],
   "source": [
    "y_t=pd.DataFrame(y_train)\n",
    "y_t['pca1']=pc_train[:,0]\n",
    "y_t['pca2']=pc_train[:,1]"
   ]
  },
  {
   "cell_type": "code",
   "execution_count": 28,
   "metadata": {},
   "outputs": [
    {
     "name": "stderr",
     "output_type": "stream",
     "text": [
      "C:\\Users\\SPundir\\AppData\\Local\\Continuum\\anaconda3\\lib\\site-packages\\ggplot\\utils.py:81: FutureWarning: pandas.tslib is deprecated and will be removed in a future version.\n",
      "You can access Timestamp as pandas.Timestamp\n",
      "  pd.tslib.Timestamp,\n"
     ]
    },
    {
     "data": {
      "image/png": "[encoded data removed]",
      "text/plain": [
       "<Figure size 792x576 with 1 Axes>"
      ]
     },
     "metadata": {},
     "output_type": "display_data"
    },
    {
     "data": {
      "text/plain": [
       "<ggplot: (98284581103)>"
      ]
     },
     "execution_count": 28,
     "metadata": {},
     "output_type": "execute_result"
    }
   ],
   "source": [
    "from ggplot import *\n",
    "chart = ggplot( y_t, aes(x='pca1', y='pca2', color='Result') ) \\\n",
    "        + geom_point(size=75,alpha=0.8) \\\n",
    "        + ggtitle(\"First two Principal Components colored by digit\")\n",
    "chart"
   ]
  },
  {
   "cell_type": "code",
   "execution_count": 29,
   "metadata": {},
   "outputs": [],
   "source": [
    "from sklearn.discriminant_analysis import LinearDiscriminantAnalysis\n",
    "lda=LinearDiscriminantAnalysis()\n",
    "model_lda=lda.fit(X_train,y_train.ravel())"
   ]
  },
  {
   "cell_type": "code",
   "execution_count": 30,
   "metadata": {},
   "outputs": [],
   "source": [
    "y_pred_lda=lda.predict_proba(X_test)[:,1]"
   ]
  },
  {
   "cell_type": "code",
   "execution_count": 31,
   "metadata": {},
   "outputs": [],
   "source": [
    "y_pred_lda=np.where(y_pred_lda>=.5,1,0)"
   ]
  },
  {
   "cell_type": "code",
   "execution_count": 32,
   "metadata": {},
   "outputs": [
    {
     "data": {
      "text/plain": [
       "array([[73, 16],\n",
       "       [19, 22]], dtype=int64)"
      ]
     },
     "execution_count": 32,
     "metadata": {},
     "output_type": "execute_result"
    }
   ],
   "source": [
    "metrics.confusion_matrix(y_test,y_pred_lda)"
   ]
  },
  {
   "cell_type": "code",
   "execution_count": 33,
   "metadata": {},
   "outputs": [],
   "source": [
    "auc_r=metrics.roc_auc_score(y_test,y_pred_lda)"
   ]
  },
  {
   "cell_type": "code",
   "execution_count": 34,
   "metadata": {},
   "outputs": [
    {
     "data": {
      "text/plain": [
       "0.6784050424773911"
      ]
     },
     "execution_count": 34,
     "metadata": {},
     "output_type": "execute_result"
    }
   ],
   "source": [
    "auc_r"
   ]
  },
  {
   "cell_type": "code",
   "execution_count": 35,
   "metadata": {},
   "outputs": [],
   "source": [
    "fpr, tpr, threshold = metrics.roc_curve(y_test, y_pred_lda)\n",
    "roc_auc = metrics.auc(fpr, tpr)"
   ]
  },
  {
   "cell_type": "code",
   "execution_count": 36,
   "metadata": {},
   "outputs": [
    {
     "data": {
      "image/png": "[encoded data removed]",
      "text/plain": [
       "<Figure size 792x576 with 1 Axes>"
      ]
     },
     "metadata": {},
     "output_type": "display_data"
    },
    {
     "data": {
      "text/plain": [
       "<ggplot: (-9223371938569961882)>"
      ]
     },
     "execution_count": 36,
     "metadata": {},
     "output_type": "execute_result"
    }
   ],
   "source": [
    "from ggplot import *\n",
    "df = pd.DataFrame(dict(fpr = fpr, tpr = tpr))\n",
    "ggplot(df, aes(x = 'fpr', y = 'tpr')) + geom_line() + geom_abline(linetype = 'dashed')"
   ]
  },
  {
   "cell_type": "code",
   "execution_count": 37,
   "metadata": {},
   "outputs": [],
   "source": [
    "from sklearn import tree"
   ]
  },
  {
   "cell_type": "code",
   "execution_count": 38,
   "metadata": {},
   "outputs": [],
   "source": [
    "model_tree=tree.DecisionTreeClassifier()"
   ]
  },
  {
   "cell_type": "code",
   "execution_count": 39,
   "metadata": {},
   "outputs": [],
   "source": [
    "model_tree=model_tree.fit(X_train,y_train)"
   ]
  },
  {
   "cell_type": "code",
   "execution_count": 40,
   "metadata": {},
   "outputs": [
    {
     "data": {
      "text/plain": [
       "array([0.09128828, 0.39613273, 0.06584132, 0.03240187, 0.11064219,\n",
       "       0.15306162, 0.15063199])"
      ]
     },
     "execution_count": 40,
     "metadata": {},
     "output_type": "execute_result"
    }
   ],
   "source": [
    "model_tree.feature_importances_"
   ]
  },
  {
   "cell_type": "code",
   "execution_count": 41,
   "metadata": {},
   "outputs": [],
   "source": [
    "import graphviz"
   ]
  },
  {
   "cell_type": "code",
   "execution_count": 42,
   "metadata": {},
   "outputs": [],
   "source": [
    "data_treeplot=tree.export_graphviz(model_tree,out_file='D_Tree.dot')\n",
    "graph=graphviz.Source(data_treeplot)"
   ]
  },
  {
   "cell_type": "code",
   "execution_count": 43,
   "metadata": {},
   "outputs": [
    {
     "data": {
      "image/svg+xml": [
       "<?xml version=\"1.0\" encoding=\"UTF-8\" standalone=\"no\"?>\r\n",
       "<!DOCTYPE svg PUBLIC \"-//W3C//DTD SVG 1.1//EN\"\r\n",
       " \"http://www.w3.org/Graphics/SVG/1.1/DTD/svg11.dtd\">\r\n",
       "<!-- Generated by graphviz version 2.38.0 (20140413.2041)\r\n",
       " -->\r\n",
       "<!-- Title: Tree Pages: 1 -->\r\n",
       "<svg width=\"2236pt\" height=\"1101pt\"\r\n",
       " viewBox=\"0.00 0.00 2236.00 1101.00\" xmlns=\"http://www.w3.org/2000/svg\" xmlns:xlink=\"http://www.w3.org/1999/xlink\">\r\n",
       "<g id=\"graph0\" class=\"graph\" transform=\"scale(1 1) rotate(0) translate(4 1097)\">\r\n",
       "<title>Tree</title>\r\n",
       "<polygon fill=\"white\" stroke=\"none\" points=\"-4,4 -4,-1097 2232,-1097 2232,4 -4,4\"/>\r\n",
       "<!-- 0 -->\r\n",
       "<g id=\"node1\" class=\"node\"><title>0</title>\r\n",
       "<polygon fill=\"none\" stroke=\"black\" points=\"1114.5,-1093 1003.5,-1093 1003.5,-1025 1114.5,-1025 1114.5,-1093\"/>\r\n",
       "<text text-anchor=\"middle\" x=\"1059\" y=\"-1077.8\" font-family=\"Times New Roman,serif\" font-size=\"14.00\">X[1] &lt;= 0.115</text>\r\n",
       "<text text-anchor=\"middle\" x=\"1059\" y=\"-1062.8\" font-family=\"Times New Roman,serif\" font-size=\"14.00\">gini = 0.449</text>\r\n",
       "<text text-anchor=\"middle\" x=\"1059\" y=\"-1047.8\" font-family=\"Times New Roman,serif\" font-size=\"14.00\">samples = 262</text>\r\n",
       "<text text-anchor=\"middle\" x=\"1059\" y=\"-1032.8\" font-family=\"Times New Roman,serif\" font-size=\"14.00\">value = [173, 89]</text>\r\n",
       "</g>\r\n",
       "<!-- 1 -->\r\n",
       "<g id=\"node2\" class=\"node\"><title>1</title>\r\n",
       "<polygon fill=\"none\" stroke=\"black\" points=\"834.5,-989 723.5,-989 723.5,-921 834.5,-921 834.5,-989\"/>\r\n",
       "<text text-anchor=\"middle\" x=\"779\" y=\"-973.8\" font-family=\"Times New Roman,serif\" font-size=\"14.00\">X[4] &lt;= &#45;0.053</text>\r\n",
       "<text text-anchor=\"middle\" x=\"779\" y=\"-958.8\" font-family=\"Times New Roman,serif\" font-size=\"14.00\">gini = 0.24</text>\r\n",
       "<text text-anchor=\"middle\" x=\"779\" y=\"-943.8\" font-family=\"Times New Roman,serif\" font-size=\"14.00\">samples = 158</text>\r\n",
       "<text text-anchor=\"middle\" x=\"779\" y=\"-928.8\" font-family=\"Times New Roman,serif\" font-size=\"14.00\">value = [136, 22]</text>\r\n",
       "</g>\r\n",
       "<!-- 0&#45;&gt;1 -->\r\n",
       "<g id=\"edge1\" class=\"edge\"><title>0&#45;&gt;1</title>\r\n",
       "<path fill=\"none\" stroke=\"black\" d=\"M1003.35,-1037.73C957.444,-1021 892.256,-997.258 843.97,-979.668\"/>\r\n",
       "<polygon fill=\"black\" stroke=\"black\" points=\"845.142,-976.37 834.548,-976.235 842.746,-982.947 845.142,-976.37\"/>\r\n",
       "<text text-anchor=\"middle\" x=\"845.108\" y=\"-995.196\" font-family=\"Times New Roman,serif\" font-size=\"14.00\">True</text>\r\n",
       "</g>\r\n",
       "<!-- 42 -->\r\n",
       "<g id=\"node43\" class=\"node\"><title>42</title>\r\n",
       "<polygon fill=\"none\" stroke=\"black\" points=\"1440,-989 1336,-989 1336,-921 1440,-921 1440,-989\"/>\r\n",
       "<text text-anchor=\"middle\" x=\"1388\" y=\"-973.8\" font-family=\"Times New Roman,serif\" font-size=\"14.00\">X[5] &lt;= &#45;0.517</text>\r\n",
       "<text text-anchor=\"middle\" x=\"1388\" y=\"-958.8\" font-family=\"Times New Roman,serif\" font-size=\"14.00\">gini = 0.458</text>\r\n",
       "<text text-anchor=\"middle\" x=\"1388\" y=\"-943.8\" font-family=\"Times New Roman,serif\" font-size=\"14.00\">samples = 104</text>\r\n",
       "<text text-anchor=\"middle\" x=\"1388\" y=\"-928.8\" font-family=\"Times New Roman,serif\" font-size=\"14.00\">value = [37, 67]</text>\r\n",
       "</g>\r\n",
       "<!-- 0&#45;&gt;42 -->\r\n",
       "<g id=\"edge42\" class=\"edge\"><title>0&#45;&gt;42</title>\r\n",
       "<path fill=\"none\" stroke=\"black\" d=\"M1114.81,-1040.7C1173.42,-1022.53 1265.35,-994.024 1326.14,-975.178\"/>\r\n",
       "<polygon fill=\"black\" stroke=\"black\" points=\"1327.48,-978.428 1335.99,-972.124 1325.4,-971.742 1327.48,-978.428\"/>\r\n",
       "<text text-anchor=\"middle\" x=\"1324.34\" y=\"-990.544\" font-family=\"Times New Roman,serif\" font-size=\"14.00\">False</text>\r\n",
       "</g>\r\n",
       "<!-- 2 -->\r\n",
       "<g id=\"node3\" class=\"node\"><title>2</title>\r\n",
       "<polygon fill=\"none\" stroke=\"black\" points=\"608,-885 504,-885 504,-817 608,-817 608,-885\"/>\r\n",
       "<text text-anchor=\"middle\" x=\"556\" y=\"-869.8\" font-family=\"Times New Roman,serif\" font-size=\"14.00\">X[0] &lt;= 1.964</text>\r\n",
       "<text text-anchor=\"middle\" x=\"556\" y=\"-854.8\" font-family=\"Times New Roman,serif\" font-size=\"14.00\">gini = 0.138</text>\r\n",
       "<text text-anchor=\"middle\" x=\"556\" y=\"-839.8\" font-family=\"Times New Roman,serif\" font-size=\"14.00\">samples = 121</text>\r\n",
       "<text text-anchor=\"middle\" x=\"556\" y=\"-824.8\" font-family=\"Times New Roman,serif\" font-size=\"14.00\">value = [112, 9]</text>\r\n",
       "</g>\r\n",
       "<!-- 1&#45;&gt;2 -->\r\n",
       "<g id=\"edge2\" class=\"edge\"><title>1&#45;&gt;2</title>\r\n",
       "<path fill=\"none\" stroke=\"black\" d=\"M723.303,-928.524C691.111,-913.8 650.557,-895.25 617.44,-880.102\"/>\r\n",
       "<polygon fill=\"black\" stroke=\"black\" points=\"618.859,-876.903 608.309,-875.926 615.947,-883.268 618.859,-876.903\"/>\r\n",
       "</g>\r\n",
       "<!-- 23 -->\r\n",
       "<g id=\"node24\" class=\"node\"><title>23</title>\r\n",
       "<polygon fill=\"none\" stroke=\"black\" points=\"831,-885 727,-885 727,-817 831,-817 831,-885\"/>\r\n",
       "<text text-anchor=\"middle\" x=\"779\" y=\"-869.8\" font-family=\"Times New Roman,serif\" font-size=\"14.00\">X[6] &lt;= 0.08</text>\r\n",
       "<text text-anchor=\"middle\" x=\"779\" y=\"-854.8\" font-family=\"Times New Roman,serif\" font-size=\"14.00\">gini = 0.456</text>\r\n",
       "<text text-anchor=\"middle\" x=\"779\" y=\"-839.8\" font-family=\"Times New Roman,serif\" font-size=\"14.00\">samples = 37</text>\r\n",
       "<text text-anchor=\"middle\" x=\"779\" y=\"-824.8\" font-family=\"Times New Roman,serif\" font-size=\"14.00\">value = [24, 13]</text>\r\n",
       "</g>\r\n",
       "<!-- 1&#45;&gt;23 -->\r\n",
       "<g id=\"edge23\" class=\"edge\"><title>1&#45;&gt;23</title>\r\n",
       "<path fill=\"none\" stroke=\"black\" d=\"M779,-920.884C779,-912.778 779,-903.982 779,-895.472\"/>\r\n",
       "<polygon fill=\"black\" stroke=\"black\" points=\"782.5,-895.299 779,-885.299 775.5,-895.299 782.5,-895.299\"/>\r\n",
       "</g>\r\n",
       "<!-- 3 -->\r\n",
       "<g id=\"node4\" class=\"node\"><title>3</title>\r\n",
       "<polygon fill=\"none\" stroke=\"black\" points=\"394,-781 290,-781 290,-713 394,-713 394,-781\"/>\r\n",
       "<text text-anchor=\"middle\" x=\"342\" y=\"-765.8\" font-family=\"Times New Roman,serif\" font-size=\"14.00\">X[6] &lt;= 0.967</text>\r\n",
       "<text text-anchor=\"middle\" x=\"342\" y=\"-750.8\" font-family=\"Times New Roman,serif\" font-size=\"14.00\">gini = 0.124</text>\r\n",
       "<text text-anchor=\"middle\" x=\"342\" y=\"-735.8\" font-family=\"Times New Roman,serif\" font-size=\"14.00\">samples = 120</text>\r\n",
       "<text text-anchor=\"middle\" x=\"342\" y=\"-720.8\" font-family=\"Times New Roman,serif\" font-size=\"14.00\">value = [112, 8]</text>\r\n",
       "</g>\r\n",
       "<!-- 2&#45;&gt;3 -->\r\n",
       "<g id=\"edge3\" class=\"edge\"><title>2&#45;&gt;3</title>\r\n",
       "<path fill=\"none\" stroke=\"black\" d=\"M503.923,-825.178C473.633,-810.741 435.285,-792.463 403.513,-777.319\"/>\r\n",
       "<polygon fill=\"black\" stroke=\"black\" points=\"404.843,-774.076 394.31,-772.933 401.831,-780.395 404.843,-774.076\"/>\r\n",
       "</g>\r\n",
       "<!-- 22 -->\r\n",
       "<g id=\"node23\" class=\"node\"><title>22</title>\r\n",
       "<polygon fill=\"none\" stroke=\"black\" points=\"601.5,-773.5 510.5,-773.5 510.5,-720.5 601.5,-720.5 601.5,-773.5\"/>\r\n",
       "<text text-anchor=\"middle\" x=\"556\" y=\"-758.3\" font-family=\"Times New Roman,serif\" font-size=\"14.00\">gini = 0.0</text>\r\n",
       "<text text-anchor=\"middle\" x=\"556\" y=\"-743.3\" font-family=\"Times New Roman,serif\" font-size=\"14.00\">samples = 1</text>\r\n",
       "<text text-anchor=\"middle\" x=\"556\" y=\"-728.3\" font-family=\"Times New Roman,serif\" font-size=\"14.00\">value = [0, 1]</text>\r\n",
       "</g>\r\n",
       "<!-- 2&#45;&gt;22 -->\r\n",
       "<g id=\"edge22\" class=\"edge\"><title>2&#45;&gt;22</title>\r\n",
       "<path fill=\"none\" stroke=\"black\" d=\"M556,-816.884C556,-806.326 556,-794.597 556,-783.854\"/>\r\n",
       "<polygon fill=\"black\" stroke=\"black\" points=\"559.5,-783.52 556,-773.52 552.5,-783.52 559.5,-783.52\"/>\r\n",
       "</g>\r\n",
       "<!-- 4 -->\r\n",
       "<g id=\"node5\" class=\"node\"><title>4</title>\r\n",
       "<polygon fill=\"none\" stroke=\"black\" points=\"221,-677 117,-677 117,-609 221,-609 221,-677\"/>\r\n",
       "<text text-anchor=\"middle\" x=\"169\" y=\"-661.8\" font-family=\"Times New Roman,serif\" font-size=\"14.00\">X[5] &lt;= 1.709</text>\r\n",
       "<text text-anchor=\"middle\" x=\"169\" y=\"-646.8\" font-family=\"Times New Roman,serif\" font-size=\"14.00\">gini = 0.089</text>\r\n",
       "<text text-anchor=\"middle\" x=\"169\" y=\"-631.8\" font-family=\"Times New Roman,serif\" font-size=\"14.00\">samples = 107</text>\r\n",
       "<text text-anchor=\"middle\" x=\"169\" y=\"-616.8\" font-family=\"Times New Roman,serif\" font-size=\"14.00\">value = [102, 5]</text>\r\n",
       "</g>\r\n",
       "<!-- 3&#45;&gt;4 -->\r\n",
       "<g id=\"edge4\" class=\"edge\"><title>3&#45;&gt;4</title>\r\n",
       "<path fill=\"none\" stroke=\"black\" d=\"M289.625,-715.12C270.824,-704.035 249.462,-691.44 229.993,-679.961\"/>\r\n",
       "<polygon fill=\"black\" stroke=\"black\" points=\"231.589,-676.839 221.197,-674.775 228.034,-682.869 231.589,-676.839\"/>\r\n",
       "</g>\r\n",
       "<!-- 19 -->\r\n",
       "<g id=\"node20\" class=\"node\"><title>19</title>\r\n",
       "<polygon fill=\"none\" stroke=\"black\" points=\"391,-677 293,-677 293,-609 391,-609 391,-677\"/>\r\n",
       "<text text-anchor=\"middle\" x=\"342\" y=\"-661.8\" font-family=\"Times New Roman,serif\" font-size=\"14.00\">X[0] &lt;= 0.075</text>\r\n",
       "<text text-anchor=\"middle\" x=\"342\" y=\"-646.8\" font-family=\"Times New Roman,serif\" font-size=\"14.00\">gini = 0.355</text>\r\n",
       "<text text-anchor=\"middle\" x=\"342\" y=\"-631.8\" font-family=\"Times New Roman,serif\" font-size=\"14.00\">samples = 13</text>\r\n",
       "<text text-anchor=\"middle\" x=\"342\" y=\"-616.8\" font-family=\"Times New Roman,serif\" font-size=\"14.00\">value = [10, 3]</text>\r\n",
       "</g>\r\n",
       "<!-- 3&#45;&gt;19 -->\r\n",
       "<g id=\"edge19\" class=\"edge\"><title>3&#45;&gt;19</title>\r\n",
       "<path fill=\"none\" stroke=\"black\" d=\"M342,-712.884C342,-704.778 342,-695.982 342,-687.472\"/>\r\n",
       "<polygon fill=\"black\" stroke=\"black\" points=\"345.5,-687.299 342,-677.299 338.5,-687.299 345.5,-687.299\"/>\r\n",
       "</g>\r\n",
       "<!-- 5 -->\r\n",
       "<g id=\"node6\" class=\"node\"><title>5</title>\r\n",
       "<polygon fill=\"none\" stroke=\"black\" points=\"105,-573 1,-573 1,-505 105,-505 105,-573\"/>\r\n",
       "<text text-anchor=\"middle\" x=\"53\" y=\"-557.8\" font-family=\"Times New Roman,serif\" font-size=\"14.00\">X[5] &lt;= &#45;0.333</text>\r\n",
       "<text text-anchor=\"middle\" x=\"53\" y=\"-542.8\" font-family=\"Times New Roman,serif\" font-size=\"14.00\">gini = 0.073</text>\r\n",
       "<text text-anchor=\"middle\" x=\"53\" y=\"-527.8\" font-family=\"Times New Roman,serif\" font-size=\"14.00\">samples = 106</text>\r\n",
       "<text text-anchor=\"middle\" x=\"53\" y=\"-512.8\" font-family=\"Times New Roman,serif\" font-size=\"14.00\">value = [102, 4]</text>\r\n",
       "</g>\r\n",
       "<!-- 4&#45;&gt;5 -->\r\n",
       "<g id=\"edge5\" class=\"edge\"><title>4&#45;&gt;5</title>\r\n",
       "<path fill=\"none\" stroke=\"black\" d=\"M131.338,-608.884C120.904,-599.709 109.465,-589.65 98.6298,-580.123\"/>\r\n",
       "<polygon fill=\"black\" stroke=\"black\" points=\"100.691,-577.274 90.8699,-573.299 96.0684,-582.531 100.691,-577.274\"/>\r\n",
       "</g>\r\n",
       "<!-- 18 -->\r\n",
       "<g id=\"node19\" class=\"node\"><title>18</title>\r\n",
       "<polygon fill=\"none\" stroke=\"black\" points=\"214.5,-565.5 123.5,-565.5 123.5,-512.5 214.5,-512.5 214.5,-565.5\"/>\r\n",
       "<text text-anchor=\"middle\" x=\"169\" y=\"-550.3\" font-family=\"Times New Roman,serif\" font-size=\"14.00\">gini = 0.0</text>\r\n",
       "<text text-anchor=\"middle\" x=\"169\" y=\"-535.3\" font-family=\"Times New Roman,serif\" font-size=\"14.00\">samples = 1</text>\r\n",
       "<text text-anchor=\"middle\" x=\"169\" y=\"-520.3\" font-family=\"Times New Roman,serif\" font-size=\"14.00\">value = [0, 1]</text>\r\n",
       "</g>\r\n",
       "<!-- 4&#45;&gt;18 -->\r\n",
       "<g id=\"edge18\" class=\"edge\"><title>4&#45;&gt;18</title>\r\n",
       "<path fill=\"none\" stroke=\"black\" d=\"M169,-608.884C169,-598.326 169,-586.597 169,-575.854\"/>\r\n",
       "<polygon fill=\"black\" stroke=\"black\" points=\"172.5,-575.52 169,-565.52 165.5,-575.52 172.5,-575.52\"/>\r\n",
       "</g>\r\n",
       "<!-- 6 -->\r\n",
       "<g id=\"node7\" class=\"node\"><title>6</title>\r\n",
       "<polygon fill=\"none\" stroke=\"black\" points=\"98,-461.5 0,-461.5 0,-408.5 98,-408.5 98,-461.5\"/>\r\n",
       "<text text-anchor=\"middle\" x=\"49\" y=\"-446.3\" font-family=\"Times New Roman,serif\" font-size=\"14.00\">gini = 0.0</text>\r\n",
       "<text text-anchor=\"middle\" x=\"49\" y=\"-431.3\" font-family=\"Times New Roman,serif\" font-size=\"14.00\">samples = 51</text>\r\n",
       "<text text-anchor=\"middle\" x=\"49\" y=\"-416.3\" font-family=\"Times New Roman,serif\" font-size=\"14.00\">value = [51, 0]</text>\r\n",
       "</g>\r\n",
       "<!-- 5&#45;&gt;6 -->\r\n",
       "<g id=\"edge6\" class=\"edge\"><title>5&#45;&gt;6</title>\r\n",
       "<path fill=\"none\" stroke=\"black\" d=\"M51.7013,-504.884C51.283,-494.216 50.8177,-482.352 50.3929,-471.519\"/>\r\n",
       "<polygon fill=\"black\" stroke=\"black\" points=\"53.89,-471.375 50.0008,-461.52 46.8954,-471.649 53.89,-471.375\"/>\r\n",
       "</g>\r\n",
       "<!-- 7 -->\r\n",
       "<g id=\"node8\" class=\"node\"><title>7</title>\r\n",
       "<polygon fill=\"none\" stroke=\"black\" points=\"217.5,-469 116.5,-469 116.5,-401 217.5,-401 217.5,-469\"/>\r\n",
       "<text text-anchor=\"middle\" x=\"167\" y=\"-453.8\" font-family=\"Times New Roman,serif\" font-size=\"14.00\">X[2] &lt;= &#45;1.601</text>\r\n",
       "<text text-anchor=\"middle\" x=\"167\" y=\"-438.8\" font-family=\"Times New Roman,serif\" font-size=\"14.00\">gini = 0.135</text>\r\n",
       "<text text-anchor=\"middle\" x=\"167\" y=\"-423.8\" font-family=\"Times New Roman,serif\" font-size=\"14.00\">samples = 55</text>\r\n",
       "<text text-anchor=\"middle\" x=\"167\" y=\"-408.8\" font-family=\"Times New Roman,serif\" font-size=\"14.00\">value = [51, 4]</text>\r\n",
       "</g>\r\n",
       "<!-- 5&#45;&gt;7 -->\r\n",
       "<g id=\"edge7\" class=\"edge\"><title>5&#45;&gt;7</title>\r\n",
       "<path fill=\"none\" stroke=\"black\" d=\"M90.0125,-504.884C100.266,-495.709 111.509,-485.65 122.157,-476.123\"/>\r\n",
       "<polygon fill=\"black\" stroke=\"black\" points=\"124.664,-478.576 129.783,-469.299 119.997,-473.359 124.664,-478.576\"/>\r\n",
       "</g>\r\n",
       "<!-- 8 -->\r\n",
       "<g id=\"node9\" class=\"node\"><title>8</title>\r\n",
       "<polygon fill=\"none\" stroke=\"black\" points=\"164.5,-357.5 73.5,-357.5 73.5,-304.5 164.5,-304.5 164.5,-357.5\"/>\r\n",
       "<text text-anchor=\"middle\" x=\"119\" y=\"-342.3\" font-family=\"Times New Roman,serif\" font-size=\"14.00\">gini = 0.0</text>\r\n",
       "<text text-anchor=\"middle\" x=\"119\" y=\"-327.3\" font-family=\"Times New Roman,serif\" font-size=\"14.00\">samples = 1</text>\r\n",
       "<text text-anchor=\"middle\" x=\"119\" y=\"-312.3\" font-family=\"Times New Roman,serif\" font-size=\"14.00\">value = [0, 1]</text>\r\n",
       "</g>\r\n",
       "<!-- 7&#45;&gt;8 -->\r\n",
       "<g id=\"edge8\" class=\"edge\"><title>7&#45;&gt;8</title>\r\n",
       "<path fill=\"none\" stroke=\"black\" d=\"M151.416,-400.884C146.292,-389.996 140.582,-377.863 135.4,-366.85\"/>\r\n",
       "<polygon fill=\"black\" stroke=\"black\" points=\"138.434,-365.078 131.009,-357.52 132.101,-368.058 138.434,-365.078\"/>\r\n",
       "</g>\r\n",
       "<!-- 9 -->\r\n",
       "<g id=\"node10\" class=\"node\"><title>9</title>\r\n",
       "<polygon fill=\"none\" stroke=\"black\" points=\"283.5,-365 182.5,-365 182.5,-297 283.5,-297 283.5,-365\"/>\r\n",
       "<text text-anchor=\"middle\" x=\"233\" y=\"-349.8\" font-family=\"Times New Roman,serif\" font-size=\"14.00\">X[4] &lt;= &#45;1.028</text>\r\n",
       "<text text-anchor=\"middle\" x=\"233\" y=\"-334.8\" font-family=\"Times New Roman,serif\" font-size=\"14.00\">gini = 0.105</text>\r\n",
       "<text text-anchor=\"middle\" x=\"233\" y=\"-319.8\" font-family=\"Times New Roman,serif\" font-size=\"14.00\">samples = 54</text>\r\n",
       "<text text-anchor=\"middle\" x=\"233\" y=\"-304.8\" font-family=\"Times New Roman,serif\" font-size=\"14.00\">value = [51, 3]</text>\r\n",
       "</g>\r\n",
       "<!-- 7&#45;&gt;9 -->\r\n",
       "<g id=\"edge9\" class=\"edge\"><title>7&#45;&gt;9</title>\r\n",
       "<path fill=\"none\" stroke=\"black\" d=\"M188.428,-400.884C194.019,-392.243 200.117,-382.819 205.958,-373.793\"/>\r\n",
       "<polygon fill=\"black\" stroke=\"black\" points=\"208.959,-375.596 211.453,-365.299 203.082,-371.794 208.959,-375.596\"/>\r\n",
       "</g>\r\n",
       "<!-- 10 -->\r\n",
       "<g id=\"node11\" class=\"node\"><title>10</title>\r\n",
       "<polygon fill=\"none\" stroke=\"black\" points=\"280.5,-261 179.5,-261 179.5,-193 280.5,-193 280.5,-261\"/>\r\n",
       "<text text-anchor=\"middle\" x=\"230\" y=\"-245.8\" font-family=\"Times New Roman,serif\" font-size=\"14.00\">X[4] &lt;= &#45;1.106</text>\r\n",
       "<text text-anchor=\"middle\" x=\"230\" y=\"-230.8\" font-family=\"Times New Roman,serif\" font-size=\"14.00\">gini = 0.444</text>\r\n",
       "<text text-anchor=\"middle\" x=\"230\" y=\"-215.8\" font-family=\"Times New Roman,serif\" font-size=\"14.00\">samples = 3</text>\r\n",
       "<text text-anchor=\"middle\" x=\"230\" y=\"-200.8\" font-family=\"Times New Roman,serif\" font-size=\"14.00\">value = [2, 1]</text>\r\n",
       "</g>\r\n",
       "<!-- 9&#45;&gt;10 -->\r\n",
       "<g id=\"edge10\" class=\"edge\"><title>9&#45;&gt;10</title>\r\n",
       "<path fill=\"none\" stroke=\"black\" d=\"M232.026,-296.884C231.788,-288.778 231.529,-279.982 231.279,-271.472\"/>\r\n",
       "<polygon fill=\"black\" stroke=\"black\" points=\"234.772,-271.192 230.979,-261.299 227.775,-271.398 234.772,-271.192\"/>\r\n",
       "</g>\r\n",
       "<!-- 13 -->\r\n",
       "<g id=\"node14\" class=\"node\"><title>13</title>\r\n",
       "<polygon fill=\"none\" stroke=\"black\" points=\"399.5,-261 298.5,-261 298.5,-193 399.5,-193 399.5,-261\"/>\r\n",
       "<text text-anchor=\"middle\" x=\"349\" y=\"-245.8\" font-family=\"Times New Roman,serif\" font-size=\"14.00\">X[6] &lt;= &#45;0.008</text>\r\n",
       "<text text-anchor=\"middle\" x=\"349\" y=\"-230.8\" font-family=\"Times New Roman,serif\" font-size=\"14.00\">gini = 0.075</text>\r\n",
       "<text text-anchor=\"middle\" x=\"349\" y=\"-215.8\" font-family=\"Times New Roman,serif\" font-size=\"14.00\">samples = 51</text>\r\n",
       "<text text-anchor=\"middle\" x=\"349\" y=\"-200.8\" font-family=\"Times New Roman,serif\" font-size=\"14.00\">value = [49, 2]</text>\r\n",
       "</g>\r\n",
       "<!-- 9&#45;&gt;13 -->\r\n",
       "<g id=\"edge13\" class=\"edge\"><title>9&#45;&gt;13</title>\r\n",
       "<path fill=\"none\" stroke=\"black\" d=\"M270.662,-296.884C281.096,-287.709 292.535,-277.65 303.37,-268.123\"/>\r\n",
       "<polygon fill=\"black\" stroke=\"black\" points=\"305.932,-270.531 311.13,-261.299 301.309,-265.274 305.932,-270.531\"/>\r\n",
       "</g>\r\n",
       "<!-- 11 -->\r\n",
       "<g id=\"node12\" class=\"node\"><title>11</title>\r\n",
       "<polygon fill=\"none\" stroke=\"black\" points=\"168.5,-149.5 77.5,-149.5 77.5,-96.5 168.5,-96.5 168.5,-149.5\"/>\r\n",
       "<text text-anchor=\"middle\" x=\"123\" y=\"-134.3\" font-family=\"Times New Roman,serif\" font-size=\"14.00\">gini = 0.0</text>\r\n",
       "<text text-anchor=\"middle\" x=\"123\" y=\"-119.3\" font-family=\"Times New Roman,serif\" font-size=\"14.00\">samples = 2</text>\r\n",
       "<text text-anchor=\"middle\" x=\"123\" y=\"-104.3\" font-family=\"Times New Roman,serif\" font-size=\"14.00\">value = [2, 0]</text>\r\n",
       "</g>\r\n",
       "<!-- 10&#45;&gt;11 -->\r\n",
       "<g id=\"edge11\" class=\"edge\"><title>10&#45;&gt;11</title>\r\n",
       "<path fill=\"none\" stroke=\"black\" d=\"M195.26,-192.884C183.031,-181.226 169.304,-168.141 157.126,-156.532\"/>\r\n",
       "<polygon fill=\"black\" stroke=\"black\" points=\"159.424,-153.887 149.771,-149.52 154.594,-158.953 159.424,-153.887\"/>\r\n",
       "</g>\r\n",
       "<!-- 12 -->\r\n",
       "<g id=\"node13\" class=\"node\"><title>12</title>\r\n",
       "<polygon fill=\"none\" stroke=\"black\" points=\"277.5,-149.5 186.5,-149.5 186.5,-96.5 277.5,-96.5 277.5,-149.5\"/>\r\n",
       "<text text-anchor=\"middle\" x=\"232\" y=\"-134.3\" font-family=\"Times New Roman,serif\" font-size=\"14.00\">gini = 0.0</text>\r\n",
       "<text text-anchor=\"middle\" x=\"232\" y=\"-119.3\" font-family=\"Times New Roman,serif\" font-size=\"14.00\">samples = 1</text>\r\n",
       "<text text-anchor=\"middle\" x=\"232\" y=\"-104.3\" font-family=\"Times New Roman,serif\" font-size=\"14.00\">value = [0, 1]</text>\r\n",
       "</g>\r\n",
       "<!-- 10&#45;&gt;12 -->\r\n",
       "<g id=\"edge12\" class=\"edge\"><title>10&#45;&gt;12</title>\r\n",
       "<path fill=\"none\" stroke=\"black\" d=\"M230.649,-192.884C230.859,-182.216 231.091,-170.352 231.304,-159.519\"/>\r\n",
       "<polygon fill=\"black\" stroke=\"black\" points=\"234.803,-159.587 231.5,-149.52 227.804,-159.449 234.803,-159.587\"/>\r\n",
       "</g>\r\n",
       "<!-- 14 -->\r\n",
       "<g id=\"node15\" class=\"node\"><title>14</title>\r\n",
       "<polygon fill=\"none\" stroke=\"black\" points=\"395,-149.5 297,-149.5 297,-96.5 395,-96.5 395,-149.5\"/>\r\n",
       "<text text-anchor=\"middle\" x=\"346\" y=\"-134.3\" font-family=\"Times New Roman,serif\" font-size=\"14.00\">gini = 0.0</text>\r\n",
       "<text text-anchor=\"middle\" x=\"346\" y=\"-119.3\" font-family=\"Times New Roman,serif\" font-size=\"14.00\">samples = 37</text>\r\n",
       "<text text-anchor=\"middle\" x=\"346\" y=\"-104.3\" font-family=\"Times New Roman,serif\" font-size=\"14.00\">value = [37, 0]</text>\r\n",
       "</g>\r\n",
       "<!-- 13&#45;&gt;14 -->\r\n",
       "<g id=\"edge14\" class=\"edge\"><title>13&#45;&gt;14</title>\r\n",
       "<path fill=\"none\" stroke=\"black\" d=\"M348.026,-192.884C347.712,-182.216 347.363,-170.352 347.045,-159.519\"/>\r\n",
       "<polygon fill=\"black\" stroke=\"black\" points=\"350.543,-159.413 346.751,-149.52 343.546,-159.619 350.543,-159.413\"/>\r\n",
       "</g>\r\n",
       "<!-- 15 -->\r\n",
       "<g id=\"node16\" class=\"node\"><title>15</title>\r\n",
       "<polygon fill=\"none\" stroke=\"black\" points=\"511,-157 413,-157 413,-89 511,-89 511,-157\"/>\r\n",
       "<text text-anchor=\"middle\" x=\"462\" y=\"-141.8\" font-family=\"Times New Roman,serif\" font-size=\"14.00\">X[6] &lt;= 0.073</text>\r\n",
       "<text text-anchor=\"middle\" x=\"462\" y=\"-126.8\" font-family=\"Times New Roman,serif\" font-size=\"14.00\">gini = 0.245</text>\r\n",
       "<text text-anchor=\"middle\" x=\"462\" y=\"-111.8\" font-family=\"Times New Roman,serif\" font-size=\"14.00\">samples = 14</text>\r\n",
       "<text text-anchor=\"middle\" x=\"462\" y=\"-96.8\" font-family=\"Times New Roman,serif\" font-size=\"14.00\">value = [12, 2]</text>\r\n",
       "</g>\r\n",
       "<!-- 13&#45;&gt;15 -->\r\n",
       "<g id=\"edge15\" class=\"edge\"><title>13&#45;&gt;15</title>\r\n",
       "<path fill=\"none\" stroke=\"black\" d=\"M385.688,-192.884C395.852,-183.709 406.995,-173.65 417.55,-164.123\"/>\r\n",
       "<polygon fill=\"black\" stroke=\"black\" points=\"420.032,-166.598 425.11,-157.299 415.341,-161.402 420.032,-166.598\"/>\r\n",
       "</g>\r\n",
       "<!-- 16 -->\r\n",
       "<g id=\"node17\" class=\"node\"><title>16</title>\r\n",
       "<polygon fill=\"none\" stroke=\"black\" points=\"451.5,-53 360.5,-53 360.5,-0 451.5,-0 451.5,-53\"/>\r\n",
       "<text text-anchor=\"middle\" x=\"406\" y=\"-37.8\" font-family=\"Times New Roman,serif\" font-size=\"14.00\">gini = 0.0</text>\r\n",
       "<text text-anchor=\"middle\" x=\"406\" y=\"-22.8\" font-family=\"Times New Roman,serif\" font-size=\"14.00\">samples = 2</text>\r\n",
       "<text text-anchor=\"middle\" x=\"406\" y=\"-7.8\" font-family=\"Times New Roman,serif\" font-size=\"14.00\">value = [0, 2]</text>\r\n",
       "</g>\r\n",
       "<!-- 15&#45;&gt;16 -->\r\n",
       "<g id=\"edge16\" class=\"edge\"><title>15&#45;&gt;16</title>\r\n",
       "<path fill=\"none\" stroke=\"black\" d=\"M442.414,-88.9485C437.264,-80.2579 431.695,-70.8608 426.499,-62.0917\"/>\r\n",
       "<polygon fill=\"black\" stroke=\"black\" points=\"429.36,-60.0553 421.251,-53.2367 423.338,-63.624 429.36,-60.0553\"/>\r\n",
       "</g>\r\n",
       "<!-- 17 -->\r\n",
       "<g id=\"node18\" class=\"node\"><title>17</title>\r\n",
       "<polygon fill=\"none\" stroke=\"black\" points=\"568,-53 470,-53 470,-0 568,-0 568,-53\"/>\r\n",
       "<text text-anchor=\"middle\" x=\"519\" y=\"-37.8\" font-family=\"Times New Roman,serif\" font-size=\"14.00\">gini = 0.0</text>\r\n",
       "<text text-anchor=\"middle\" x=\"519\" y=\"-22.8\" font-family=\"Times New Roman,serif\" font-size=\"14.00\">samples = 12</text>\r\n",
       "<text text-anchor=\"middle\" x=\"519\" y=\"-7.8\" font-family=\"Times New Roman,serif\" font-size=\"14.00\">value = [12, 0]</text>\r\n",
       "</g>\r\n",
       "<!-- 15&#45;&gt;17 -->\r\n",
       "<g id=\"edge17\" class=\"edge\"><title>15&#45;&gt;17</title>\r\n",
       "<path fill=\"none\" stroke=\"black\" d=\"M481.936,-88.9485C487.233,-80.1664 492.965,-70.6629 498.302,-61.815\"/>\r\n",
       "<polygon fill=\"black\" stroke=\"black\" points=\"501.308,-63.6074 503.476,-53.2367 495.314,-59.9919 501.308,-63.6074\"/>\r\n",
       "</g>\r\n",
       "<!-- 20 -->\r\n",
       "<g id=\"node21\" class=\"node\"><title>20</title>\r\n",
       "<polygon fill=\"none\" stroke=\"black\" points=\"331,-565.5 233,-565.5 233,-512.5 331,-512.5 331,-565.5\"/>\r\n",
       "<text text-anchor=\"middle\" x=\"282\" y=\"-550.3\" font-family=\"Times New Roman,serif\" font-size=\"14.00\">gini = 0.0</text>\r\n",
       "<text text-anchor=\"middle\" x=\"282\" y=\"-535.3\" font-family=\"Times New Roman,serif\" font-size=\"14.00\">samples = 10</text>\r\n",
       "<text text-anchor=\"middle\" x=\"282\" y=\"-520.3\" font-family=\"Times New Roman,serif\" font-size=\"14.00\">value = [10, 0]</text>\r\n",
       "</g>\r\n",
       "<!-- 19&#45;&gt;20 -->\r\n",
       "<g id=\"edge20\" class=\"edge\"><title>19&#45;&gt;20</title>\r\n",
       "<path fill=\"none\" stroke=\"black\" d=\"M322.52,-608.884C315.986,-597.776 308.689,-585.372 302.108,-574.184\"/>\r\n",
       "<polygon fill=\"black\" stroke=\"black\" points=\"305.099,-572.365 297.012,-565.52 299.065,-575.914 305.099,-572.365\"/>\r\n",
       "</g>\r\n",
       "<!-- 21 -->\r\n",
       "<g id=\"node22\" class=\"node\"><title>21</title>\r\n",
       "<polygon fill=\"none\" stroke=\"black\" points=\"440.5,-565.5 349.5,-565.5 349.5,-512.5 440.5,-512.5 440.5,-565.5\"/>\r\n",
       "<text text-anchor=\"middle\" x=\"395\" y=\"-550.3\" font-family=\"Times New Roman,serif\" font-size=\"14.00\">gini = 0.0</text>\r\n",
       "<text text-anchor=\"middle\" x=\"395\" y=\"-535.3\" font-family=\"Times New Roman,serif\" font-size=\"14.00\">samples = 3</text>\r\n",
       "<text text-anchor=\"middle\" x=\"395\" y=\"-520.3\" font-family=\"Times New Roman,serif\" font-size=\"14.00\">value = [0, 3]</text>\r\n",
       "</g>\r\n",
       "<!-- 19&#45;&gt;21 -->\r\n",
       "<g id=\"edge21\" class=\"edge\"><title>19&#45;&gt;21</title>\r\n",
       "<path fill=\"none\" stroke=\"black\" d=\"M359.208,-608.884C364.922,-597.886 371.297,-585.617 377.065,-574.517\"/>\r\n",
       "<polygon fill=\"black\" stroke=\"black\" points=\"380.235,-576.007 381.74,-565.52 374.023,-572.78 380.235,-576.007\"/>\r\n",
       "</g>\r\n",
       "<!-- 24 -->\r\n",
       "<g id=\"node25\" class=\"node\"><title>24</title>\r\n",
       "<polygon fill=\"none\" stroke=\"black\" points=\"769,-781 671,-781 671,-713 769,-713 769,-781\"/>\r\n",
       "<text text-anchor=\"middle\" x=\"720\" y=\"-765.8\" font-family=\"Times New Roman,serif\" font-size=\"14.00\">X[2] &lt;= 1.525</text>\r\n",
       "<text text-anchor=\"middle\" x=\"720\" y=\"-750.8\" font-family=\"Times New Roman,serif\" font-size=\"14.00\">gini = 0.287</text>\r\n",
       "<text text-anchor=\"middle\" x=\"720\" y=\"-735.8\" font-family=\"Times New Roman,serif\" font-size=\"14.00\">samples = 23</text>\r\n",
       "<text text-anchor=\"middle\" x=\"720\" y=\"-720.8\" font-family=\"Times New Roman,serif\" font-size=\"14.00\">value = [19, 4]</text>\r\n",
       "</g>\r\n",
       "<!-- 23&#45;&gt;24 -->\r\n",
       "<g id=\"edge24\" class=\"edge\"><title>23&#45;&gt;24</title>\r\n",
       "<path fill=\"none\" stroke=\"black\" d=\"M759.844,-816.884C754.898,-808.332 749.508,-799.013 744.336,-790.072\"/>\r\n",
       "<polygon fill=\"black\" stroke=\"black\" points=\"747.298,-788.203 739.261,-781.299 741.239,-791.708 747.298,-788.203\"/>\r\n",
       "</g>\r\n",
       "<!-- 35 -->\r\n",
       "<g id=\"node36\" class=\"node\"><title>35</title>\r\n",
       "<polygon fill=\"none\" stroke=\"black\" points=\"888.5,-781 787.5,-781 787.5,-713 888.5,-713 888.5,-781\"/>\r\n",
       "<text text-anchor=\"middle\" x=\"838\" y=\"-765.8\" font-family=\"Times New Roman,serif\" font-size=\"14.00\">X[1] &lt;= &#45;0.147</text>\r\n",
       "<text text-anchor=\"middle\" x=\"838\" y=\"-750.8\" font-family=\"Times New Roman,serif\" font-size=\"14.00\">gini = 0.459</text>\r\n",
       "<text text-anchor=\"middle\" x=\"838\" y=\"-735.8\" font-family=\"Times New Roman,serif\" font-size=\"14.00\">samples = 14</text>\r\n",
       "<text text-anchor=\"middle\" x=\"838\" y=\"-720.8\" font-family=\"Times New Roman,serif\" font-size=\"14.00\">value = [5, 9]</text>\r\n",
       "</g>\r\n",
       "<!-- 23&#45;&gt;35 -->\r\n",
       "<g id=\"edge35\" class=\"edge\"><title>23&#45;&gt;35</title>\r\n",
       "<path fill=\"none\" stroke=\"black\" d=\"M798.156,-816.884C803.102,-808.332 808.492,-799.013 813.664,-790.072\"/>\r\n",
       "<polygon fill=\"black\" stroke=\"black\" points=\"816.761,-791.708 818.739,-781.299 810.702,-788.203 816.761,-791.708\"/>\r\n",
       "</g>\r\n",
       "<!-- 25 -->\r\n",
       "<g id=\"node26\" class=\"node\"><title>25</title>\r\n",
       "<polygon fill=\"none\" stroke=\"black\" points=\"657,-677 559,-677 559,-609 657,-609 657,-677\"/>\r\n",
       "<text text-anchor=\"middle\" x=\"608\" y=\"-661.8\" font-family=\"Times New Roman,serif\" font-size=\"14.00\">X[0] &lt;= 2.752</text>\r\n",
       "<text text-anchor=\"middle\" x=\"608\" y=\"-646.8\" font-family=\"Times New Roman,serif\" font-size=\"14.00\">gini = 0.236</text>\r\n",
       "<text text-anchor=\"middle\" x=\"608\" y=\"-631.8\" font-family=\"Times New Roman,serif\" font-size=\"14.00\">samples = 22</text>\r\n",
       "<text text-anchor=\"middle\" x=\"608\" y=\"-616.8\" font-family=\"Times New Roman,serif\" font-size=\"14.00\">value = [19, 3]</text>\r\n",
       "</g>\r\n",
       "<!-- 24&#45;&gt;25 -->\r\n",
       "<g id=\"edge25\" class=\"edge\"><title>24&#45;&gt;25</title>\r\n",
       "<path fill=\"none\" stroke=\"black\" d=\"M683.637,-712.884C673.563,-703.709 662.518,-693.65 652.056,-684.123\"/>\r\n",
       "<polygon fill=\"black\" stroke=\"black\" points=\"654.314,-681.445 644.564,-677.299 649.601,-686.62 654.314,-681.445\"/>\r\n",
       "</g>\r\n",
       "<!-- 34 -->\r\n",
       "<g id=\"node35\" class=\"node\"><title>34</title>\r\n",
       "<polygon fill=\"none\" stroke=\"black\" points=\"766.5,-669.5 675.5,-669.5 675.5,-616.5 766.5,-616.5 766.5,-669.5\"/>\r\n",
       "<text text-anchor=\"middle\" x=\"721\" y=\"-654.3\" font-family=\"Times New Roman,serif\" font-size=\"14.00\">gini = 0.0</text>\r\n",
       "<text text-anchor=\"middle\" x=\"721\" y=\"-639.3\" font-family=\"Times New Roman,serif\" font-size=\"14.00\">samples = 1</text>\r\n",
       "<text text-anchor=\"middle\" x=\"721\" y=\"-624.3\" font-family=\"Times New Roman,serif\" font-size=\"14.00\">value = [0, 1]</text>\r\n",
       "</g>\r\n",
       "<!-- 24&#45;&gt;34 -->\r\n",
       "<g id=\"edge34\" class=\"edge\"><title>24&#45;&gt;34</title>\r\n",
       "<path fill=\"none\" stroke=\"black\" d=\"M720.325,-712.884C720.428,-702.326 720.543,-690.597 720.648,-679.854\"/>\r\n",
       "<polygon fill=\"black\" stroke=\"black\" points=\"724.152,-679.554 720.75,-669.52 717.152,-679.485 724.152,-679.554\"/>\r\n",
       "</g>\r\n",
       "<!-- 26 -->\r\n",
       "<g id=\"node27\" class=\"node\"><title>26</title>\r\n",
       "<polygon fill=\"none\" stroke=\"black\" points=\"559.5,-573 458.5,-573 458.5,-505 559.5,-505 559.5,-573\"/>\r\n",
       "<text text-anchor=\"middle\" x=\"509\" y=\"-557.8\" font-family=\"Times New Roman,serif\" font-size=\"14.00\">X[6] &lt;= &#45;0.707</text>\r\n",
       "<text text-anchor=\"middle\" x=\"509\" y=\"-542.8\" font-family=\"Times New Roman,serif\" font-size=\"14.00\">gini = 0.172</text>\r\n",
       "<text text-anchor=\"middle\" x=\"509\" y=\"-527.8\" font-family=\"Times New Roman,serif\" font-size=\"14.00\">samples = 21</text>\r\n",
       "<text text-anchor=\"middle\" x=\"509\" y=\"-512.8\" font-family=\"Times New Roman,serif\" font-size=\"14.00\">value = [19, 2]</text>\r\n",
       "</g>\r\n",
       "<!-- 25&#45;&gt;26 -->\r\n",
       "<g id=\"edge26\" class=\"edge\"><title>25&#45;&gt;26</title>\r\n",
       "<path fill=\"none\" stroke=\"black\" d=\"M575.858,-608.884C567.126,-599.887 557.569,-590.041 548.482,-580.678\"/>\r\n",
       "<polygon fill=\"black\" stroke=\"black\" points=\"550.796,-578.038 541.32,-573.299 545.773,-582.913 550.796,-578.038\"/>\r\n",
       "</g>\r\n",
       "<!-- 33 -->\r\n",
       "<g id=\"node34\" class=\"node\"><title>33</title>\r\n",
       "<polygon fill=\"none\" stroke=\"black\" points=\"668.5,-565.5 577.5,-565.5 577.5,-512.5 668.5,-512.5 668.5,-565.5\"/>\r\n",
       "<text text-anchor=\"middle\" x=\"623\" y=\"-550.3\" font-family=\"Times New Roman,serif\" font-size=\"14.00\">gini = 0.0</text>\r\n",
       "<text text-anchor=\"middle\" x=\"623\" y=\"-535.3\" font-family=\"Times New Roman,serif\" font-size=\"14.00\">samples = 1</text>\r\n",
       "<text text-anchor=\"middle\" x=\"623\" y=\"-520.3\" font-family=\"Times New Roman,serif\" font-size=\"14.00\">value = [0, 1]</text>\r\n",
       "</g>\r\n",
       "<!-- 25&#45;&gt;33 -->\r\n",
       "<g id=\"edge33\" class=\"edge\"><title>25&#45;&gt;33</title>\r\n",
       "<path fill=\"none\" stroke=\"black\" d=\"M612.87,-608.884C614.439,-598.216 616.183,-586.352 617.777,-575.519\"/>\r\n",
       "<polygon fill=\"black\" stroke=\"black\" points=\"621.255,-575.923 619.247,-565.52 614.329,-574.904 621.255,-575.923\"/>\r\n",
       "</g>\r\n",
       "<!-- 27 -->\r\n",
       "<g id=\"node28\" class=\"node\"><title>27</title>\r\n",
       "<polygon fill=\"none\" stroke=\"black\" points=\"503.5,-469 408.5,-469 408.5,-401 503.5,-401 503.5,-469\"/>\r\n",
       "<text text-anchor=\"middle\" x=\"456\" y=\"-453.8\" font-family=\"Times New Roman,serif\" font-size=\"14.00\">X[1] &lt;= &#45;0.41</text>\r\n",
       "<text text-anchor=\"middle\" x=\"456\" y=\"-438.8\" font-family=\"Times New Roman,serif\" font-size=\"14.00\">gini = 0.444</text>\r\n",
       "<text text-anchor=\"middle\" x=\"456\" y=\"-423.8\" font-family=\"Times New Roman,serif\" font-size=\"14.00\">samples = 6</text>\r\n",
       "<text text-anchor=\"middle\" x=\"456\" y=\"-408.8\" font-family=\"Times New Roman,serif\" font-size=\"14.00\">value = [4, 2]</text>\r\n",
       "</g>\r\n",
       "<!-- 26&#45;&gt;27 -->\r\n",
       "<g id=\"edge27\" class=\"edge\"><title>26&#45;&gt;27</title>\r\n",
       "<path fill=\"none\" stroke=\"black\" d=\"M491.792,-504.884C487.395,-496.422 482.608,-487.207 478.006,-478.352\"/>\r\n",
       "<polygon fill=\"black\" stroke=\"black\" points=\"481.019,-476.559 473.303,-469.299 474.808,-479.787 481.019,-476.559\"/>\r\n",
       "</g>\r\n",
       "<!-- 32 -->\r\n",
       "<g id=\"node33\" class=\"node\"><title>32</title>\r\n",
       "<polygon fill=\"none\" stroke=\"black\" points=\"620,-461.5 522,-461.5 522,-408.5 620,-408.5 620,-461.5\"/>\r\n",
       "<text text-anchor=\"middle\" x=\"571\" y=\"-446.3\" font-family=\"Times New Roman,serif\" font-size=\"14.00\">gini = 0.0</text>\r\n",
       "<text text-anchor=\"middle\" x=\"571\" y=\"-431.3\" font-family=\"Times New Roman,serif\" font-size=\"14.00\">samples = 15</text>\r\n",
       "<text text-anchor=\"middle\" x=\"571\" y=\"-416.3\" font-family=\"Times New Roman,serif\" font-size=\"14.00\">value = [15, 0]</text>\r\n",
       "</g>\r\n",
       "<!-- 26&#45;&gt;32 -->\r\n",
       "<g id=\"edge32\" class=\"edge\"><title>26&#45;&gt;32</title>\r\n",
       "<path fill=\"none\" stroke=\"black\" d=\"M529.13,-504.884C535.881,-493.776 543.421,-481.372 550.222,-470.184\"/>\r\n",
       "<polygon fill=\"black\" stroke=\"black\" points=\"553.285,-471.883 555.488,-461.52 547.303,-468.247 553.285,-471.883\"/>\r\n",
       "</g>\r\n",
       "<!-- 28 -->\r\n",
       "<g id=\"node29\" class=\"node\"><title>28</title>\r\n",
       "<polygon fill=\"none\" stroke=\"black\" points=\"438.5,-357.5 347.5,-357.5 347.5,-304.5 438.5,-304.5 438.5,-357.5\"/>\r\n",
       "<text text-anchor=\"middle\" x=\"393\" y=\"-342.3\" font-family=\"Times New Roman,serif\" font-size=\"14.00\">gini = 0.0</text>\r\n",
       "<text text-anchor=\"middle\" x=\"393\" y=\"-327.3\" font-family=\"Times New Roman,serif\" font-size=\"14.00\">samples = 3</text>\r\n",
       "<text text-anchor=\"middle\" x=\"393\" y=\"-312.3\" font-family=\"Times New Roman,serif\" font-size=\"14.00\">value = [3, 0]</text>\r\n",
       "</g>\r\n",
       "<!-- 27&#45;&gt;28 -->\r\n",
       "<g id=\"edge28\" class=\"edge\"><title>27&#45;&gt;28</title>\r\n",
       "<path fill=\"none\" stroke=\"black\" d=\"M435.546,-400.884C428.685,-389.776 421.024,-377.372 414.114,-366.184\"/>\r\n",
       "<polygon fill=\"black\" stroke=\"black\" points=\"416.995,-364.189 408.762,-357.52 411.039,-367.867 416.995,-364.189\"/>\r\n",
       "</g>\r\n",
       "<!-- 29 -->\r\n",
       "<g id=\"node30\" class=\"node\"><title>29</title>\r\n",
       "<polygon fill=\"none\" stroke=\"black\" points=\"553.5,-365 456.5,-365 456.5,-297 553.5,-297 553.5,-365\"/>\r\n",
       "<text text-anchor=\"middle\" x=\"505\" y=\"-349.8\" font-family=\"Times New Roman,serif\" font-size=\"14.00\">X[4] &lt;= 0.005</text>\r\n",
       "<text text-anchor=\"middle\" x=\"505\" y=\"-334.8\" font-family=\"Times New Roman,serif\" font-size=\"14.00\">gini = 0.444</text>\r\n",
       "<text text-anchor=\"middle\" x=\"505\" y=\"-319.8\" font-family=\"Times New Roman,serif\" font-size=\"14.00\">samples = 3</text>\r\n",
       "<text text-anchor=\"middle\" x=\"505\" y=\"-304.8\" font-family=\"Times New Roman,serif\" font-size=\"14.00\">value = [1, 2]</text>\r\n",
       "</g>\r\n",
       "<!-- 27&#45;&gt;29 -->\r\n",
       "<g id=\"edge29\" class=\"edge\"><title>27&#45;&gt;29</title>\r\n",
       "<path fill=\"none\" stroke=\"black\" d=\"M471.909,-400.884C475.974,-392.422 480.4,-383.207 484.655,-374.352\"/>\r\n",
       "<polygon fill=\"black\" stroke=\"black\" points=\"487.828,-375.829 489.003,-365.299 481.518,-372.798 487.828,-375.829\"/>\r\n",
       "</g>\r\n",
       "<!-- 30 -->\r\n",
       "<g id=\"node31\" class=\"node\"><title>30</title>\r\n",
       "<polygon fill=\"none\" stroke=\"black\" points=\"536.5,-253.5 445.5,-253.5 445.5,-200.5 536.5,-200.5 536.5,-253.5\"/>\r\n",
       "<text text-anchor=\"middle\" x=\"491\" y=\"-238.3\" font-family=\"Times New Roman,serif\" font-size=\"14.00\">gini = 0.0</text>\r\n",
       "<text text-anchor=\"middle\" x=\"491\" y=\"-223.3\" font-family=\"Times New Roman,serif\" font-size=\"14.00\">samples = 1</text>\r\n",
       "<text text-anchor=\"middle\" x=\"491\" y=\"-208.3\" font-family=\"Times New Roman,serif\" font-size=\"14.00\">value = [1, 0]</text>\r\n",
       "</g>\r\n",
       "<!-- 29&#45;&gt;30 -->\r\n",
       "<g id=\"edge30\" class=\"edge\"><title>29&#45;&gt;30</title>\r\n",
       "<path fill=\"none\" stroke=\"black\" d=\"M500.455,-296.884C498.99,-286.216 497.362,-274.352 495.875,-263.519\"/>\r\n",
       "<polygon fill=\"black\" stroke=\"black\" points=\"499.33,-262.951 494.503,-253.52 492.395,-263.903 499.33,-262.951\"/>\r\n",
       "</g>\r\n",
       "<!-- 31 -->\r\n",
       "<g id=\"node32\" class=\"node\"><title>31</title>\r\n",
       "<polygon fill=\"none\" stroke=\"black\" points=\"645.5,-253.5 554.5,-253.5 554.5,-200.5 645.5,-200.5 645.5,-253.5\"/>\r\n",
       "<text text-anchor=\"middle\" x=\"600\" y=\"-238.3\" font-family=\"Times New Roman,serif\" font-size=\"14.00\">gini = 0.0</text>\r\n",
       "<text text-anchor=\"middle\" x=\"600\" y=\"-223.3\" font-family=\"Times New Roman,serif\" font-size=\"14.00\">samples = 2</text>\r\n",
       "<text text-anchor=\"middle\" x=\"600\" y=\"-208.3\" font-family=\"Times New Roman,serif\" font-size=\"14.00\">value = [0, 2]</text>\r\n",
       "</g>\r\n",
       "<!-- 29&#45;&gt;31 -->\r\n",
       "<g id=\"edge31\" class=\"edge\"><title>29&#45;&gt;31</title>\r\n",
       "<path fill=\"none\" stroke=\"black\" d=\"M535.844,-296.884C546.599,-285.336 558.659,-272.387 569.395,-260.86\"/>\r\n",
       "<polygon fill=\"black\" stroke=\"black\" points=\"571.977,-263.223 576.231,-253.52 566.855,-258.452 571.977,-263.223\"/>\r\n",
       "</g>\r\n",
       "<!-- 36 -->\r\n",
       "<g id=\"node37\" class=\"node\"><title>36</title>\r\n",
       "<polygon fill=\"none\" stroke=\"black\" points=\"887.5,-677 786.5,-677 786.5,-609 887.5,-609 887.5,-677\"/>\r\n",
       "<text text-anchor=\"middle\" x=\"837\" y=\"-661.8\" font-family=\"Times New Roman,serif\" font-size=\"14.00\">X[5] &lt;= &#45;1.075</text>\r\n",
       "<text text-anchor=\"middle\" x=\"837\" y=\"-646.8\" font-family=\"Times New Roman,serif\" font-size=\"14.00\">gini = 0.198</text>\r\n",
       "<text text-anchor=\"middle\" x=\"837\" y=\"-631.8\" font-family=\"Times New Roman,serif\" font-size=\"14.00\">samples = 9</text>\r\n",
       "<text text-anchor=\"middle\" x=\"837\" y=\"-616.8\" font-family=\"Times New Roman,serif\" font-size=\"14.00\">value = [1, 8]</text>\r\n",
       "</g>\r\n",
       "<!-- 35&#45;&gt;36 -->\r\n",
       "<g id=\"edge36\" class=\"edge\"><title>35&#45;&gt;36</title>\r\n",
       "<path fill=\"none\" stroke=\"black\" d=\"M837.675,-712.884C837.596,-704.778 837.51,-695.982 837.426,-687.472\"/>\r\n",
       "<polygon fill=\"black\" stroke=\"black\" points=\"840.924,-687.265 837.326,-677.299 833.925,-687.333 840.924,-687.265\"/>\r\n",
       "</g>\r\n",
       "<!-- 39 -->\r\n",
       "<g id=\"node40\" class=\"node\"><title>39</title>\r\n",
       "<polygon fill=\"none\" stroke=\"black\" points=\"1002.5,-677 905.5,-677 905.5,-609 1002.5,-609 1002.5,-677\"/>\r\n",
       "<text text-anchor=\"middle\" x=\"954\" y=\"-661.8\" font-family=\"Times New Roman,serif\" font-size=\"14.00\">X[6] &lt;= 0.702</text>\r\n",
       "<text text-anchor=\"middle\" x=\"954\" y=\"-646.8\" font-family=\"Times New Roman,serif\" font-size=\"14.00\">gini = 0.32</text>\r\n",
       "<text text-anchor=\"middle\" x=\"954\" y=\"-631.8\" font-family=\"Times New Roman,serif\" font-size=\"14.00\">samples = 5</text>\r\n",
       "<text text-anchor=\"middle\" x=\"954\" y=\"-616.8\" font-family=\"Times New Roman,serif\" font-size=\"14.00\">value = [4, 1]</text>\r\n",
       "</g>\r\n",
       "<!-- 35&#45;&gt;39 -->\r\n",
       "<g id=\"edge39\" class=\"edge\"><title>35&#45;&gt;39</title>\r\n",
       "<path fill=\"none\" stroke=\"black\" d=\"M875.662,-712.884C886.096,-703.709 897.535,-693.65 908.37,-684.123\"/>\r\n",
       "<polygon fill=\"black\" stroke=\"black\" points=\"910.932,-686.531 916.13,-677.299 906.309,-681.274 910.932,-686.531\"/>\r\n",
       "</g>\r\n",
       "<!-- 37 -->\r\n",
       "<g id=\"node38\" class=\"node\"><title>37</title>\r\n",
       "<polygon fill=\"none\" stroke=\"black\" points=\"777.5,-565.5 686.5,-565.5 686.5,-512.5 777.5,-512.5 777.5,-565.5\"/>\r\n",
       "<text text-anchor=\"middle\" x=\"732\" y=\"-550.3\" font-family=\"Times New Roman,serif\" font-size=\"14.00\">gini = 0.0</text>\r\n",
       "<text text-anchor=\"middle\" x=\"732\" y=\"-535.3\" font-family=\"Times New Roman,serif\" font-size=\"14.00\">samples = 1</text>\r\n",
       "<text text-anchor=\"middle\" x=\"732\" y=\"-520.3\" font-family=\"Times New Roman,serif\" font-size=\"14.00\">value = [1, 0]</text>\r\n",
       "</g>\r\n",
       "<!-- 36&#45;&gt;37 -->\r\n",
       "<g id=\"edge37\" class=\"edge\"><title>36&#45;&gt;37</title>\r\n",
       "<path fill=\"none\" stroke=\"black\" d=\"M802.91,-608.884C790.909,-597.226 777.439,-584.141 765.488,-572.532\"/>\r\n",
       "<polygon fill=\"black\" stroke=\"black\" points=\"767.882,-569.977 758.271,-565.52 763.005,-574.998 767.882,-569.977\"/>\r\n",
       "</g>\r\n",
       "<!-- 38 -->\r\n",
       "<g id=\"node39\" class=\"node\"><title>38</title>\r\n",
       "<polygon fill=\"none\" stroke=\"black\" points=\"886.5,-565.5 795.5,-565.5 795.5,-512.5 886.5,-512.5 886.5,-565.5\"/>\r\n",
       "<text text-anchor=\"middle\" x=\"841\" y=\"-550.3\" font-family=\"Times New Roman,serif\" font-size=\"14.00\">gini = 0.0</text>\r\n",
       "<text text-anchor=\"middle\" x=\"841\" y=\"-535.3\" font-family=\"Times New Roman,serif\" font-size=\"14.00\">samples = 8</text>\r\n",
       "<text text-anchor=\"middle\" x=\"841\" y=\"-520.3\" font-family=\"Times New Roman,serif\" font-size=\"14.00\">value = [0, 8]</text>\r\n",
       "</g>\r\n",
       "<!-- 36&#45;&gt;38 -->\r\n",
       "<g id=\"edge38\" class=\"edge\"><title>36&#45;&gt;38</title>\r\n",
       "<path fill=\"none\" stroke=\"black\" d=\"M838.299,-608.884C838.717,-598.216 839.182,-586.352 839.607,-575.519\"/>\r\n",
       "<polygon fill=\"black\" stroke=\"black\" points=\"843.105,-575.649 839.999,-565.52 836.11,-575.375 843.105,-575.649\"/>\r\n",
       "</g>\r\n",
       "<!-- 40 -->\r\n",
       "<g id=\"node41\" class=\"node\"><title>40</title>\r\n",
       "<polygon fill=\"none\" stroke=\"black\" points=\"995.5,-565.5 904.5,-565.5 904.5,-512.5 995.5,-512.5 995.5,-565.5\"/>\r\n",
       "<text text-anchor=\"middle\" x=\"950\" y=\"-550.3\" font-family=\"Times New Roman,serif\" font-size=\"14.00\">gini = 0.0</text>\r\n",
       "<text text-anchor=\"middle\" x=\"950\" y=\"-535.3\" font-family=\"Times New Roman,serif\" font-size=\"14.00\">samples = 1</text>\r\n",
       "<text text-anchor=\"middle\" x=\"950\" y=\"-520.3\" font-family=\"Times New Roman,serif\" font-size=\"14.00\">value = [0, 1]</text>\r\n",
       "</g>\r\n",
       "<!-- 39&#45;&gt;40 -->\r\n",
       "<g id=\"edge40\" class=\"edge\"><title>39&#45;&gt;40</title>\r\n",
       "<path fill=\"none\" stroke=\"black\" d=\"M952.701,-608.884C952.283,-598.216 951.818,-586.352 951.393,-575.519\"/>\r\n",
       "<polygon fill=\"black\" stroke=\"black\" points=\"954.89,-575.375 951.001,-565.52 947.895,-575.649 954.89,-575.375\"/>\r\n",
       "</g>\r\n",
       "<!-- 41 -->\r\n",
       "<g id=\"node42\" class=\"node\"><title>41</title>\r\n",
       "<polygon fill=\"none\" stroke=\"black\" points=\"1104.5,-565.5 1013.5,-565.5 1013.5,-512.5 1104.5,-512.5 1104.5,-565.5\"/>\r\n",
       "<text text-anchor=\"middle\" x=\"1059\" y=\"-550.3\" font-family=\"Times New Roman,serif\" font-size=\"14.00\">gini = 0.0</text>\r\n",
       "<text text-anchor=\"middle\" x=\"1059\" y=\"-535.3\" font-family=\"Times New Roman,serif\" font-size=\"14.00\">samples = 4</text>\r\n",
       "<text text-anchor=\"middle\" x=\"1059\" y=\"-520.3\" font-family=\"Times New Roman,serif\" font-size=\"14.00\">value = [4, 0]</text>\r\n",
       "</g>\r\n",
       "<!-- 39&#45;&gt;41 -->\r\n",
       "<g id=\"edge41\" class=\"edge\"><title>39&#45;&gt;41</title>\r\n",
       "<path fill=\"none\" stroke=\"black\" d=\"M988.09,-608.884C1000.09,-597.226 1013.56,-584.141 1025.51,-572.532\"/>\r\n",
       "<polygon fill=\"black\" stroke=\"black\" points=\"1028,-574.998 1032.73,-565.52 1023.12,-569.977 1028,-574.998\"/>\r\n",
       "</g>\r\n",
       "<!-- 43 -->\r\n",
       "<g id=\"node44\" class=\"node\"><title>43</title>\r\n",
       "<polygon fill=\"none\" stroke=\"black\" points=\"1437,-885 1339,-885 1339,-817 1437,-817 1437,-885\"/>\r\n",
       "<text text-anchor=\"middle\" x=\"1388\" y=\"-869.8\" font-family=\"Times New Roman,serif\" font-size=\"14.00\">X[1] &lt;= 0.706</text>\r\n",
       "<text text-anchor=\"middle\" x=\"1388\" y=\"-854.8\" font-family=\"Times New Roman,serif\" font-size=\"14.00\">gini = 0.34</text>\r\n",
       "<text text-anchor=\"middle\" x=\"1388\" y=\"-839.8\" font-family=\"Times New Roman,serif\" font-size=\"14.00\">samples = 23</text>\r\n",
       "<text text-anchor=\"middle\" x=\"1388\" y=\"-824.8\" font-family=\"Times New Roman,serif\" font-size=\"14.00\">value = [18, 5]</text>\r\n",
       "</g>\r\n",
       "<!-- 42&#45;&gt;43 -->\r\n",
       "<g id=\"edge43\" class=\"edge\"><title>42&#45;&gt;43</title>\r\n",
       "<path fill=\"none\" stroke=\"black\" d=\"M1388,-920.884C1388,-912.778 1388,-903.982 1388,-895.472\"/>\r\n",
       "<polygon fill=\"black\" stroke=\"black\" points=\"1391.5,-895.299 1388,-885.299 1384.5,-895.299 1391.5,-895.299\"/>\r\n",
       "</g>\r\n",
       "<!-- 54 -->\r\n",
       "<g id=\"node55\" class=\"node\"><title>54</title>\r\n",
       "<polygon fill=\"none\" stroke=\"black\" points=\"1832,-885 1728,-885 1728,-817 1832,-817 1832,-885\"/>\r\n",
       "<text text-anchor=\"middle\" x=\"1780\" y=\"-869.8\" font-family=\"Times New Roman,serif\" font-size=\"14.00\">X[1] &lt;= 1.395</text>\r\n",
       "<text text-anchor=\"middle\" x=\"1780\" y=\"-854.8\" font-family=\"Times New Roman,serif\" font-size=\"14.00\">gini = 0.359</text>\r\n",
       "<text text-anchor=\"middle\" x=\"1780\" y=\"-839.8\" font-family=\"Times New Roman,serif\" font-size=\"14.00\">samples = 81</text>\r\n",
       "<text text-anchor=\"middle\" x=\"1780\" y=\"-824.8\" font-family=\"Times New Roman,serif\" font-size=\"14.00\">value = [19, 62]</text>\r\n",
       "</g>\r\n",
       "<!-- 42&#45;&gt;54 -->\r\n",
       "<g id=\"edge54\" class=\"edge\"><title>42&#45;&gt;54</title>\r\n",
       "<path fill=\"none\" stroke=\"black\" d=\"M1440.05,-940.455C1511.81,-921.785 1640.93,-888.188 1717.71,-868.207\"/>\r\n",
       "<polygon fill=\"black\" stroke=\"black\" points=\"1718.93,-871.506 1727.73,-865.601 1717.17,-864.732 1718.93,-871.506\"/>\r\n",
       "</g>\r\n",
       "<!-- 44 -->\r\n",
       "<g id=\"node45\" class=\"node\"><title>44</title>\r\n",
       "<polygon fill=\"none\" stroke=\"black\" points=\"1378,-781 1280,-781 1280,-713 1378,-713 1378,-781\"/>\r\n",
       "<text text-anchor=\"middle\" x=\"1329\" y=\"-765.8\" font-family=\"Times New Roman,serif\" font-size=\"14.00\">X[1] &lt;= 0.181</text>\r\n",
       "<text text-anchor=\"middle\" x=\"1329\" y=\"-750.8\" font-family=\"Times New Roman,serif\" font-size=\"14.00\">gini = 0.111</text>\r\n",
       "<text text-anchor=\"middle\" x=\"1329\" y=\"-735.8\" font-family=\"Times New Roman,serif\" font-size=\"14.00\">samples = 17</text>\r\n",
       "<text text-anchor=\"middle\" x=\"1329\" y=\"-720.8\" font-family=\"Times New Roman,serif\" font-size=\"14.00\">value = [16, 1]</text>\r\n",
       "</g>\r\n",
       "<!-- 43&#45;&gt;44 -->\r\n",
       "<g id=\"edge44\" class=\"edge\"><title>43&#45;&gt;44</title>\r\n",
       "<path fill=\"none\" stroke=\"black\" d=\"M1368.84,-816.884C1363.9,-808.332 1358.51,-799.013 1353.34,-790.072\"/>\r\n",
       "<polygon fill=\"black\" stroke=\"black\" points=\"1356.3,-788.203 1348.26,-781.299 1350.24,-791.708 1356.3,-788.203\"/>\r\n",
       "</g>\r\n",
       "<!-- 49 -->\r\n",
       "<g id=\"node50\" class=\"node\"><title>49</title>\r\n",
       "<polygon fill=\"none\" stroke=\"black\" points=\"1497.5,-781 1396.5,-781 1396.5,-713 1497.5,-713 1497.5,-781\"/>\r\n",
       "<text text-anchor=\"middle\" x=\"1447\" y=\"-765.8\" font-family=\"Times New Roman,serif\" font-size=\"14.00\">X[3] &lt;= &#45;0.241</text>\r\n",
       "<text text-anchor=\"middle\" x=\"1447\" y=\"-750.8\" font-family=\"Times New Roman,serif\" font-size=\"14.00\">gini = 0.444</text>\r\n",
       "<text text-anchor=\"middle\" x=\"1447\" y=\"-735.8\" font-family=\"Times New Roman,serif\" font-size=\"14.00\">samples = 6</text>\r\n",
       "<text text-anchor=\"middle\" x=\"1447\" y=\"-720.8\" font-family=\"Times New Roman,serif\" font-size=\"14.00\">value = [2, 4]</text>\r\n",
       "</g>\r\n",
       "<!-- 43&#45;&gt;49 -->\r\n",
       "<g id=\"edge49\" class=\"edge\"><title>43&#45;&gt;49</title>\r\n",
       "<path fill=\"none\" stroke=\"black\" d=\"M1407.16,-816.884C1412.1,-808.332 1417.49,-799.013 1422.66,-790.072\"/>\r\n",
       "<polygon fill=\"black\" stroke=\"black\" points=\"1425.76,-791.708 1427.74,-781.299 1419.7,-788.203 1425.76,-791.708\"/>\r\n",
       "</g>\r\n",
       "<!-- 45 -->\r\n",
       "<g id=\"node46\" class=\"node\"><title>45</title>\r\n",
       "<polygon fill=\"none\" stroke=\"black\" points=\"1261.5,-677 1160.5,-677 1160.5,-609 1261.5,-609 1261.5,-677\"/>\r\n",
       "<text text-anchor=\"middle\" x=\"1211\" y=\"-661.8\" font-family=\"Times New Roman,serif\" font-size=\"14.00\">X[5] &lt;= &#45;0.892</text>\r\n",
       "<text text-anchor=\"middle\" x=\"1211\" y=\"-646.8\" font-family=\"Times New Roman,serif\" font-size=\"14.00\">gini = 0.444</text>\r\n",
       "<text text-anchor=\"middle\" x=\"1211\" y=\"-631.8\" font-family=\"Times New Roman,serif\" font-size=\"14.00\">samples = 3</text>\r\n",
       "<text text-anchor=\"middle\" x=\"1211\" y=\"-616.8\" font-family=\"Times New Roman,serif\" font-size=\"14.00\">value = [2, 1]</text>\r\n",
       "</g>\r\n",
       "<!-- 44&#45;&gt;45 -->\r\n",
       "<g id=\"edge45\" class=\"edge\"><title>44&#45;&gt;45</title>\r\n",
       "<path fill=\"none\" stroke=\"black\" d=\"M1290.69,-712.884C1279.97,-703.62 1268.21,-693.455 1257.1,-683.845\"/>\r\n",
       "<polygon fill=\"black\" stroke=\"black\" points=\"1259.38,-681.191 1249.52,-677.299 1254.8,-686.487 1259.38,-681.191\"/>\r\n",
       "</g>\r\n",
       "<!-- 48 -->\r\n",
       "<g id=\"node49\" class=\"node\"><title>48</title>\r\n",
       "<polygon fill=\"none\" stroke=\"black\" points=\"1378,-669.5 1280,-669.5 1280,-616.5 1378,-616.5 1378,-669.5\"/>\r\n",
       "<text text-anchor=\"middle\" x=\"1329\" y=\"-654.3\" font-family=\"Times New Roman,serif\" font-size=\"14.00\">gini = 0.0</text>\r\n",
       "<text text-anchor=\"middle\" x=\"1329\" y=\"-639.3\" font-family=\"Times New Roman,serif\" font-size=\"14.00\">samples = 14</text>\r\n",
       "<text text-anchor=\"middle\" x=\"1329\" y=\"-624.3\" font-family=\"Times New Roman,serif\" font-size=\"14.00\">value = [14, 0]</text>\r\n",
       "</g>\r\n",
       "<!-- 44&#45;&gt;48 -->\r\n",
       "<g id=\"edge48\" class=\"edge\"><title>44&#45;&gt;48</title>\r\n",
       "<path fill=\"none\" stroke=\"black\" d=\"M1329,-712.884C1329,-702.326 1329,-690.597 1329,-679.854\"/>\r\n",
       "<polygon fill=\"black\" stroke=\"black\" points=\"1332.5,-679.52 1329,-669.52 1325.5,-679.52 1332.5,-679.52\"/>\r\n",
       "</g>\r\n",
       "<!-- 46 -->\r\n",
       "<g id=\"node47\" class=\"node\"><title>46</title>\r\n",
       "<polygon fill=\"none\" stroke=\"black\" points=\"1213.5,-565.5 1122.5,-565.5 1122.5,-512.5 1213.5,-512.5 1213.5,-565.5\"/>\r\n",
       "<text text-anchor=\"middle\" x=\"1168\" y=\"-550.3\" font-family=\"Times New Roman,serif\" font-size=\"14.00\">gini = 0.0</text>\r\n",
       "<text text-anchor=\"middle\" x=\"1168\" y=\"-535.3\" font-family=\"Times New Roman,serif\" font-size=\"14.00\">samples = 1</text>\r\n",
       "<text text-anchor=\"middle\" x=\"1168\" y=\"-520.3\" font-family=\"Times New Roman,serif\" font-size=\"14.00\">value = [0, 1]</text>\r\n",
       "</g>\r\n",
       "<!-- 45&#45;&gt;46 -->\r\n",
       "<g id=\"edge46\" class=\"edge\"><title>45&#45;&gt;46</title>\r\n",
       "<path fill=\"none\" stroke=\"black\" d=\"M1197.04,-608.884C1192.45,-597.996 1187.33,-585.863 1182.69,-574.85\"/>\r\n",
       "<polygon fill=\"black\" stroke=\"black\" points=\"1185.87,-573.375 1178.76,-565.52 1179.42,-576.094 1185.87,-573.375\"/>\r\n",
       "</g>\r\n",
       "<!-- 47 -->\r\n",
       "<g id=\"node48\" class=\"node\"><title>47</title>\r\n",
       "<polygon fill=\"none\" stroke=\"black\" points=\"1322.5,-565.5 1231.5,-565.5 1231.5,-512.5 1322.5,-512.5 1322.5,-565.5\"/>\r\n",
       "<text text-anchor=\"middle\" x=\"1277\" y=\"-550.3\" font-family=\"Times New Roman,serif\" font-size=\"14.00\">gini = 0.0</text>\r\n",
       "<text text-anchor=\"middle\" x=\"1277\" y=\"-535.3\" font-family=\"Times New Roman,serif\" font-size=\"14.00\">samples = 2</text>\r\n",
       "<text text-anchor=\"middle\" x=\"1277\" y=\"-520.3\" font-family=\"Times New Roman,serif\" font-size=\"14.00\">value = [2, 0]</text>\r\n",
       "</g>\r\n",
       "<!-- 45&#45;&gt;47 -->\r\n",
       "<g id=\"edge47\" class=\"edge\"><title>45&#45;&gt;47</title>\r\n",
       "<path fill=\"none\" stroke=\"black\" d=\"M1232.43,-608.884C1239.62,-597.776 1247.64,-585.372 1254.88,-574.184\"/>\r\n",
       "<polygon fill=\"black\" stroke=\"black\" points=\"1257.99,-575.817 1260.49,-565.52 1252.12,-572.014 1257.99,-575.817\"/>\r\n",
       "</g>\r\n",
       "<!-- 50 -->\r\n",
       "<g id=\"node51\" class=\"node\"><title>50</title>\r\n",
       "<polygon fill=\"none\" stroke=\"black\" points=\"1497.5,-677 1396.5,-677 1396.5,-609 1497.5,-609 1497.5,-677\"/>\r\n",
       "<text text-anchor=\"middle\" x=\"1447\" y=\"-661.8\" font-family=\"Times New Roman,serif\" font-size=\"14.00\">X[4] &lt;= &#45;0.048</text>\r\n",
       "<text text-anchor=\"middle\" x=\"1447\" y=\"-646.8\" font-family=\"Times New Roman,serif\" font-size=\"14.00\">gini = 0.444</text>\r\n",
       "<text text-anchor=\"middle\" x=\"1447\" y=\"-631.8\" font-family=\"Times New Roman,serif\" font-size=\"14.00\">samples = 3</text>\r\n",
       "<text text-anchor=\"middle\" x=\"1447\" y=\"-616.8\" font-family=\"Times New Roman,serif\" font-size=\"14.00\">value = [2, 1]</text>\r\n",
       "</g>\r\n",
       "<!-- 49&#45;&gt;50 -->\r\n",
       "<g id=\"edge50\" class=\"edge\"><title>49&#45;&gt;50</title>\r\n",
       "<path fill=\"none\" stroke=\"black\" d=\"M1447,-712.884C1447,-704.778 1447,-695.982 1447,-687.472\"/>\r\n",
       "<polygon fill=\"black\" stroke=\"black\" points=\"1450.5,-687.299 1447,-677.299 1443.5,-687.299 1450.5,-687.299\"/>\r\n",
       "</g>\r\n",
       "<!-- 53 -->\r\n",
       "<g id=\"node54\" class=\"node\"><title>53</title>\r\n",
       "<polygon fill=\"none\" stroke=\"black\" points=\"1606.5,-669.5 1515.5,-669.5 1515.5,-616.5 1606.5,-616.5 1606.5,-669.5\"/>\r\n",
       "<text text-anchor=\"middle\" x=\"1561\" y=\"-654.3\" font-family=\"Times New Roman,serif\" font-size=\"14.00\">gini = 0.0</text>\r\n",
       "<text text-anchor=\"middle\" x=\"1561\" y=\"-639.3\" font-family=\"Times New Roman,serif\" font-size=\"14.00\">samples = 3</text>\r\n",
       "<text text-anchor=\"middle\" x=\"1561\" y=\"-624.3\" font-family=\"Times New Roman,serif\" font-size=\"14.00\">value = [0, 3]</text>\r\n",
       "</g>\r\n",
       "<!-- 49&#45;&gt;53 -->\r\n",
       "<g id=\"edge53\" class=\"edge\"><title>49&#45;&gt;53</title>\r\n",
       "<path fill=\"none\" stroke=\"black\" d=\"M1484.01,-712.884C1497.16,-701.116 1511.94,-687.894 1525.01,-676.203\"/>\r\n",
       "<polygon fill=\"black\" stroke=\"black\" points=\"1527.36,-678.796 1532.48,-669.52 1522.69,-673.58 1527.36,-678.796\"/>\r\n",
       "</g>\r\n",
       "<!-- 51 -->\r\n",
       "<g id=\"node52\" class=\"node\"><title>51</title>\r\n",
       "<polygon fill=\"none\" stroke=\"black\" points=\"1431.5,-565.5 1340.5,-565.5 1340.5,-512.5 1431.5,-512.5 1431.5,-565.5\"/>\r\n",
       "<text text-anchor=\"middle\" x=\"1386\" y=\"-550.3\" font-family=\"Times New Roman,serif\" font-size=\"14.00\">gini = 0.0</text>\r\n",
       "<text text-anchor=\"middle\" x=\"1386\" y=\"-535.3\" font-family=\"Times New Roman,serif\" font-size=\"14.00\">samples = 1</text>\r\n",
       "<text text-anchor=\"middle\" x=\"1386\" y=\"-520.3\" font-family=\"Times New Roman,serif\" font-size=\"14.00\">value = [0, 1]</text>\r\n",
       "</g>\r\n",
       "<!-- 50&#45;&gt;51 -->\r\n",
       "<g id=\"edge51\" class=\"edge\"><title>50&#45;&gt;51</title>\r\n",
       "<path fill=\"none\" stroke=\"black\" d=\"M1427.2,-608.884C1420.55,-597.776 1413.13,-585.372 1406.44,-574.184\"/>\r\n",
       "<polygon fill=\"black\" stroke=\"black\" points=\"1409.4,-572.306 1401.26,-565.52 1403.39,-575.899 1409.4,-572.306\"/>\r\n",
       "</g>\r\n",
       "<!-- 52 -->\r\n",
       "<g id=\"node53\" class=\"node\"><title>52</title>\r\n",
       "<polygon fill=\"none\" stroke=\"black\" points=\"1540.5,-565.5 1449.5,-565.5 1449.5,-512.5 1540.5,-512.5 1540.5,-565.5\"/>\r\n",
       "<text text-anchor=\"middle\" x=\"1495\" y=\"-550.3\" font-family=\"Times New Roman,serif\" font-size=\"14.00\">gini = 0.0</text>\r\n",
       "<text text-anchor=\"middle\" x=\"1495\" y=\"-535.3\" font-family=\"Times New Roman,serif\" font-size=\"14.00\">samples = 2</text>\r\n",
       "<text text-anchor=\"middle\" x=\"1495\" y=\"-520.3\" font-family=\"Times New Roman,serif\" font-size=\"14.00\">value = [2, 0]</text>\r\n",
       "</g>\r\n",
       "<!-- 50&#45;&gt;52 -->\r\n",
       "<g id=\"edge52\" class=\"edge\"><title>50&#45;&gt;52</title>\r\n",
       "<path fill=\"none\" stroke=\"black\" d=\"M1462.58,-608.884C1467.71,-597.996 1473.42,-585.863 1478.6,-574.85\"/>\r\n",
       "<polygon fill=\"black\" stroke=\"black\" points=\"1481.9,-576.058 1482.99,-565.52 1475.57,-573.078 1481.9,-576.058\"/>\r\n",
       "</g>\r\n",
       "<!-- 55 -->\r\n",
       "<g id=\"node56\" class=\"node\"><title>55</title>\r\n",
       "<polygon fill=\"none\" stroke=\"black\" points=\"1832,-781 1728,-781 1728,-713 1832,-713 1832,-781\"/>\r\n",
       "<text text-anchor=\"middle\" x=\"1780\" y=\"-765.8\" font-family=\"Times New Roman,serif\" font-size=\"14.00\">X[0] &lt;= 1.019</text>\r\n",
       "<text text-anchor=\"middle\" x=\"1780\" y=\"-750.8\" font-family=\"Times New Roman,serif\" font-size=\"14.00\">gini = 0.457</text>\r\n",
       "<text text-anchor=\"middle\" x=\"1780\" y=\"-735.8\" font-family=\"Times New Roman,serif\" font-size=\"14.00\">samples = 51</text>\r\n",
       "<text text-anchor=\"middle\" x=\"1780\" y=\"-720.8\" font-family=\"Times New Roman,serif\" font-size=\"14.00\">value = [18, 33]</text>\r\n",
       "</g>\r\n",
       "<!-- 54&#45;&gt;55 -->\r\n",
       "<g id=\"edge55\" class=\"edge\"><title>54&#45;&gt;55</title>\r\n",
       "<path fill=\"none\" stroke=\"black\" d=\"M1780,-816.884C1780,-808.778 1780,-799.982 1780,-791.472\"/>\r\n",
       "<polygon fill=\"black\" stroke=\"black\" points=\"1783.5,-791.299 1780,-781.299 1776.5,-791.299 1783.5,-791.299\"/>\r\n",
       "</g>\r\n",
       "<!-- 78 -->\r\n",
       "<g id=\"node79\" class=\"node\"><title>78</title>\r\n",
       "<polygon fill=\"none\" stroke=\"black\" points=\"2114.5,-781 2013.5,-781 2013.5,-713 2114.5,-713 2114.5,-781\"/>\r\n",
       "<text text-anchor=\"middle\" x=\"2064\" y=\"-765.8\" font-family=\"Times New Roman,serif\" font-size=\"14.00\">X[3] &lt;= &#45;1.179</text>\r\n",
       "<text text-anchor=\"middle\" x=\"2064\" y=\"-750.8\" font-family=\"Times New Roman,serif\" font-size=\"14.00\">gini = 0.064</text>\r\n",
       "<text text-anchor=\"middle\" x=\"2064\" y=\"-735.8\" font-family=\"Times New Roman,serif\" font-size=\"14.00\">samples = 30</text>\r\n",
       "<text text-anchor=\"middle\" x=\"2064\" y=\"-720.8\" font-family=\"Times New Roman,serif\" font-size=\"14.00\">value = [1, 29]</text>\r\n",
       "</g>\r\n",
       "<!-- 54&#45;&gt;78 -->\r\n",
       "<g id=\"edge78\" class=\"edge\"><title>54&#45;&gt;78</title>\r\n",
       "<path fill=\"none\" stroke=\"black\" d=\"M1832.09,-831.292C1880.53,-813.894 1952.69,-787.979 2003.62,-769.684\"/>\r\n",
       "<polygon fill=\"black\" stroke=\"black\" points=\"2004.97,-772.921 2013.2,-766.247 2002.6,-766.333 2004.97,-772.921\"/>\r\n",
       "</g>\r\n",
       "<!-- 56 -->\r\n",
       "<g id=\"node57\" class=\"node\"><title>56</title>\r\n",
       "<polygon fill=\"none\" stroke=\"black\" points=\"1772,-677 1668,-677 1668,-609 1772,-609 1772,-677\"/>\r\n",
       "<text text-anchor=\"middle\" x=\"1720\" y=\"-661.8\" font-family=\"Times New Roman,serif\" font-size=\"14.00\">X[2] &lt;= &#45;0.778</text>\r\n",
       "<text text-anchor=\"middle\" x=\"1720\" y=\"-646.8\" font-family=\"Times New Roman,serif\" font-size=\"14.00\">gini = 0.498</text>\r\n",
       "<text text-anchor=\"middle\" x=\"1720\" y=\"-631.8\" font-family=\"Times New Roman,serif\" font-size=\"14.00\">samples = 34</text>\r\n",
       "<text text-anchor=\"middle\" x=\"1720\" y=\"-616.8\" font-family=\"Times New Roman,serif\" font-size=\"14.00\">value = [16, 18]</text>\r\n",
       "</g>\r\n",
       "<!-- 55&#45;&gt;56 -->\r\n",
       "<g id=\"edge56\" class=\"edge\"><title>55&#45;&gt;56</title>\r\n",
       "<path fill=\"none\" stroke=\"black\" d=\"M1760.52,-712.884C1755.49,-704.332 1750.01,-695.013 1744.75,-686.072\"/>\r\n",
       "<polygon fill=\"black\" stroke=\"black\" points=\"1747.67,-684.144 1739.59,-677.299 1741.64,-687.693 1747.67,-684.144\"/>\r\n",
       "</g>\r\n",
       "<!-- 73 -->\r\n",
       "<g id=\"node74\" class=\"node\"><title>73</title>\r\n",
       "<polygon fill=\"none\" stroke=\"black\" points=\"1890,-677 1792,-677 1792,-609 1890,-609 1890,-677\"/>\r\n",
       "<text text-anchor=\"middle\" x=\"1841\" y=\"-661.8\" font-family=\"Times New Roman,serif\" font-size=\"14.00\">X[6] &lt;= 1.687</text>\r\n",
       "<text text-anchor=\"middle\" x=\"1841\" y=\"-646.8\" font-family=\"Times New Roman,serif\" font-size=\"14.00\">gini = 0.208</text>\r\n",
       "<text text-anchor=\"middle\" x=\"1841\" y=\"-631.8\" font-family=\"Times New Roman,serif\" font-size=\"14.00\">samples = 17</text>\r\n",
       "<text text-anchor=\"middle\" x=\"1841\" y=\"-616.8\" font-family=\"Times New Roman,serif\" font-size=\"14.00\">value = [2, 15]</text>\r\n",
       "</g>\r\n",
       "<!-- 55&#45;&gt;73 -->\r\n",
       "<g id=\"edge73\" class=\"edge\"><title>55&#45;&gt;73</title>\r\n",
       "<path fill=\"none\" stroke=\"black\" d=\"M1799.8,-712.884C1804.92,-704.332 1810.49,-695.013 1815.84,-686.072\"/>\r\n",
       "<polygon fill=\"black\" stroke=\"black\" points=\"1818.96,-687.678 1821.09,-677.299 1812.95,-684.085 1818.96,-687.678\"/>\r\n",
       "</g>\r\n",
       "<!-- 57 -->\r\n",
       "<g id=\"node58\" class=\"node\"><title>57</title>\r\n",
       "<polygon fill=\"none\" stroke=\"black\" points=\"1649.5,-565.5 1558.5,-565.5 1558.5,-512.5 1649.5,-512.5 1649.5,-565.5\"/>\r\n",
       "<text text-anchor=\"middle\" x=\"1604\" y=\"-550.3\" font-family=\"Times New Roman,serif\" font-size=\"14.00\">gini = 0.0</text>\r\n",
       "<text text-anchor=\"middle\" x=\"1604\" y=\"-535.3\" font-family=\"Times New Roman,serif\" font-size=\"14.00\">samples = 6</text>\r\n",
       "<text text-anchor=\"middle\" x=\"1604\" y=\"-520.3\" font-family=\"Times New Roman,serif\" font-size=\"14.00\">value = [0, 6]</text>\r\n",
       "</g>\r\n",
       "<!-- 56&#45;&gt;57 -->\r\n",
       "<g id=\"edge57\" class=\"edge\"><title>56&#45;&gt;57</title>\r\n",
       "<path fill=\"none\" stroke=\"black\" d=\"M1682.34,-608.884C1668.96,-597.116 1653.92,-583.894 1640.62,-572.203\"/>\r\n",
       "<polygon fill=\"black\" stroke=\"black\" points=\"1642.84,-569.495 1633.02,-565.52 1638.22,-574.752 1642.84,-569.495\"/>\r\n",
       "</g>\r\n",
       "<!-- 58 -->\r\n",
       "<g id=\"node59\" class=\"node\"><title>58</title>\r\n",
       "<polygon fill=\"none\" stroke=\"black\" points=\"1772,-573 1668,-573 1668,-505 1772,-505 1772,-573\"/>\r\n",
       "<text text-anchor=\"middle\" x=\"1720\" y=\"-557.8\" font-family=\"Times New Roman,serif\" font-size=\"14.00\">X[1] &lt;= 0.345</text>\r\n",
       "<text text-anchor=\"middle\" x=\"1720\" y=\"-542.8\" font-family=\"Times New Roman,serif\" font-size=\"14.00\">gini = 0.49</text>\r\n",
       "<text text-anchor=\"middle\" x=\"1720\" y=\"-527.8\" font-family=\"Times New Roman,serif\" font-size=\"14.00\">samples = 28</text>\r\n",
       "<text text-anchor=\"middle\" x=\"1720\" y=\"-512.8\" font-family=\"Times New Roman,serif\" font-size=\"14.00\">value = [16, 12]</text>\r\n",
       "</g>\r\n",
       "<!-- 56&#45;&gt;58 -->\r\n",
       "<g id=\"edge58\" class=\"edge\"><title>56&#45;&gt;58</title>\r\n",
       "<path fill=\"none\" stroke=\"black\" d=\"M1720,-608.884C1720,-600.778 1720,-591.982 1720,-583.472\"/>\r\n",
       "<polygon fill=\"black\" stroke=\"black\" points=\"1723.5,-583.299 1720,-573.299 1716.5,-583.299 1723.5,-583.299\"/>\r\n",
       "</g>\r\n",
       "<!-- 59 -->\r\n",
       "<g id=\"node60\" class=\"node\"><title>59</title>\r\n",
       "<polygon fill=\"none\" stroke=\"black\" points=\"1654.5,-469 1553.5,-469 1553.5,-401 1654.5,-401 1654.5,-469\"/>\r\n",
       "<text text-anchor=\"middle\" x=\"1604\" y=\"-453.8\" font-family=\"Times New Roman,serif\" font-size=\"14.00\">X[6] &lt;= &#45;0.924</text>\r\n",
       "<text text-anchor=\"middle\" x=\"1604\" y=\"-438.8\" font-family=\"Times New Roman,serif\" font-size=\"14.00\">gini = 0.278</text>\r\n",
       "<text text-anchor=\"middle\" x=\"1604\" y=\"-423.8\" font-family=\"Times New Roman,serif\" font-size=\"14.00\">samples = 6</text>\r\n",
       "<text text-anchor=\"middle\" x=\"1604\" y=\"-408.8\" font-family=\"Times New Roman,serif\" font-size=\"14.00\">value = [1, 5]</text>\r\n",
       "</g>\r\n",
       "<!-- 58&#45;&gt;59 -->\r\n",
       "<g id=\"edge59\" class=\"edge\"><title>58&#45;&gt;59</title>\r\n",
       "<path fill=\"none\" stroke=\"black\" d=\"M1682.34,-504.884C1671.9,-495.709 1660.46,-485.65 1649.63,-476.123\"/>\r\n",
       "<polygon fill=\"black\" stroke=\"black\" points=\"1651.69,-473.274 1641.87,-469.299 1647.07,-478.531 1651.69,-473.274\"/>\r\n",
       "</g>\r\n",
       "<!-- 62 -->\r\n",
       "<g id=\"node63\" class=\"node\"><title>62</title>\r\n",
       "<polygon fill=\"none\" stroke=\"black\" points=\"1773.5,-469 1672.5,-469 1672.5,-401 1773.5,-401 1773.5,-469\"/>\r\n",
       "<text text-anchor=\"middle\" x=\"1723\" y=\"-453.8\" font-family=\"Times New Roman,serif\" font-size=\"14.00\">X[5] &lt;= &#45;0.121</text>\r\n",
       "<text text-anchor=\"middle\" x=\"1723\" y=\"-438.8\" font-family=\"Times New Roman,serif\" font-size=\"14.00\">gini = 0.434</text>\r\n",
       "<text text-anchor=\"middle\" x=\"1723\" y=\"-423.8\" font-family=\"Times New Roman,serif\" font-size=\"14.00\">samples = 22</text>\r\n",
       "<text text-anchor=\"middle\" x=\"1723\" y=\"-408.8\" font-family=\"Times New Roman,serif\" font-size=\"14.00\">value = [15, 7]</text>\r\n",
       "</g>\r\n",
       "<!-- 58&#45;&gt;62 -->\r\n",
       "<g id=\"edge62\" class=\"edge\"><title>58&#45;&gt;62</title>\r\n",
       "<path fill=\"none\" stroke=\"black\" d=\"M1720.97,-504.884C1721.21,-496.778 1721.47,-487.982 1721.72,-479.472\"/>\r\n",
       "<polygon fill=\"black\" stroke=\"black\" points=\"1725.23,-479.398 1722.02,-469.299 1718.23,-479.192 1725.23,-479.398\"/>\r\n",
       "</g>\r\n",
       "<!-- 60 -->\r\n",
       "<g id=\"node61\" class=\"node\"><title>60</title>\r\n",
       "<polygon fill=\"none\" stroke=\"black\" points=\"1542.5,-357.5 1451.5,-357.5 1451.5,-304.5 1542.5,-304.5 1542.5,-357.5\"/>\r\n",
       "<text text-anchor=\"middle\" x=\"1497\" y=\"-342.3\" font-family=\"Times New Roman,serif\" font-size=\"14.00\">gini = 0.0</text>\r\n",
       "<text text-anchor=\"middle\" x=\"1497\" y=\"-327.3\" font-family=\"Times New Roman,serif\" font-size=\"14.00\">samples = 1</text>\r\n",
       "<text text-anchor=\"middle\" x=\"1497\" y=\"-312.3\" font-family=\"Times New Roman,serif\" font-size=\"14.00\">value = [1, 0]</text>\r\n",
       "</g>\r\n",
       "<!-- 59&#45;&gt;60 -->\r\n",
       "<g id=\"edge60\" class=\"edge\"><title>59&#45;&gt;60</title>\r\n",
       "<path fill=\"none\" stroke=\"black\" d=\"M1569.26,-400.884C1557.03,-389.226 1543.3,-376.141 1531.13,-364.532\"/>\r\n",
       "<polygon fill=\"black\" stroke=\"black\" points=\"1533.42,-361.887 1523.77,-357.52 1528.59,-366.953 1533.42,-361.887\"/>\r\n",
       "</g>\r\n",
       "<!-- 61 -->\r\n",
       "<g id=\"node62\" class=\"node\"><title>61</title>\r\n",
       "<polygon fill=\"none\" stroke=\"black\" points=\"1651.5,-357.5 1560.5,-357.5 1560.5,-304.5 1651.5,-304.5 1651.5,-357.5\"/>\r\n",
       "<text text-anchor=\"middle\" x=\"1606\" y=\"-342.3\" font-family=\"Times New Roman,serif\" font-size=\"14.00\">gini = 0.0</text>\r\n",
       "<text text-anchor=\"middle\" x=\"1606\" y=\"-327.3\" font-family=\"Times New Roman,serif\" font-size=\"14.00\">samples = 5</text>\r\n",
       "<text text-anchor=\"middle\" x=\"1606\" y=\"-312.3\" font-family=\"Times New Roman,serif\" font-size=\"14.00\">value = [0, 5]</text>\r\n",
       "</g>\r\n",
       "<!-- 59&#45;&gt;61 -->\r\n",
       "<g id=\"edge61\" class=\"edge\"><title>59&#45;&gt;61</title>\r\n",
       "<path fill=\"none\" stroke=\"black\" d=\"M1604.65,-400.884C1604.86,-390.216 1605.09,-378.352 1605.3,-367.519\"/>\r\n",
       "<polygon fill=\"black\" stroke=\"black\" points=\"1608.8,-367.587 1605.5,-357.52 1601.8,-367.449 1608.8,-367.587\"/>\r\n",
       "</g>\r\n",
       "<!-- 63 -->\r\n",
       "<g id=\"node64\" class=\"node\"><title>63</title>\r\n",
       "<polygon fill=\"none\" stroke=\"black\" points=\"1769.5,-365 1672.5,-365 1672.5,-297 1769.5,-297 1769.5,-365\"/>\r\n",
       "<text text-anchor=\"middle\" x=\"1721\" y=\"-349.8\" font-family=\"Times New Roman,serif\" font-size=\"14.00\">X[4] &lt;= 1.194</text>\r\n",
       "<text text-anchor=\"middle\" x=\"1721\" y=\"-334.8\" font-family=\"Times New Roman,serif\" font-size=\"14.00\">gini = 0.444</text>\r\n",
       "<text text-anchor=\"middle\" x=\"1721\" y=\"-319.8\" font-family=\"Times New Roman,serif\" font-size=\"14.00\">samples = 6</text>\r\n",
       "<text text-anchor=\"middle\" x=\"1721\" y=\"-304.8\" font-family=\"Times New Roman,serif\" font-size=\"14.00\">value = [2, 4]</text>\r\n",
       "</g>\r\n",
       "<!-- 62&#45;&gt;63 -->\r\n",
       "<g id=\"edge63\" class=\"edge\"><title>62&#45;&gt;63</title>\r\n",
       "<path fill=\"none\" stroke=\"black\" d=\"M1722.35,-400.884C1722.19,-392.778 1722.02,-383.982 1721.85,-375.472\"/>\r\n",
       "<polygon fill=\"black\" stroke=\"black\" points=\"1725.35,-375.229 1721.65,-365.299 1718.35,-375.366 1725.35,-375.229\"/>\r\n",
       "</g>\r\n",
       "<!-- 66 -->\r\n",
       "<g id=\"node67\" class=\"node\"><title>66</title>\r\n",
       "<polygon fill=\"none\" stroke=\"black\" points=\"1888.5,-365 1787.5,-365 1787.5,-297 1888.5,-297 1888.5,-365\"/>\r\n",
       "<text text-anchor=\"middle\" x=\"1838\" y=\"-349.8\" font-family=\"Times New Roman,serif\" font-size=\"14.00\">X[6] &lt;= &#45;0.433</text>\r\n",
       "<text text-anchor=\"middle\" x=\"1838\" y=\"-334.8\" font-family=\"Times New Roman,serif\" font-size=\"14.00\">gini = 0.305</text>\r\n",
       "<text text-anchor=\"middle\" x=\"1838\" y=\"-319.8\" font-family=\"Times New Roman,serif\" font-size=\"14.00\">samples = 16</text>\r\n",
       "<text text-anchor=\"middle\" x=\"1838\" y=\"-304.8\" font-family=\"Times New Roman,serif\" font-size=\"14.00\">value = [13, 3]</text>\r\n",
       "</g>\r\n",
       "<!-- 62&#45;&gt;66 -->\r\n",
       "<g id=\"edge66\" class=\"edge\"><title>62&#45;&gt;66</title>\r\n",
       "<path fill=\"none\" stroke=\"black\" d=\"M1760.34,-400.884C1770.68,-391.709 1782.02,-381.65 1792.76,-372.123\"/>\r\n",
       "<polygon fill=\"black\" stroke=\"black\" points=\"1795.3,-374.553 1800.46,-365.299 1790.65,-369.317 1795.3,-374.553\"/>\r\n",
       "</g>\r\n",
       "<!-- 64 -->\r\n",
       "<g id=\"node65\" class=\"node\"><title>64</title>\r\n",
       "<polygon fill=\"none\" stroke=\"black\" points=\"1658.5,-253.5 1567.5,-253.5 1567.5,-200.5 1658.5,-200.5 1658.5,-253.5\"/>\r\n",
       "<text text-anchor=\"middle\" x=\"1613\" y=\"-238.3\" font-family=\"Times New Roman,serif\" font-size=\"14.00\">gini = 0.0</text>\r\n",
       "<text text-anchor=\"middle\" x=\"1613\" y=\"-223.3\" font-family=\"Times New Roman,serif\" font-size=\"14.00\">samples = 4</text>\r\n",
       "<text text-anchor=\"middle\" x=\"1613\" y=\"-208.3\" font-family=\"Times New Roman,serif\" font-size=\"14.00\">value = [0, 4]</text>\r\n",
       "</g>\r\n",
       "<!-- 63&#45;&gt;64 -->\r\n",
       "<g id=\"edge64\" class=\"edge\"><title>63&#45;&gt;64</title>\r\n",
       "<path fill=\"none\" stroke=\"black\" d=\"M1685.94,-296.884C1673.59,-285.226 1659.74,-272.141 1647.45,-260.532\"/>\r\n",
       "<polygon fill=\"black\" stroke=\"black\" points=\"1649.69,-257.842 1640.02,-253.52 1644.89,-262.931 1649.69,-257.842\"/>\r\n",
       "</g>\r\n",
       "<!-- 65 -->\r\n",
       "<g id=\"node66\" class=\"node\"><title>65</title>\r\n",
       "<polygon fill=\"none\" stroke=\"black\" points=\"1767.5,-253.5 1676.5,-253.5 1676.5,-200.5 1767.5,-200.5 1767.5,-253.5\"/>\r\n",
       "<text text-anchor=\"middle\" x=\"1722\" y=\"-238.3\" font-family=\"Times New Roman,serif\" font-size=\"14.00\">gini = 0.0</text>\r\n",
       "<text text-anchor=\"middle\" x=\"1722\" y=\"-223.3\" font-family=\"Times New Roman,serif\" font-size=\"14.00\">samples = 2</text>\r\n",
       "<text text-anchor=\"middle\" x=\"1722\" y=\"-208.3\" font-family=\"Times New Roman,serif\" font-size=\"14.00\">value = [2, 0]</text>\r\n",
       "</g>\r\n",
       "<!-- 63&#45;&gt;65 -->\r\n",
       "<g id=\"edge65\" class=\"edge\"><title>63&#45;&gt;65</title>\r\n",
       "<path fill=\"none\" stroke=\"black\" d=\"M1721.32,-296.884C1721.43,-286.326 1721.54,-274.597 1721.65,-263.854\"/>\r\n",
       "<polygon fill=\"black\" stroke=\"black\" points=\"1725.15,-263.554 1721.75,-253.52 1718.15,-263.485 1725.15,-263.554\"/>\r\n",
       "</g>\r\n",
       "<!-- 67 -->\r\n",
       "<g id=\"node68\" class=\"node\"><title>67</title>\r\n",
       "<polygon fill=\"none\" stroke=\"black\" points=\"1887.5,-261 1786.5,-261 1786.5,-193 1887.5,-193 1887.5,-261\"/>\r\n",
       "<text text-anchor=\"middle\" x=\"1837\" y=\"-245.8\" font-family=\"Times New Roman,serif\" font-size=\"14.00\">X[6] &lt;= &#45;0.666</text>\r\n",
       "<text text-anchor=\"middle\" x=\"1837\" y=\"-230.8\" font-family=\"Times New Roman,serif\" font-size=\"14.00\">gini = 0.444</text>\r\n",
       "<text text-anchor=\"middle\" x=\"1837\" y=\"-215.8\" font-family=\"Times New Roman,serif\" font-size=\"14.00\">samples = 9</text>\r\n",
       "<text text-anchor=\"middle\" x=\"1837\" y=\"-200.8\" font-family=\"Times New Roman,serif\" font-size=\"14.00\">value = [6, 3]</text>\r\n",
       "</g>\r\n",
       "<!-- 66&#45;&gt;67 -->\r\n",
       "<g id=\"edge67\" class=\"edge\"><title>66&#45;&gt;67</title>\r\n",
       "<path fill=\"none\" stroke=\"black\" d=\"M1837.68,-296.884C1837.6,-288.778 1837.51,-279.982 1837.43,-271.472\"/>\r\n",
       "<polygon fill=\"black\" stroke=\"black\" points=\"1840.92,-271.265 1837.33,-261.299 1833.92,-271.333 1840.92,-271.265\"/>\r\n",
       "</g>\r\n",
       "<!-- 72 -->\r\n",
       "<g id=\"node73\" class=\"node\"><title>72</title>\r\n",
       "<polygon fill=\"none\" stroke=\"black\" points=\"1996.5,-253.5 1905.5,-253.5 1905.5,-200.5 1996.5,-200.5 1996.5,-253.5\"/>\r\n",
       "<text text-anchor=\"middle\" x=\"1951\" y=\"-238.3\" font-family=\"Times New Roman,serif\" font-size=\"14.00\">gini = 0.0</text>\r\n",
       "<text text-anchor=\"middle\" x=\"1951\" y=\"-223.3\" font-family=\"Times New Roman,serif\" font-size=\"14.00\">samples = 7</text>\r\n",
       "<text text-anchor=\"middle\" x=\"1951\" y=\"-208.3\" font-family=\"Times New Roman,serif\" font-size=\"14.00\">value = [7, 0]</text>\r\n",
       "</g>\r\n",
       "<!-- 66&#45;&gt;72 -->\r\n",
       "<g id=\"edge72\" class=\"edge\"><title>66&#45;&gt;72</title>\r\n",
       "<path fill=\"none\" stroke=\"black\" d=\"M1874.69,-296.884C1887.6,-285.226 1902.1,-272.141 1914.96,-260.532\"/>\r\n",
       "<polygon fill=\"black\" stroke=\"black\" points=\"1917.65,-262.819 1922.73,-253.52 1912.96,-257.622 1917.65,-262.819\"/>\r\n",
       "</g>\r\n",
       "<!-- 68 -->\r\n",
       "<g id=\"node69\" class=\"node\"><title>68</title>\r\n",
       "<polygon fill=\"none\" stroke=\"black\" points=\"1825.5,-149.5 1734.5,-149.5 1734.5,-96.5 1825.5,-96.5 1825.5,-149.5\"/>\r\n",
       "<text text-anchor=\"middle\" x=\"1780\" y=\"-134.3\" font-family=\"Times New Roman,serif\" font-size=\"14.00\">gini = 0.0</text>\r\n",
       "<text text-anchor=\"middle\" x=\"1780\" y=\"-119.3\" font-family=\"Times New Roman,serif\" font-size=\"14.00\">samples = 5</text>\r\n",
       "<text text-anchor=\"middle\" x=\"1780\" y=\"-104.3\" font-family=\"Times New Roman,serif\" font-size=\"14.00\">value = [5, 0]</text>\r\n",
       "</g>\r\n",
       "<!-- 67&#45;&gt;68 -->\r\n",
       "<g id=\"edge68\" class=\"edge\"><title>67&#45;&gt;68</title>\r\n",
       "<path fill=\"none\" stroke=\"black\" d=\"M1818.49,-192.884C1812.35,-181.886 1805.49,-169.617 1799.29,-158.517\"/>\r\n",
       "<polygon fill=\"black\" stroke=\"black\" points=\"1802.19,-156.542 1794.26,-149.52 1796.08,-159.957 1802.19,-156.542\"/>\r\n",
       "</g>\r\n",
       "<!-- 69 -->\r\n",
       "<g id=\"node70\" class=\"node\"><title>69</title>\r\n",
       "<polygon fill=\"none\" stroke=\"black\" points=\"1944.5,-157 1843.5,-157 1843.5,-89 1944.5,-89 1944.5,-157\"/>\r\n",
       "<text text-anchor=\"middle\" x=\"1894\" y=\"-141.8\" font-family=\"Times New Roman,serif\" font-size=\"14.00\">X[4] &lt;= &#45;0.692</text>\r\n",
       "<text text-anchor=\"middle\" x=\"1894\" y=\"-126.8\" font-family=\"Times New Roman,serif\" font-size=\"14.00\">gini = 0.375</text>\r\n",
       "<text text-anchor=\"middle\" x=\"1894\" y=\"-111.8\" font-family=\"Times New Roman,serif\" font-size=\"14.00\">samples = 4</text>\r\n",
       "<text text-anchor=\"middle\" x=\"1894\" y=\"-96.8\" font-family=\"Times New Roman,serif\" font-size=\"14.00\">value = [1, 3]</text>\r\n",
       "</g>\r\n",
       "<!-- 67&#45;&gt;69 -->\r\n",
       "<g id=\"edge69\" class=\"edge\"><title>67&#45;&gt;69</title>\r\n",
       "<path fill=\"none\" stroke=\"black\" d=\"M1855.51,-192.884C1860.28,-184.332 1865.49,-175.013 1870.49,-166.072\"/>\r\n",
       "<polygon fill=\"black\" stroke=\"black\" points=\"1873.57,-167.736 1875.39,-157.299 1867.46,-164.321 1873.57,-167.736\"/>\r\n",
       "</g>\r\n",
       "<!-- 70 -->\r\n",
       "<g id=\"node71\" class=\"node\"><title>70</title>\r\n",
       "<polygon fill=\"none\" stroke=\"black\" points=\"1884.5,-53 1793.5,-53 1793.5,-0 1884.5,-0 1884.5,-53\"/>\r\n",
       "<text text-anchor=\"middle\" x=\"1839\" y=\"-37.8\" font-family=\"Times New Roman,serif\" font-size=\"14.00\">gini = 0.0</text>\r\n",
       "<text text-anchor=\"middle\" x=\"1839\" y=\"-22.8\" font-family=\"Times New Roman,serif\" font-size=\"14.00\">samples = 1</text>\r\n",
       "<text text-anchor=\"middle\" x=\"1839\" y=\"-7.8\" font-family=\"Times New Roman,serif\" font-size=\"14.00\">value = [1, 0]</text>\r\n",
       "</g>\r\n",
       "<!-- 69&#45;&gt;70 -->\r\n",
       "<g id=\"edge70\" class=\"edge\"><title>69&#45;&gt;70</title>\r\n",
       "<path fill=\"none\" stroke=\"black\" d=\"M1874.76,-88.9485C1869.71,-80.2579 1864.24,-70.8608 1859.13,-62.0917\"/>\r\n",
       "<polygon fill=\"black\" stroke=\"black\" points=\"1862.03,-60.1189 1853.98,-53.2367 1855.98,-63.6401 1862.03,-60.1189\"/>\r\n",
       "</g>\r\n",
       "<!-- 71 -->\r\n",
       "<g id=\"node72\" class=\"node\"><title>71</title>\r\n",
       "<polygon fill=\"none\" stroke=\"black\" points=\"1993.5,-53 1902.5,-53 1902.5,-0 1993.5,-0 1993.5,-53\"/>\r\n",
       "<text text-anchor=\"middle\" x=\"1948\" y=\"-37.8\" font-family=\"Times New Roman,serif\" font-size=\"14.00\">gini = 0.0</text>\r\n",
       "<text text-anchor=\"middle\" x=\"1948\" y=\"-22.8\" font-family=\"Times New Roman,serif\" font-size=\"14.00\">samples = 3</text>\r\n",
       "<text text-anchor=\"middle\" x=\"1948\" y=\"-7.8\" font-family=\"Times New Roman,serif\" font-size=\"14.00\">value = [0, 3]</text>\r\n",
       "</g>\r\n",
       "<!-- 69&#45;&gt;71 -->\r\n",
       "<g id=\"edge71\" class=\"edge\"><title>69&#45;&gt;71</title>\r\n",
       "<path fill=\"none\" stroke=\"black\" d=\"M1912.89,-88.9485C1917.85,-80.2579 1923.22,-70.8608 1928.23,-62.0917\"/>\r\n",
       "<polygon fill=\"black\" stroke=\"black\" points=\"1931.37,-63.6557 1933.29,-53.2367 1925.29,-60.1826 1931.37,-63.6557\"/>\r\n",
       "</g>\r\n",
       "<!-- 74 -->\r\n",
       "<g id=\"node75\" class=\"node\"><title>74</title>\r\n",
       "<polygon fill=\"none\" stroke=\"black\" points=\"1891.5,-573 1790.5,-573 1790.5,-505 1891.5,-505 1891.5,-573\"/>\r\n",
       "<text text-anchor=\"middle\" x=\"1841\" y=\"-557.8\" font-family=\"Times New Roman,serif\" font-size=\"14.00\">X[3] &lt;= &#45;0.944</text>\r\n",
       "<text text-anchor=\"middle\" x=\"1841\" y=\"-542.8\" font-family=\"Times New Roman,serif\" font-size=\"14.00\">gini = 0.117</text>\r\n",
       "<text text-anchor=\"middle\" x=\"1841\" y=\"-527.8\" font-family=\"Times New Roman,serif\" font-size=\"14.00\">samples = 16</text>\r\n",
       "<text text-anchor=\"middle\" x=\"1841\" y=\"-512.8\" font-family=\"Times New Roman,serif\" font-size=\"14.00\">value = [1, 15]</text>\r\n",
       "</g>\r\n",
       "<!-- 73&#45;&gt;74 -->\r\n",
       "<g id=\"edge74\" class=\"edge\"><title>73&#45;&gt;74</title>\r\n",
       "<path fill=\"none\" stroke=\"black\" d=\"M1841,-608.884C1841,-600.778 1841,-591.982 1841,-583.472\"/>\r\n",
       "<polygon fill=\"black\" stroke=\"black\" points=\"1844.5,-583.299 1841,-573.299 1837.5,-583.299 1844.5,-583.299\"/>\r\n",
       "</g>\r\n",
       "<!-- 77 -->\r\n",
       "<g id=\"node78\" class=\"node\"><title>77</title>\r\n",
       "<polygon fill=\"none\" stroke=\"black\" points=\"2000.5,-565.5 1909.5,-565.5 1909.5,-512.5 2000.5,-512.5 2000.5,-565.5\"/>\r\n",
       "<text text-anchor=\"middle\" x=\"1955\" y=\"-550.3\" font-family=\"Times New Roman,serif\" font-size=\"14.00\">gini = 0.0</text>\r\n",
       "<text text-anchor=\"middle\" x=\"1955\" y=\"-535.3\" font-family=\"Times New Roman,serif\" font-size=\"14.00\">samples = 1</text>\r\n",
       "<text text-anchor=\"middle\" x=\"1955\" y=\"-520.3\" font-family=\"Times New Roman,serif\" font-size=\"14.00\">value = [1, 0]</text>\r\n",
       "</g>\r\n",
       "<!-- 73&#45;&gt;77 -->\r\n",
       "<g id=\"edge77\" class=\"edge\"><title>73&#45;&gt;77</title>\r\n",
       "<path fill=\"none\" stroke=\"black\" d=\"M1878.01,-608.884C1891.16,-597.116 1905.94,-583.894 1919.01,-572.203\"/>\r\n",
       "<polygon fill=\"black\" stroke=\"black\" points=\"1921.36,-574.796 1926.48,-565.52 1916.69,-569.58 1921.36,-574.796\"/>\r\n",
       "</g>\r\n",
       "<!-- 75 -->\r\n",
       "<g id=\"node76\" class=\"node\"><title>75</title>\r\n",
       "<polygon fill=\"none\" stroke=\"black\" points=\"1884.5,-461.5 1793.5,-461.5 1793.5,-408.5 1884.5,-408.5 1884.5,-461.5\"/>\r\n",
       "<text text-anchor=\"middle\" x=\"1839\" y=\"-446.3\" font-family=\"Times New Roman,serif\" font-size=\"14.00\">gini = 0.0</text>\r\n",
       "<text text-anchor=\"middle\" x=\"1839\" y=\"-431.3\" font-family=\"Times New Roman,serif\" font-size=\"14.00\">samples = 1</text>\r\n",
       "<text text-anchor=\"middle\" x=\"1839\" y=\"-416.3\" font-family=\"Times New Roman,serif\" font-size=\"14.00\">value = [1, 0]</text>\r\n",
       "</g>\r\n",
       "<!-- 74&#45;&gt;75 -->\r\n",
       "<g id=\"edge75\" class=\"edge\"><title>74&#45;&gt;75</title>\r\n",
       "<path fill=\"none\" stroke=\"black\" d=\"M1840.35,-504.884C1840.14,-494.216 1839.91,-482.352 1839.7,-471.519\"/>\r\n",
       "<polygon fill=\"black\" stroke=\"black\" points=\"1843.2,-471.449 1839.5,-461.52 1836.2,-471.587 1843.2,-471.449\"/>\r\n",
       "</g>\r\n",
       "<!-- 76 -->\r\n",
       "<g id=\"node77\" class=\"node\"><title>76</title>\r\n",
       "<polygon fill=\"none\" stroke=\"black\" points=\"2001,-461.5 1903,-461.5 1903,-408.5 2001,-408.5 2001,-461.5\"/>\r\n",
       "<text text-anchor=\"middle\" x=\"1952\" y=\"-446.3\" font-family=\"Times New Roman,serif\" font-size=\"14.00\">gini = 0.0</text>\r\n",
       "<text text-anchor=\"middle\" x=\"1952\" y=\"-431.3\" font-family=\"Times New Roman,serif\" font-size=\"14.00\">samples = 15</text>\r\n",
       "<text text-anchor=\"middle\" x=\"1952\" y=\"-416.3\" font-family=\"Times New Roman,serif\" font-size=\"14.00\">value = [0, 15]</text>\r\n",
       "</g>\r\n",
       "<!-- 74&#45;&gt;76 -->\r\n",
       "<g id=\"edge76\" class=\"edge\"><title>74&#45;&gt;76</title>\r\n",
       "<path fill=\"none\" stroke=\"black\" d=\"M1877.04,-504.884C1889.72,-493.226 1903.96,-480.141 1916.6,-468.532\"/>\r\n",
       "<polygon fill=\"black\" stroke=\"black\" points=\"1919.23,-470.863 1924.23,-461.52 1914.5,-465.709 1919.23,-470.863\"/>\r\n",
       "</g>\r\n",
       "<!-- 79 -->\r\n",
       "<g id=\"node80\" class=\"node\"><title>79</title>\r\n",
       "<polygon fill=\"none\" stroke=\"black\" points=\"2111.5,-677 2016.5,-677 2016.5,-609 2111.5,-609 2111.5,-677\"/>\r\n",
       "<text text-anchor=\"middle\" x=\"2064\" y=\"-661.8\" font-family=\"Times New Roman,serif\" font-size=\"14.00\">X[2] &lt;= &#45;0.12</text>\r\n",
       "<text text-anchor=\"middle\" x=\"2064\" y=\"-646.8\" font-family=\"Times New Roman,serif\" font-size=\"14.00\">gini = 0.444</text>\r\n",
       "<text text-anchor=\"middle\" x=\"2064\" y=\"-631.8\" font-family=\"Times New Roman,serif\" font-size=\"14.00\">samples = 3</text>\r\n",
       "<text text-anchor=\"middle\" x=\"2064\" y=\"-616.8\" font-family=\"Times New Roman,serif\" font-size=\"14.00\">value = [1, 2]</text>\r\n",
       "</g>\r\n",
       "<!-- 78&#45;&gt;79 -->\r\n",
       "<g id=\"edge79\" class=\"edge\"><title>78&#45;&gt;79</title>\r\n",
       "<path fill=\"none\" stroke=\"black\" d=\"M2064,-712.884C2064,-704.778 2064,-695.982 2064,-687.472\"/>\r\n",
       "<polygon fill=\"black\" stroke=\"black\" points=\"2067.5,-687.299 2064,-677.299 2060.5,-687.299 2067.5,-687.299\"/>\r\n",
       "</g>\r\n",
       "<!-- 82 -->\r\n",
       "<g id=\"node83\" class=\"node\"><title>82</title>\r\n",
       "<polygon fill=\"none\" stroke=\"black\" points=\"2228,-669.5 2130,-669.5 2130,-616.5 2228,-616.5 2228,-669.5\"/>\r\n",
       "<text text-anchor=\"middle\" x=\"2179\" y=\"-654.3\" font-family=\"Times New Roman,serif\" font-size=\"14.00\">gini = 0.0</text>\r\n",
       "<text text-anchor=\"middle\" x=\"2179\" y=\"-639.3\" font-family=\"Times New Roman,serif\" font-size=\"14.00\">samples = 27</text>\r\n",
       "<text text-anchor=\"middle\" x=\"2179\" y=\"-624.3\" font-family=\"Times New Roman,serif\" font-size=\"14.00\">value = [0, 27]</text>\r\n",
       "</g>\r\n",
       "<!-- 78&#45;&gt;82 -->\r\n",
       "<g id=\"edge82\" class=\"edge\"><title>78&#45;&gt;82</title>\r\n",
       "<path fill=\"none\" stroke=\"black\" d=\"M2101.34,-712.884C2114.6,-701.116 2129.51,-687.894 2142.69,-676.203\"/>\r\n",
       "<polygon fill=\"black\" stroke=\"black\" points=\"2145.07,-678.774 2150.23,-669.52 2140.42,-673.537 2145.07,-678.774\"/>\r\n",
       "</g>\r\n",
       "<!-- 80 -->\r\n",
       "<g id=\"node81\" class=\"node\"><title>80</title>\r\n",
       "<polygon fill=\"none\" stroke=\"black\" points=\"2109.5,-565.5 2018.5,-565.5 2018.5,-512.5 2109.5,-512.5 2109.5,-565.5\"/>\r\n",
       "<text text-anchor=\"middle\" x=\"2064\" y=\"-550.3\" font-family=\"Times New Roman,serif\" font-size=\"14.00\">gini = 0.0</text>\r\n",
       "<text text-anchor=\"middle\" x=\"2064\" y=\"-535.3\" font-family=\"Times New Roman,serif\" font-size=\"14.00\">samples = 1</text>\r\n",
       "<text text-anchor=\"middle\" x=\"2064\" y=\"-520.3\" font-family=\"Times New Roman,serif\" font-size=\"14.00\">value = [1, 0]</text>\r\n",
       "</g>\r\n",
       "<!-- 79&#45;&gt;80 -->\r\n",
       "<g id=\"edge80\" class=\"edge\"><title>79&#45;&gt;80</title>\r\n",
       "<path fill=\"none\" stroke=\"black\" d=\"M2064,-608.884C2064,-598.326 2064,-586.597 2064,-575.854\"/>\r\n",
       "<polygon fill=\"black\" stroke=\"black\" points=\"2067.5,-575.52 2064,-565.52 2060.5,-575.52 2067.5,-575.52\"/>\r\n",
       "</g>\r\n",
       "<!-- 81 -->\r\n",
       "<g id=\"node82\" class=\"node\"><title>81</title>\r\n",
       "<polygon fill=\"none\" stroke=\"black\" points=\"2218.5,-565.5 2127.5,-565.5 2127.5,-512.5 2218.5,-512.5 2218.5,-565.5\"/>\r\n",
       "<text text-anchor=\"middle\" x=\"2173\" y=\"-550.3\" font-family=\"Times New Roman,serif\" font-size=\"14.00\">gini = 0.0</text>\r\n",
       "<text text-anchor=\"middle\" x=\"2173\" y=\"-535.3\" font-family=\"Times New Roman,serif\" font-size=\"14.00\">samples = 2</text>\r\n",
       "<text text-anchor=\"middle\" x=\"2173\" y=\"-520.3\" font-family=\"Times New Roman,serif\" font-size=\"14.00\">value = [0, 2]</text>\r\n",
       "</g>\r\n",
       "<!-- 79&#45;&gt;81 -->\r\n",
       "<g id=\"edge81\" class=\"edge\"><title>79&#45;&gt;81</title>\r\n",
       "<path fill=\"none\" stroke=\"black\" d=\"M2099.39,-608.884C2111.85,-597.226 2125.83,-584.141 2138.24,-572.532\"/>\r\n",
       "<polygon fill=\"black\" stroke=\"black\" points=\"2140.82,-574.908 2145.73,-565.52 2136.04,-569.797 2140.82,-574.908\"/>\r\n",
       "</g>\r\n",
       "</g>\r\n",
       "</svg>\r\n"
      ],
      "text/plain": [
       "<graphviz.files.Source at 0x16e23a390b8>"
      ]
     },
     "execution_count": 43,
     "metadata": {},
     "output_type": "execute_result"
    }
   ],
   "source": [
    "with open(\"D_Tree.dot\") as f:\n",
    "    dot_graph = f.read()\n",
    "graphviz.Source(dot_graph)"
   ]
  },
  {
   "cell_type": "code",
   "execution_count": 46,
   "metadata": {},
   "outputs": [],
   "source": [
    "from sklearn.ensemble import RandomForestClassifier"
   ]
  },
  {
   "cell_type": "code",
   "execution_count": 45,
   "metadata": {},
   "outputs": [],
   "source": [
    "model_rf=RandomForestClassifier(n_estimators=1000)\n",
    "model_rf=model_rf.fit(X_train,y_train)"
   ]
  },
  {
   "cell_type": "code",
   "execution_count": 48,
   "metadata": {},
   "outputs": [
    {
     "data": {
      "text/plain": [
       "array([0.11449682, 0.29801377, 0.08335791, 0.09496012, 0.16504059,\n",
       "       0.13380304, 0.11032774])"
      ]
     },
     "execution_count": 48,
     "metadata": {},
     "output_type": "execute_result"
    }
   ],
   "source": [
    "model_rf.feature_importances_"
   ]
  },
  {
   "cell_type": "code",
   "execution_count": 49,
   "metadata": {},
   "outputs": [],
   "source": [
    "y_pred_rf=model_rf.predict(X_test)"
   ]
  },
  {
   "cell_type": "code",
   "execution_count": 50,
   "metadata": {},
   "outputs": [
    {
     "data": {
      "text/plain": [
       "array([[71, 18],\n",
       "       [18, 23]], dtype=int64)"
      ]
     },
     "execution_count": 50,
     "metadata": {},
     "output_type": "execute_result"
    }
   ],
   "source": [
    "metrics.confusion_matrix(y_test,y_pred_rf)"
   ]
  },
  {
   "cell_type": "code",
   "execution_count": 63,
   "metadata": {},
   "outputs": [],
   "source": [
    "model_rf=RandomForestClassifier(n_estimators=1000,max_depth=3)\n",
    "model_rf=model_rf.fit(X_train,y_train)"
   ]
  },
  {
   "cell_type": "code",
   "execution_count": 64,
   "metadata": {},
   "outputs": [
    {
     "data": {
      "text/plain": [
       "array([0.12775377, 0.37310455, 0.04185003, 0.08055734, 0.20099054,\n",
       "       0.11298979, 0.06275398])"
      ]
     },
     "execution_count": 64,
     "metadata": {},
     "output_type": "execute_result"
    }
   ],
   "source": [
    "model_rf.feature_importances_"
   ]
  },
  {
   "cell_type": "code",
   "execution_count": 65,
   "metadata": {},
   "outputs": [],
   "source": [
    "y_pred_rf=model_rf.predict(X_test)"
   ]
  },
  {
   "cell_type": "code",
   "execution_count": 66,
   "metadata": {},
   "outputs": [
    {
     "data": {
      "text/plain": [
       "array([[73, 16],\n",
       "       [21, 20]], dtype=int64)"
      ]
     },
     "execution_count": 66,
     "metadata": {},
     "output_type": "execute_result"
    }
   ],
   "source": [
    "metrics.confusion_matrix(y_test,y_pred_rf)"
   ]
  },
  {
   "cell_type": "code",
   "execution_count": null,
   "metadata": {},
   "outputs": [],
   "source": []
  }
 ],
 "metadata": {
  "kernelspec": {
   "display_name": "Python 3",
   "language": "python",
   "name": "python3"
  },
  "language_info": {
   "codemirror_mode": {
    "name": "ipython",
    "version": 3
   },
   "file_extension": ".py",
   "mimetype": "text/x-python",
   "name": "python",
   "nbconvert_exporter": "python",
   "pygments_lexer": "ipython3",
   "version": "3.6.5"
  }
 },
 "nbformat": 4,
 "nbformat_minor": 2
}
