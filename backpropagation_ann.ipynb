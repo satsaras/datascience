{
 "cells": [
  {
   "cell_type": "code",
   "execution_count": 2,
   "metadata": {},
   "outputs": [],
   "source": [
    "import numpy as np\n",
    "import matplotlib.pyplot as plt"
   ]
  },
  {
   "cell_type": "code",
   "execution_count": 3,
   "metadata": {},
   "outputs": [],
   "source": [
    "def sigmoid(a):\n",
    "    return(1/(1+np.exp(-a)))"
   ]
  },
  {
   "cell_type": "code",
   "execution_count": 28,
   "metadata": {},
   "outputs": [],
   "source": [
    "def forward(X,W1,b1,W2,b2):\n",
    "    Z=sigmoid(X.dot(W1)+b1)\n",
    "    expA=np.exp(Z.dot(W2)+b2)\n",
    "    Y=expA/expA.sum(axis=1,keepdims=True)\n",
    "    return (Y,Z)"
   ]
  },
  {
   "cell_type": "code",
   "execution_count": 43,
   "metadata": {},
   "outputs": [],
   "source": [
    "def classification_rate(P,Y):\n",
    "    n_correct=0\n",
    "    n_total=0\n",
    "    for i in range(len(Y)):\n",
    "        n_total+=1\n",
    "        if Y[i]==P[i]:\n",
    "            n_correct+=1\n",
    "    return(float(n_correct)/n_total)\n",
    "    "
   ]
  },
  {
   "cell_type": "code",
   "execution_count": 73,
   "metadata": {},
   "outputs": [],
   "source": [
    "def main():\n",
    "    Nclass=1000\n",
    "    X1=np.random.randn(Nclass,2)+np.array([0,-2])\n",
    "    X2=np.random.randn(Nclass,2)+np.array([2,-2])\n",
    "    X3=np.random.randn(Nclass,2)+np.array([-2,2])\n",
    "    X=np.vstack([X1,X2,X3])\n",
    "    D=2 ;M=3 ;K=3\n",
    "    Y=np.array([0]*Nclass+[1]*Nclass+[2]*Nclass)\n",
    "    N=len(Y)\n",
    "    T=np.zeros((N,K))\n",
    "    for i in range(N):\n",
    "        T[i,Y[i]]==1\n",
    "  \n",
    "    W1=np.random.randn(D,M)\n",
    "    b1=np.random.randn(M)\n",
    "    W2=np.random.randn(M,K)\n",
    "    b2=np.random.randn(K)\n",
    "    Learning_rate=10e-7\n",
    "    costs=[]\n",
    "    for epoch in range(10000):\n",
    "        output,hidden=forward(X,W1,b1,W2,b2)\n",
    "        if epoch%100==0:\n",
    "            c=cost(T,output)\n",
    "            P=np.argmax(output,axis=1)\n",
    "            r=classification_rate(P,Y)\n",
    "            print('cost: ',c,'classifcation rate: ',r)\n",
    "            costs.append(c)\n",
    "        W2+=Learning_rate*derivative_W2(hidden,T,output)\n",
    "        b2+=Learning_rate*derivative_b2(T,output)\n",
    "        W1+=Learning_rate*derivative_W1(X,hidden,T,output,W2)\n",
    "        b1+=Learning_rate*derivative_b1(T,output,W2,hidden)\n",
    "    plt.plot(costs)\n",
    "    plt.show()\n",
    "    "
   ]
  },
  {
   "cell_type": "code",
   "execution_count": 74,
   "metadata": {},
   "outputs": [],
   "source": [
    "def cost(T,Y):\n",
    "    tot=T*np.log(Y)\n",
    "    return tot.sum()"
   ]
  },
  {
   "cell_type": "code",
   "execution_count": 75,
   "metadata": {},
   "outputs": [],
   "source": [
    "def derivative_W2(Z,T,Y):\n",
    "    N,K=T.shape\n",
    "    M=Z.shape[1]\n",
    "    ret1=np.zeros((M,K))\n",
    "    for n in range(N):\n",
    "        for m in range(M):\n",
    "            for k in range(K):\n",
    "                ret1[m,k]+=(T[n,k]-Y[n,k])*Z[n,m]\n",
    "        return(ret1)"
   ]
  },
  {
   "cell_type": "code",
   "execution_count": 76,
   "metadata": {},
   "outputs": [],
   "source": [
    "def derivative_W1(X,Z,T,Y,W2):\n",
    "    N,D=X.shape\n",
    "    M,K=W2.shape\n",
    "    ret1 = np.zeros((X.shape[1], M))\n",
    "    for n in range(N):\n",
    "         for k in range(K):\n",
    "                for m in range(M):\n",
    "                     for d in range(D):\n",
    "                             ret1[d,m] += (T[n,k] - Y[n,k])*W2[m,k]*Z[n,m]*(1 - Z[n,m])*X[n,d]\n",
    "    return(ret1)\n"
   ]
  },
  {
   "cell_type": "code",
   "execution_count": 77,
   "metadata": {},
   "outputs": [],
   "source": [
    "def derivative_b2(T,Y):\n",
    "    return((T-Y).sum(axis=0))"
   ]
  },
  {
   "cell_type": "code",
   "execution_count": 78,
   "metadata": {},
   "outputs": [],
   "source": [
    "def derivative_b1(T, Y, W2, Z):\n",
    "    return ((T - Y).dot(W2.T) * Z * (1 - Z)).sum(axis=0)"
   ]
  },
  {
   "cell_type": "code",
   "execution_count": 79,
   "metadata": {},
   "outputs": [
    {
     "name": "stdout",
     "output_type": "stream",
     "text": [
      "cost:  0.0 classifcation rate:  0.6313333333333333\n",
      "cost:  0.0 classifcation rate:  0.6416666666666667\n",
      "cost:  0.0 classifcation rate:  0.6443333333333333\n",
      "cost:  0.0 classifcation rate:  0.647\n",
      "cost:  0.0 classifcation rate:  0.6503333333333333\n",
      "cost:  0.0 classifcation rate:  0.647\n",
      "cost:  0.0 classifcation rate:  0.644\n",
      "cost:  0.0 classifcation rate:  0.6376666666666667\n",
      "cost:  0.0 classifcation rate:  0.6326666666666667\n",
      "cost:  0.0 classifcation rate:  0.6243333333333333\n",
      "cost:  0.0 classifcation rate:  0.6143333333333333\n",
      "cost:  0.0 classifcation rate:  0.6013333333333334\n",
      "cost:  0.0 classifcation rate:  0.5853333333333334\n",
      "cost:  0.0 classifcation rate:  0.5736666666666667\n",
      "cost:  0.0 classifcation rate:  0.5483333333333333\n",
      "cost:  0.0 classifcation rate:  0.531\n",
      "cost:  0.0 classifcation rate:  0.507\n",
      "cost:  0.0 classifcation rate:  0.4836666666666667\n",
      "cost:  0.0 classifcation rate:  0.46366666666666667\n",
      "cost:  0.0 classifcation rate:  0.44333333333333336\n",
      "cost:  0.0 classifcation rate:  0.42766666666666664\n",
      "cost:  0.0 classifcation rate:  0.4116666666666667\n",
      "cost:  0.0 classifcation rate:  0.39766666666666667\n",
      "cost:  0.0 classifcation rate:  0.3863333333333333\n",
      "cost:  0.0 classifcation rate:  0.37733333333333335\n",
      "cost:  0.0 classifcation rate:  0.36533333333333334\n",
      "cost:  0.0 classifcation rate:  0.3606666666666667\n",
      "cost:  0.0 classifcation rate:  0.3506666666666667\n",
      "cost:  0.0 classifcation rate:  0.346\n",
      "cost:  0.0 classifcation rate:  0.3416666666666667\n",
      "cost:  0.0 classifcation rate:  0.3393333333333333\n",
      "cost:  0.0 classifcation rate:  0.33566666666666667\n",
      "cost:  0.0 classifcation rate:  0.33166666666666667\n",
      "cost:  0.0 classifcation rate:  0.3263333333333333\n",
      "cost:  0.0 classifcation rate:  0.3233333333333333\n",
      "cost:  0.0 classifcation rate:  0.32233333333333336\n",
      "cost:  0.0 classifcation rate:  0.32566666666666666\n",
      "cost:  0.0 classifcation rate:  0.329\n",
      "cost:  0.0 classifcation rate:  0.33166666666666667\n",
      "cost:  0.0 classifcation rate:  0.3303333333333333\n",
      "cost:  0.0 classifcation rate:  0.328\n",
      "cost:  0.0 classifcation rate:  0.33266666666666667\n",
      "cost:  0.0 classifcation rate:  0.3353333333333333\n",
      "cost:  0.0 classifcation rate:  0.337\n",
      "cost:  0.0 classifcation rate:  0.33866666666666667\n",
      "cost:  0.0 classifcation rate:  0.3413333333333333\n",
      "cost:  0.0 classifcation rate:  0.3456666666666667\n",
      "cost:  0.0 classifcation rate:  0.348\n",
      "cost:  0.0 classifcation rate:  0.35033333333333333\n",
      "cost:  0.0 classifcation rate:  0.3516666666666667\n",
      "cost:  0.0 classifcation rate:  0.355\n",
      "cost:  0.0 classifcation rate:  0.358\n",
      "cost:  0.0 classifcation rate:  0.36133333333333334\n"
     ]
    },
    {
     "ename": "KeyboardInterrupt",
     "evalue": "",
     "output_type": "error",
     "traceback": [
      "\u001b[1;31m---------------------------------------------------------------------------\u001b[0m",
      "\u001b[1;31mKeyboardInterrupt\u001b[0m                         Traceback (most recent call last)",
      "\u001b[1;32m<ipython-input-79-263240bbee7e>\u001b[0m in \u001b[0;36m<module>\u001b[1;34m()\u001b[0m\n\u001b[1;32m----> 1\u001b[1;33m \u001b[0mmain\u001b[0m\u001b[1;33m(\u001b[0m\u001b[1;33m)\u001b[0m\u001b[1;33m\u001b[0m\u001b[0m\n\u001b[0m",
      "\u001b[1;32m<ipython-input-73-ec7940289d3d>\u001b[0m in \u001b[0;36mmain\u001b[1;34m()\u001b[0m\n\u001b[0;32m     28\u001b[0m         \u001b[0mW2\u001b[0m\u001b[1;33m+=\u001b[0m\u001b[0mLearning_rate\u001b[0m\u001b[1;33m*\u001b[0m\u001b[0mderivative_W2\u001b[0m\u001b[1;33m(\u001b[0m\u001b[0mhidden\u001b[0m\u001b[1;33m,\u001b[0m\u001b[0mT\u001b[0m\u001b[1;33m,\u001b[0m\u001b[0moutput\u001b[0m\u001b[1;33m)\u001b[0m\u001b[1;33m\u001b[0m\u001b[0m\n\u001b[0;32m     29\u001b[0m         \u001b[0mb2\u001b[0m\u001b[1;33m+=\u001b[0m\u001b[0mLearning_rate\u001b[0m\u001b[1;33m*\u001b[0m\u001b[0mderivative_b2\u001b[0m\u001b[1;33m(\u001b[0m\u001b[0mT\u001b[0m\u001b[1;33m,\u001b[0m\u001b[0moutput\u001b[0m\u001b[1;33m)\u001b[0m\u001b[1;33m\u001b[0m\u001b[0m\n\u001b[1;32m---> 30\u001b[1;33m         \u001b[0mW1\u001b[0m\u001b[1;33m+=\u001b[0m\u001b[0mLearning_rate\u001b[0m\u001b[1;33m*\u001b[0m\u001b[0mderivative_W1\u001b[0m\u001b[1;33m(\u001b[0m\u001b[0mX\u001b[0m\u001b[1;33m,\u001b[0m\u001b[0mhidden\u001b[0m\u001b[1;33m,\u001b[0m\u001b[0mT\u001b[0m\u001b[1;33m,\u001b[0m\u001b[0moutput\u001b[0m\u001b[1;33m,\u001b[0m\u001b[0mW2\u001b[0m\u001b[1;33m)\u001b[0m\u001b[1;33m\u001b[0m\u001b[0m\n\u001b[0m\u001b[0;32m     31\u001b[0m         \u001b[0mb1\u001b[0m\u001b[1;33m+=\u001b[0m\u001b[0mLearning_rate\u001b[0m\u001b[1;33m*\u001b[0m\u001b[0mderivative_b1\u001b[0m\u001b[1;33m(\u001b[0m\u001b[0mT\u001b[0m\u001b[1;33m,\u001b[0m\u001b[0moutput\u001b[0m\u001b[1;33m,\u001b[0m\u001b[0mW2\u001b[0m\u001b[1;33m,\u001b[0m\u001b[0mhidden\u001b[0m\u001b[1;33m)\u001b[0m\u001b[1;33m\u001b[0m\u001b[0m\n\u001b[0;32m     32\u001b[0m     \u001b[0mplt\u001b[0m\u001b[1;33m.\u001b[0m\u001b[0mplot\u001b[0m\u001b[1;33m(\u001b[0m\u001b[0mcosts\u001b[0m\u001b[1;33m)\u001b[0m\u001b[1;33m\u001b[0m\u001b[0m\n",
      "\u001b[1;32m<ipython-input-76-5916ccdf5404>\u001b[0m in \u001b[0;36mderivative_W1\u001b[1;34m(X, Z, T, Y, W2)\u001b[0m\n\u001b[0;32m      7\u001b[0m                 \u001b[1;32mfor\u001b[0m \u001b[0mm\u001b[0m \u001b[1;32min\u001b[0m \u001b[0mrange\u001b[0m\u001b[1;33m(\u001b[0m\u001b[0mM\u001b[0m\u001b[1;33m)\u001b[0m\u001b[1;33m:\u001b[0m\u001b[1;33m\u001b[0m\u001b[0m\n\u001b[0;32m      8\u001b[0m                      \u001b[1;32mfor\u001b[0m \u001b[0md\u001b[0m \u001b[1;32min\u001b[0m \u001b[0mrange\u001b[0m\u001b[1;33m(\u001b[0m\u001b[0mD\u001b[0m\u001b[1;33m)\u001b[0m\u001b[1;33m:\u001b[0m\u001b[1;33m\u001b[0m\u001b[0m\n\u001b[1;32m----> 9\u001b[1;33m                              \u001b[0mret1\u001b[0m\u001b[1;33m[\u001b[0m\u001b[0md\u001b[0m\u001b[1;33m,\u001b[0m\u001b[0mm\u001b[0m\u001b[1;33m]\u001b[0m \u001b[1;33m+=\u001b[0m \u001b[1;33m(\u001b[0m\u001b[0mT\u001b[0m\u001b[1;33m[\u001b[0m\u001b[0mn\u001b[0m\u001b[1;33m,\u001b[0m\u001b[0mk\u001b[0m\u001b[1;33m]\u001b[0m \u001b[1;33m-\u001b[0m \u001b[0mY\u001b[0m\u001b[1;33m[\u001b[0m\u001b[0mn\u001b[0m\u001b[1;33m,\u001b[0m\u001b[0mk\u001b[0m\u001b[1;33m]\u001b[0m\u001b[1;33m)\u001b[0m\u001b[1;33m*\u001b[0m\u001b[0mW2\u001b[0m\u001b[1;33m[\u001b[0m\u001b[0mm\u001b[0m\u001b[1;33m,\u001b[0m\u001b[0mk\u001b[0m\u001b[1;33m]\u001b[0m\u001b[1;33m*\u001b[0m\u001b[0mZ\u001b[0m\u001b[1;33m[\u001b[0m\u001b[0mn\u001b[0m\u001b[1;33m,\u001b[0m\u001b[0mm\u001b[0m\u001b[1;33m]\u001b[0m\u001b[1;33m*\u001b[0m\u001b[1;33m(\u001b[0m\u001b[1;36m1\u001b[0m \u001b[1;33m-\u001b[0m \u001b[0mZ\u001b[0m\u001b[1;33m[\u001b[0m\u001b[0mn\u001b[0m\u001b[1;33m,\u001b[0m\u001b[0mm\u001b[0m\u001b[1;33m]\u001b[0m\u001b[1;33m)\u001b[0m\u001b[1;33m*\u001b[0m\u001b[0mX\u001b[0m\u001b[1;33m[\u001b[0m\u001b[0mn\u001b[0m\u001b[1;33m,\u001b[0m\u001b[0md\u001b[0m\u001b[1;33m]\u001b[0m\u001b[1;33m\u001b[0m\u001b[0m\n\u001b[0m\u001b[0;32m     10\u001b[0m     \u001b[1;32mreturn\u001b[0m\u001b[1;33m(\u001b[0m\u001b[0mret1\u001b[0m\u001b[1;33m)\u001b[0m\u001b[1;33m\u001b[0m\u001b[0m\n",
      "\u001b[1;31mKeyboardInterrupt\u001b[0m: "
     ]
    }
   ],
   "source": [
    "main()"
   ]
  },
  {
   "cell_type": "code",
   "execution_count": 32,
   "metadata": {},
   "outputs": [],
   "source": [
    "    Nclass=1000\n",
    "    X1=np.random.randn(Nclass,2)+np.array([0,-2])\n",
    "    X2=np.random.randn(Nclass,2)+np.array([2,-2])\n",
    "    X3=np.random.randn(Nclass,2)+np.array([-2,2])\n",
    "    X=np.vstack([X1,X2,X3])\n",
    "    D=2 ;M=3 ;K=3\n",
    "    Y=np.array([0]*Nclass+[1]*Nclass+[2]*Nclass)\n",
    "    N=len(Y)\n",
    "    T=np.zeros((N,K))\n",
    "    for i in range(N):\n",
    "        T[i,Y[i]]==1\n",
    "  \n",
    "    W1=np.random.randn(D,M)\n",
    "    b1=np.random.randn(M)\n",
    "    W2=np.random.randn(M,K)\n",
    "    b2=np.random.randn(K)\n",
    "    Learning_rate=10e-3\n",
    "    output,hidden=forward(X,W1,b1,W2,b2)"
   ]
  },
  {
   "cell_type": "code",
   "execution_count": 71,
   "metadata": {},
   "outputs": [],
   "source": [
    "np.random.seed(1)"
   ]
  },
  {
   "cell_type": "code",
   "execution_count": 36,
   "metadata": {},
   "outputs": [],
   "source": [
    "c=cost(T,output)"
   ]
  },
  {
   "cell_type": "code",
   "execution_count": 37,
   "metadata": {},
   "outputs": [
    {
     "data": {
      "text/plain": [
       "0.0"
      ]
     },
     "execution_count": 37,
     "metadata": {},
     "output_type": "execute_result"
    }
   ],
   "source": [
    "c"
   ]
  },
  {
   "cell_type": "code",
   "execution_count": null,
   "metadata": {},
   "outputs": [],
   "source": []
  }
 ],
 "metadata": {
  "kernelspec": {
   "display_name": "Python 3",
   "language": "python",
   "name": "python3"
  },
  "language_info": {
   "codemirror_mode": {
    "name": "ipython",
    "version": 3
   },
   "file_extension": ".py",
   "mimetype": "text/x-python",
   "name": "python",
   "nbconvert_exporter": "python",
   "pygments_lexer": "ipython3",
   "version": "3.6.5"
  }
 },
 "nbformat": 4,
 "nbformat_minor": 2
}
